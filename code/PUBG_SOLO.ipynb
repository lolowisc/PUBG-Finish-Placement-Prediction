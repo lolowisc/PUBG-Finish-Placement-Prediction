{
 "cells": [
  {
   "cell_type": "markdown",
   "metadata": {},
   "source": [
    "# Demo Solo"
   ]
  },
  {
   "cell_type": "markdown",
   "metadata": {},
   "source": [
    "## Since some code executed by PyCharm, I only copied the final answers."
   ]
  },
  {
   "cell_type": "code",
   "execution_count": 1,
   "metadata": {},
   "outputs": [],
   "source": [
    "from tqdm import tqdm\n",
    "import numpy as np\n",
    "import pandas as pd\n",
    "import matplotlib.pyplot as plt\n",
    "import seaborn as sns\n",
    "from sklearn.cluster import KMeans\n",
    "from sklearn.model_selection import train_test_split\n",
    "from sklearn.model_selection import GridSearchCV\n",
    "from sklearn.ensemble import RandomForestRegressor\n",
    "from sklearn.metrics import mean_squared_error\n",
    "from sklearn.metrics import r2_score\n",
    "from mlxtend.evaluate import feature_importance_permutation\n",
    "from sklearn.decomposition import PCA\n",
    "from sklearn.neighbors import KNeighborsRegressor\n",
    "from sklearn.preprocessing import StandardScaler\n",
    "from sklearn.pipeline import make_pipeline\n",
    "pd.set_option('display.max_columns', None) # 看dataframe所有列"
   ]
  },
  {
   "cell_type": "code",
   "execution_count": 17,
   "metadata": {},
   "outputs": [
    {
     "name": "stderr",
     "output_type": "stream",
     "text": [
      "100%|██████████| 4/4 [00:00<00:00, 2443.17it/s]"
     ]
    },
    {
     "name": "stdout",
     "output_type": "stream",
     "text": [
      "0\n",
      "1\n",
      "2\n",
      "3\n"
     ]
    },
    {
     "name": "stderr",
     "output_type": "stream",
     "text": [
      "\n"
     ]
    }
   ],
   "source": [
    "#for i in tqdm(range(4)):\n",
    "#   print(i)"
   ]
  },
  {
   "cell_type": "markdown",
   "metadata": {},
   "source": [
    "# 1. Data Cleaning"
   ]
  },
  {
   "cell_type": "code",
   "execution_count": 177,
   "metadata": {},
   "outputs": [],
   "source": [
    "dat_intact = pd.read_csv('./train_V2.csv')"
   ]
  },
  {
   "cell_type": "code",
   "execution_count": 178,
   "metadata": {},
   "outputs": [
    {
     "data": {
      "text/html": [
       "<div>\n",
       "<style scoped>\n",
       "    .dataframe tbody tr th:only-of-type {\n",
       "        vertical-align: middle;\n",
       "    }\n",
       "\n",
       "    .dataframe tbody tr th {\n",
       "        vertical-align: top;\n",
       "    }\n",
       "\n",
       "    .dataframe thead th {\n",
       "        text-align: right;\n",
       "    }\n",
       "</style>\n",
       "<table border=\"1\" class=\"dataframe\">\n",
       "  <thead>\n",
       "    <tr style=\"text-align: right;\">\n",
       "      <th></th>\n",
       "      <th>Id</th>\n",
       "      <th>groupId</th>\n",
       "      <th>matchId</th>\n",
       "      <th>assists</th>\n",
       "      <th>boosts</th>\n",
       "      <th>damageDealt</th>\n",
       "      <th>DBNOs</th>\n",
       "      <th>headshotKills</th>\n",
       "      <th>heals</th>\n",
       "      <th>killPlace</th>\n",
       "      <th>killPoints</th>\n",
       "      <th>kills</th>\n",
       "      <th>killStreaks</th>\n",
       "      <th>longestKill</th>\n",
       "      <th>matchDuration</th>\n",
       "      <th>matchType</th>\n",
       "      <th>maxPlace</th>\n",
       "      <th>numGroups</th>\n",
       "      <th>rankPoints</th>\n",
       "      <th>revives</th>\n",
       "      <th>rideDistance</th>\n",
       "      <th>roadKills</th>\n",
       "      <th>swimDistance</th>\n",
       "      <th>teamKills</th>\n",
       "      <th>vehicleDestroys</th>\n",
       "      <th>walkDistance</th>\n",
       "      <th>weaponsAcquired</th>\n",
       "      <th>winPoints</th>\n",
       "      <th>winPlacePerc</th>\n",
       "    </tr>\n",
       "  </thead>\n",
       "  <tbody>\n",
       "    <tr>\n",
       "      <th>0</th>\n",
       "      <td>7f96b2f878858a</td>\n",
       "      <td>4d4b580de459be</td>\n",
       "      <td>a10357fd1a4a91</td>\n",
       "      <td>0</td>\n",
       "      <td>0</td>\n",
       "      <td>0.00</td>\n",
       "      <td>0</td>\n",
       "      <td>0</td>\n",
       "      <td>0</td>\n",
       "      <td>60</td>\n",
       "      <td>1241</td>\n",
       "      <td>0</td>\n",
       "      <td>0</td>\n",
       "      <td>0.00</td>\n",
       "      <td>1306</td>\n",
       "      <td>squad-fpp</td>\n",
       "      <td>28</td>\n",
       "      <td>26</td>\n",
       "      <td>-1</td>\n",
       "      <td>0</td>\n",
       "      <td>0.0000</td>\n",
       "      <td>0</td>\n",
       "      <td>0.00</td>\n",
       "      <td>0</td>\n",
       "      <td>0</td>\n",
       "      <td>244.80</td>\n",
       "      <td>1</td>\n",
       "      <td>1466</td>\n",
       "      <td>0.4444</td>\n",
       "    </tr>\n",
       "    <tr>\n",
       "      <th>1</th>\n",
       "      <td>eef90569b9d03c</td>\n",
       "      <td>684d5656442f9e</td>\n",
       "      <td>aeb375fc57110c</td>\n",
       "      <td>0</td>\n",
       "      <td>0</td>\n",
       "      <td>91.47</td>\n",
       "      <td>0</td>\n",
       "      <td>0</td>\n",
       "      <td>0</td>\n",
       "      <td>57</td>\n",
       "      <td>0</td>\n",
       "      <td>0</td>\n",
       "      <td>0</td>\n",
       "      <td>0.00</td>\n",
       "      <td>1777</td>\n",
       "      <td>squad-fpp</td>\n",
       "      <td>26</td>\n",
       "      <td>25</td>\n",
       "      <td>1484</td>\n",
       "      <td>0</td>\n",
       "      <td>0.0045</td>\n",
       "      <td>0</td>\n",
       "      <td>11.04</td>\n",
       "      <td>0</td>\n",
       "      <td>0</td>\n",
       "      <td>1434.00</td>\n",
       "      <td>5</td>\n",
       "      <td>0</td>\n",
       "      <td>0.6400</td>\n",
       "    </tr>\n",
       "    <tr>\n",
       "      <th>2</th>\n",
       "      <td>1eaf90ac73de72</td>\n",
       "      <td>6a4a42c3245a74</td>\n",
       "      <td>110163d8bb94ae</td>\n",
       "      <td>1</td>\n",
       "      <td>0</td>\n",
       "      <td>68.00</td>\n",
       "      <td>0</td>\n",
       "      <td>0</td>\n",
       "      <td>0</td>\n",
       "      <td>47</td>\n",
       "      <td>0</td>\n",
       "      <td>0</td>\n",
       "      <td>0</td>\n",
       "      <td>0.00</td>\n",
       "      <td>1318</td>\n",
       "      <td>duo</td>\n",
       "      <td>50</td>\n",
       "      <td>47</td>\n",
       "      <td>1491</td>\n",
       "      <td>0</td>\n",
       "      <td>0.0000</td>\n",
       "      <td>0</td>\n",
       "      <td>0.00</td>\n",
       "      <td>0</td>\n",
       "      <td>0</td>\n",
       "      <td>161.80</td>\n",
       "      <td>2</td>\n",
       "      <td>0</td>\n",
       "      <td>0.7755</td>\n",
       "    </tr>\n",
       "    <tr>\n",
       "      <th>3</th>\n",
       "      <td>4616d365dd2853</td>\n",
       "      <td>a930a9c79cd721</td>\n",
       "      <td>f1f1f4ef412d7e</td>\n",
       "      <td>0</td>\n",
       "      <td>0</td>\n",
       "      <td>32.90</td>\n",
       "      <td>0</td>\n",
       "      <td>0</td>\n",
       "      <td>0</td>\n",
       "      <td>75</td>\n",
       "      <td>0</td>\n",
       "      <td>0</td>\n",
       "      <td>0</td>\n",
       "      <td>0.00</td>\n",
       "      <td>1436</td>\n",
       "      <td>squad-fpp</td>\n",
       "      <td>31</td>\n",
       "      <td>30</td>\n",
       "      <td>1408</td>\n",
       "      <td>0</td>\n",
       "      <td>0.0000</td>\n",
       "      <td>0</td>\n",
       "      <td>0.00</td>\n",
       "      <td>0</td>\n",
       "      <td>0</td>\n",
       "      <td>202.70</td>\n",
       "      <td>3</td>\n",
       "      <td>0</td>\n",
       "      <td>0.1667</td>\n",
       "    </tr>\n",
       "    <tr>\n",
       "      <th>4</th>\n",
       "      <td>315c96c26c9aac</td>\n",
       "      <td>de04010b3458dd</td>\n",
       "      <td>6dc8ff871e21e6</td>\n",
       "      <td>0</td>\n",
       "      <td>0</td>\n",
       "      <td>100.00</td>\n",
       "      <td>0</td>\n",
       "      <td>0</td>\n",
       "      <td>0</td>\n",
       "      <td>45</td>\n",
       "      <td>0</td>\n",
       "      <td>1</td>\n",
       "      <td>1</td>\n",
       "      <td>58.53</td>\n",
       "      <td>1424</td>\n",
       "      <td>solo-fpp</td>\n",
       "      <td>97</td>\n",
       "      <td>95</td>\n",
       "      <td>1560</td>\n",
       "      <td>0</td>\n",
       "      <td>0.0000</td>\n",
       "      <td>0</td>\n",
       "      <td>0.00</td>\n",
       "      <td>0</td>\n",
       "      <td>0</td>\n",
       "      <td>49.75</td>\n",
       "      <td>2</td>\n",
       "      <td>0</td>\n",
       "      <td>0.1875</td>\n",
       "    </tr>\n",
       "  </tbody>\n",
       "</table>\n",
       "</div>"
      ],
      "text/plain": [
       "               Id         groupId         matchId  assists  boosts  \\\n",
       "0  7f96b2f878858a  4d4b580de459be  a10357fd1a4a91        0       0   \n",
       "1  eef90569b9d03c  684d5656442f9e  aeb375fc57110c        0       0   \n",
       "2  1eaf90ac73de72  6a4a42c3245a74  110163d8bb94ae        1       0   \n",
       "3  4616d365dd2853  a930a9c79cd721  f1f1f4ef412d7e        0       0   \n",
       "4  315c96c26c9aac  de04010b3458dd  6dc8ff871e21e6        0       0   \n",
       "\n",
       "   damageDealt  DBNOs  headshotKills  heals  killPlace  killPoints  kills  \\\n",
       "0         0.00      0              0      0         60        1241      0   \n",
       "1        91.47      0              0      0         57           0      0   \n",
       "2        68.00      0              0      0         47           0      0   \n",
       "3        32.90      0              0      0         75           0      0   \n",
       "4       100.00      0              0      0         45           0      1   \n",
       "\n",
       "   killStreaks  longestKill  matchDuration  matchType  maxPlace  numGroups  \\\n",
       "0            0         0.00           1306  squad-fpp        28         26   \n",
       "1            0         0.00           1777  squad-fpp        26         25   \n",
       "2            0         0.00           1318        duo        50         47   \n",
       "3            0         0.00           1436  squad-fpp        31         30   \n",
       "4            1        58.53           1424   solo-fpp        97         95   \n",
       "\n",
       "   rankPoints  revives  rideDistance  roadKills  swimDistance  teamKills  \\\n",
       "0          -1        0        0.0000          0          0.00          0   \n",
       "1        1484        0        0.0045          0         11.04          0   \n",
       "2        1491        0        0.0000          0          0.00          0   \n",
       "3        1408        0        0.0000          0          0.00          0   \n",
       "4        1560        0        0.0000          0          0.00          0   \n",
       "\n",
       "   vehicleDestroys  walkDistance  weaponsAcquired  winPoints  winPlacePerc  \n",
       "0                0        244.80                1       1466        0.4444  \n",
       "1                0       1434.00                5          0        0.6400  \n",
       "2                0        161.80                2          0        0.7755  \n",
       "3                0        202.70                3          0        0.1667  \n",
       "4                0         49.75                2          0        0.1875  "
      ]
     },
     "execution_count": 178,
     "metadata": {},
     "output_type": "execute_result"
    }
   ],
   "source": [
    "dat_intact.head()"
   ]
  },
  {
   "cell_type": "code",
   "execution_count": 179,
   "metadata": {},
   "outputs": [
    {
     "data": {
      "text/plain": [
       "(4446966, 29)"
      ]
     },
     "execution_count": 179,
     "metadata": {},
     "output_type": "execute_result"
    }
   ],
   "source": [
    "dat_intact.shape"
   ]
  },
  {
   "cell_type": "code",
   "execution_count": 53,
   "metadata": {},
   "outputs": [
    {
     "data": {
      "text/plain": [
       "Index(['Id', 'groupId', 'matchId', 'assists', 'boosts', 'damageDealt', 'DBNOs',\n",
       "       'headshotKills', 'heals', 'killPlace', 'killPoints', 'kills',\n",
       "       'killStreaks', 'longestKill', 'matchDuration', 'matchType', 'maxPlace',\n",
       "       'numGroups', 'rankPoints', 'revives', 'rideDistance', 'roadKills',\n",
       "       'swimDistance', 'teamKills', 'vehicleDestroys', 'walkDistance',\n",
       "       'weaponsAcquired', 'winPoints', 'winPlacePerc'],\n",
       "      dtype='object')"
      ]
     },
     "execution_count": 53,
     "metadata": {},
     "output_type": "execute_result"
    }
   ],
   "source": [
    "dat_intact.columns"
   ]
  },
  {
   "cell_type": "markdown",
   "metadata": {},
   "source": [
    "# (1). Missing Values"
   ]
  },
  {
   "cell_type": "code",
   "execution_count": 60,
   "metadata": {},
   "outputs": [
    {
     "data": {
      "text/html": [
       "<div>\n",
       "<style scoped>\n",
       "    .dataframe tbody tr th:only-of-type {\n",
       "        vertical-align: middle;\n",
       "    }\n",
       "\n",
       "    .dataframe tbody tr th {\n",
       "        vertical-align: top;\n",
       "    }\n",
       "\n",
       "    .dataframe thead th {\n",
       "        text-align: right;\n",
       "    }\n",
       "</style>\n",
       "<table border=\"1\" class=\"dataframe\">\n",
       "  <thead>\n",
       "    <tr style=\"text-align: right;\">\n",
       "      <th></th>\n",
       "      <th>Id</th>\n",
       "      <th>groupId</th>\n",
       "      <th>matchId</th>\n",
       "      <th>assists</th>\n",
       "      <th>boosts</th>\n",
       "      <th>damageDealt</th>\n",
       "      <th>DBNOs</th>\n",
       "      <th>headshotKills</th>\n",
       "      <th>heals</th>\n",
       "      <th>killPlace</th>\n",
       "      <th>killPoints</th>\n",
       "      <th>kills</th>\n",
       "      <th>killStreaks</th>\n",
       "      <th>longestKill</th>\n",
       "      <th>matchDuration</th>\n",
       "      <th>matchType</th>\n",
       "      <th>maxPlace</th>\n",
       "      <th>numGroups</th>\n",
       "      <th>rankPoints</th>\n",
       "      <th>revives</th>\n",
       "      <th>rideDistance</th>\n",
       "      <th>roadKills</th>\n",
       "      <th>swimDistance</th>\n",
       "      <th>teamKills</th>\n",
       "      <th>vehicleDestroys</th>\n",
       "      <th>walkDistance</th>\n",
       "      <th>weaponsAcquired</th>\n",
       "      <th>winPoints</th>\n",
       "      <th>winPlacePerc</th>\n",
       "    </tr>\n",
       "  </thead>\n",
       "  <tbody>\n",
       "    <tr>\n",
       "      <th>2744604</th>\n",
       "      <td>f70c74418bb064</td>\n",
       "      <td>12dfbede33f92b</td>\n",
       "      <td>224a123c53e008</td>\n",
       "      <td>0</td>\n",
       "      <td>0</td>\n",
       "      <td>0.0</td>\n",
       "      <td>0</td>\n",
       "      <td>0</td>\n",
       "      <td>0</td>\n",
       "      <td>1</td>\n",
       "      <td>0</td>\n",
       "      <td>0</td>\n",
       "      <td>0</td>\n",
       "      <td>0.0</td>\n",
       "      <td>9</td>\n",
       "      <td>solo-fpp</td>\n",
       "      <td>1</td>\n",
       "      <td>1</td>\n",
       "      <td>1574</td>\n",
       "      <td>0</td>\n",
       "      <td>0.0</td>\n",
       "      <td>0</td>\n",
       "      <td>0.0</td>\n",
       "      <td>0</td>\n",
       "      <td>0</td>\n",
       "      <td>0.0</td>\n",
       "      <td>0</td>\n",
       "      <td>0</td>\n",
       "      <td>NaN</td>\n",
       "    </tr>\n",
       "  </tbody>\n",
       "</table>\n",
       "</div>"
      ],
      "text/plain": [
       "                     Id         groupId         matchId  assists  boosts  \\\n",
       "2744604  f70c74418bb064  12dfbede33f92b  224a123c53e008        0       0   \n",
       "\n",
       "         damageDealt  DBNOs  headshotKills  heals  killPlace  killPoints  \\\n",
       "2744604          0.0      0              0      0          1           0   \n",
       "\n",
       "         kills  killStreaks  longestKill  matchDuration matchType  maxPlace  \\\n",
       "2744604      0            0          0.0              9  solo-fpp         1   \n",
       "\n",
       "         numGroups  rankPoints  revives  rideDistance  roadKills  \\\n",
       "2744604          1        1574        0           0.0          0   \n",
       "\n",
       "         swimDistance  teamKills  vehicleDestroys  walkDistance  \\\n",
       "2744604           0.0          0                0           0.0   \n",
       "\n",
       "         weaponsAcquired  winPoints  winPlacePerc  \n",
       "2744604                0          0           NaN  "
      ]
     },
     "execution_count": 60,
     "metadata": {},
     "output_type": "execute_result"
    }
   ],
   "source": [
    "dat_intact[dat_intact['winPlacePerc'].isnull()]        #处理缺失值"
   ]
  },
  {
   "cell_type": "code",
   "execution_count": 61,
   "metadata": {},
   "outputs": [],
   "source": [
    "dat1 = dat_intact.drop(2744604)     #默认删行"
   ]
  },
  {
   "cell_type": "code",
   "execution_count": 62,
   "metadata": {},
   "outputs": [
    {
     "data": {
      "text/plain": [
       "(4446965, 29)"
      ]
     },
     "execution_count": 62,
     "metadata": {},
     "output_type": "execute_result"
    }
   ],
   "source": [
    "dat1.shape"
   ]
  },
  {
   "cell_type": "markdown",
   "metadata": {},
   "source": [
    "# (2). Outliers"
   ]
  },
  {
   "cell_type": "code",
   "execution_count": 65,
   "metadata": {},
   "outputs": [],
   "source": [
    "c1 = (dat1['rideDistance']==0) & (dat1['walkDistance']==0) & (dat1['swimDistance']==0) & (dat1['kills']>0)   #不移动杀人"
   ]
  },
  {
   "cell_type": "code",
   "execution_count": 66,
   "metadata": {},
   "outputs": [
    {
     "data": {
      "text/plain": [
       "Int64Index([   1824,    6673,   11892,   14631,   15591,   20881,   23298,\n",
       "              24640,   25659,   30079,\n",
       "            ...\n",
       "            4426500, 4429697, 4432954, 4436511, 4437516, 4440232, 4440898,\n",
       "            4440927, 4441511, 4446682],\n",
       "           dtype='int64', length=1535)"
      ]
     },
     "execution_count": 66,
     "metadata": {},
     "output_type": "execute_result"
    }
   ],
   "source": [
    "dat1[c1].index"
   ]
  },
  {
   "cell_type": "code",
   "execution_count": 67,
   "metadata": {},
   "outputs": [],
   "source": [
    "dat2 = dat1.drop(dat1[c1].index)"
   ]
  },
  {
   "cell_type": "code",
   "execution_count": 104,
   "metadata": {},
   "outputs": [
    {
     "data": {
      "text/plain": [
       "(4445430, 29)"
      ]
     },
     "execution_count": 104,
     "metadata": {},
     "output_type": "execute_result"
    }
   ],
   "source": [
    "dat2.shape"
   ]
  },
  {
   "cell_type": "code",
   "execution_count": 103,
   "metadata": {},
   "outputs": [
    {
     "data": {
      "text/html": [
       "<div>\n",
       "<style scoped>\n",
       "    .dataframe tbody tr th:only-of-type {\n",
       "        vertical-align: middle;\n",
       "    }\n",
       "\n",
       "    .dataframe tbody tr th {\n",
       "        vertical-align: top;\n",
       "    }\n",
       "\n",
       "    .dataframe thead th {\n",
       "        text-align: right;\n",
       "    }\n",
       "</style>\n",
       "<table border=\"1\" class=\"dataframe\">\n",
       "  <thead>\n",
       "    <tr style=\"text-align: right;\">\n",
       "      <th></th>\n",
       "      <th>Id</th>\n",
       "      <th>groupId</th>\n",
       "      <th>matchId</th>\n",
       "      <th>assists</th>\n",
       "      <th>boosts</th>\n",
       "      <th>damageDealt</th>\n",
       "      <th>DBNOs</th>\n",
       "      <th>headshotKills</th>\n",
       "      <th>heals</th>\n",
       "      <th>killPlace</th>\n",
       "      <th>killPoints</th>\n",
       "      <th>kills</th>\n",
       "      <th>killStreaks</th>\n",
       "      <th>longestKill</th>\n",
       "      <th>matchDuration</th>\n",
       "      <th>matchType</th>\n",
       "      <th>maxPlace</th>\n",
       "      <th>numGroups</th>\n",
       "      <th>rankPoints</th>\n",
       "      <th>revives</th>\n",
       "      <th>rideDistance</th>\n",
       "      <th>roadKills</th>\n",
       "      <th>swimDistance</th>\n",
       "      <th>teamKills</th>\n",
       "      <th>vehicleDestroys</th>\n",
       "      <th>walkDistance</th>\n",
       "      <th>weaponsAcquired</th>\n",
       "      <th>winPoints</th>\n",
       "      <th>winPlacePerc</th>\n",
       "    </tr>\n",
       "  </thead>\n",
       "  <tbody>\n",
       "    <tr>\n",
       "      <th>0</th>\n",
       "      <td>7f96b2f878858a</td>\n",
       "      <td>4d4b580de459be</td>\n",
       "      <td>a10357fd1a4a91</td>\n",
       "      <td>0</td>\n",
       "      <td>0</td>\n",
       "      <td>0.00</td>\n",
       "      <td>0</td>\n",
       "      <td>0</td>\n",
       "      <td>0</td>\n",
       "      <td>60</td>\n",
       "      <td>1241</td>\n",
       "      <td>0</td>\n",
       "      <td>0</td>\n",
       "      <td>0.00</td>\n",
       "      <td>1306</td>\n",
       "      <td>squad-fpp</td>\n",
       "      <td>28</td>\n",
       "      <td>26</td>\n",
       "      <td>-1</td>\n",
       "      <td>0</td>\n",
       "      <td>0.0000</td>\n",
       "      <td>0</td>\n",
       "      <td>0.00</td>\n",
       "      <td>0</td>\n",
       "      <td>0</td>\n",
       "      <td>244.8</td>\n",
       "      <td>1</td>\n",
       "      <td>1466</td>\n",
       "      <td>0.4444</td>\n",
       "    </tr>\n",
       "    <tr>\n",
       "      <th>1</th>\n",
       "      <td>eef90569b9d03c</td>\n",
       "      <td>684d5656442f9e</td>\n",
       "      <td>aeb375fc57110c</td>\n",
       "      <td>0</td>\n",
       "      <td>0</td>\n",
       "      <td>91.47</td>\n",
       "      <td>0</td>\n",
       "      <td>0</td>\n",
       "      <td>0</td>\n",
       "      <td>57</td>\n",
       "      <td>0</td>\n",
       "      <td>0</td>\n",
       "      <td>0</td>\n",
       "      <td>0.00</td>\n",
       "      <td>1777</td>\n",
       "      <td>squad-fpp</td>\n",
       "      <td>26</td>\n",
       "      <td>25</td>\n",
       "      <td>1484</td>\n",
       "      <td>0</td>\n",
       "      <td>0.0045</td>\n",
       "      <td>0</td>\n",
       "      <td>11.04</td>\n",
       "      <td>0</td>\n",
       "      <td>0</td>\n",
       "      <td>1434.0</td>\n",
       "      <td>5</td>\n",
       "      <td>0</td>\n",
       "      <td>0.6400</td>\n",
       "    </tr>\n",
       "    <tr>\n",
       "      <th>2</th>\n",
       "      <td>1eaf90ac73de72</td>\n",
       "      <td>6a4a42c3245a74</td>\n",
       "      <td>110163d8bb94ae</td>\n",
       "      <td>1</td>\n",
       "      <td>0</td>\n",
       "      <td>68.00</td>\n",
       "      <td>0</td>\n",
       "      <td>0</td>\n",
       "      <td>0</td>\n",
       "      <td>47</td>\n",
       "      <td>0</td>\n",
       "      <td>0</td>\n",
       "      <td>0</td>\n",
       "      <td>0.00</td>\n",
       "      <td>1318</td>\n",
       "      <td>duo</td>\n",
       "      <td>50</td>\n",
       "      <td>47</td>\n",
       "      <td>1491</td>\n",
       "      <td>0</td>\n",
       "      <td>0.0000</td>\n",
       "      <td>0</td>\n",
       "      <td>0.00</td>\n",
       "      <td>0</td>\n",
       "      <td>0</td>\n",
       "      <td>161.8</td>\n",
       "      <td>2</td>\n",
       "      <td>0</td>\n",
       "      <td>0.7755</td>\n",
       "    </tr>\n",
       "    <tr>\n",
       "      <th>3</th>\n",
       "      <td>4616d365dd2853</td>\n",
       "      <td>a930a9c79cd721</td>\n",
       "      <td>f1f1f4ef412d7e</td>\n",
       "      <td>0</td>\n",
       "      <td>0</td>\n",
       "      <td>32.90</td>\n",
       "      <td>0</td>\n",
       "      <td>0</td>\n",
       "      <td>0</td>\n",
       "      <td>75</td>\n",
       "      <td>0</td>\n",
       "      <td>0</td>\n",
       "      <td>0</td>\n",
       "      <td>0.00</td>\n",
       "      <td>1436</td>\n",
       "      <td>squad-fpp</td>\n",
       "      <td>31</td>\n",
       "      <td>30</td>\n",
       "      <td>1408</td>\n",
       "      <td>0</td>\n",
       "      <td>0.0000</td>\n",
       "      <td>0</td>\n",
       "      <td>0.00</td>\n",
       "      <td>0</td>\n",
       "      <td>0</td>\n",
       "      <td>202.7</td>\n",
       "      <td>3</td>\n",
       "      <td>0</td>\n",
       "      <td>0.1667</td>\n",
       "    </tr>\n",
       "    <tr>\n",
       "      <th>5</th>\n",
       "      <td>ff79c12f326506</td>\n",
       "      <td>289a6836a88d27</td>\n",
       "      <td>bac52627a12114</td>\n",
       "      <td>0</td>\n",
       "      <td>0</td>\n",
       "      <td>100.00</td>\n",
       "      <td>1</td>\n",
       "      <td>1</td>\n",
       "      <td>0</td>\n",
       "      <td>44</td>\n",
       "      <td>0</td>\n",
       "      <td>1</td>\n",
       "      <td>1</td>\n",
       "      <td>18.44</td>\n",
       "      <td>1395</td>\n",
       "      <td>squad-fpp</td>\n",
       "      <td>28</td>\n",
       "      <td>28</td>\n",
       "      <td>1418</td>\n",
       "      <td>0</td>\n",
       "      <td>0.0000</td>\n",
       "      <td>0</td>\n",
       "      <td>0.00</td>\n",
       "      <td>0</td>\n",
       "      <td>0</td>\n",
       "      <td>34.7</td>\n",
       "      <td>1</td>\n",
       "      <td>0</td>\n",
       "      <td>0.0370</td>\n",
       "    </tr>\n",
       "  </tbody>\n",
       "</table>\n",
       "</div>"
      ],
      "text/plain": [
       "               Id         groupId         matchId  assists  boosts  \\\n",
       "0  7f96b2f878858a  4d4b580de459be  a10357fd1a4a91        0       0   \n",
       "1  eef90569b9d03c  684d5656442f9e  aeb375fc57110c        0       0   \n",
       "2  1eaf90ac73de72  6a4a42c3245a74  110163d8bb94ae        1       0   \n",
       "3  4616d365dd2853  a930a9c79cd721  f1f1f4ef412d7e        0       0   \n",
       "5  ff79c12f326506  289a6836a88d27  bac52627a12114        0       0   \n",
       "\n",
       "   damageDealt  DBNOs  headshotKills  heals  killPlace  killPoints  kills  \\\n",
       "0         0.00      0              0      0         60        1241      0   \n",
       "1        91.47      0              0      0         57           0      0   \n",
       "2        68.00      0              0      0         47           0      0   \n",
       "3        32.90      0              0      0         75           0      0   \n",
       "5       100.00      1              1      0         44           0      1   \n",
       "\n",
       "   killStreaks  longestKill  matchDuration  matchType  maxPlace  numGroups  \\\n",
       "0            0         0.00           1306  squad-fpp        28         26   \n",
       "1            0         0.00           1777  squad-fpp        26         25   \n",
       "2            0         0.00           1318        duo        50         47   \n",
       "3            0         0.00           1436  squad-fpp        31         30   \n",
       "5            1        18.44           1395  squad-fpp        28         28   \n",
       "\n",
       "   rankPoints  revives  rideDistance  roadKills  swimDistance  teamKills  \\\n",
       "0          -1        0        0.0000          0          0.00          0   \n",
       "1        1484        0        0.0045          0         11.04          0   \n",
       "2        1491        0        0.0000          0          0.00          0   \n",
       "3        1408        0        0.0000          0          0.00          0   \n",
       "5        1418        0        0.0000          0          0.00          0   \n",
       "\n",
       "   vehicleDestroys  walkDistance  weaponsAcquired  winPoints  winPlacePerc  \n",
       "0                0         244.8                1       1466        0.4444  \n",
       "1                0        1434.0                5          0        0.6400  \n",
       "2                0         161.8                2          0        0.7755  \n",
       "3                0         202.7                3          0        0.1667  \n",
       "5                0          34.7                1          0        0.0370  "
      ]
     },
     "execution_count": 103,
     "metadata": {},
     "output_type": "execute_result"
    }
   ],
   "source": [
    "pd_hk = dat2[dat2['headshotKills'] == dat2['kills']]\n",
    "pd_hk.head()"
   ]
  },
  {
   "cell_type": "code",
   "execution_count": 158,
   "metadata": {},
   "outputs": [
    {
     "data": {
      "image/png": "[encoded data removed]",
      "text/plain": [
       "<matplotlib.figure.Figure at 0x1a3b16a278>"
      ]
     },
     "metadata": {},
     "output_type": "display_data"
    }
   ],
   "source": [
    "f, ax= plt.subplots(figsize = (12,6))\n",
    "sns.distplot(pd_hk['headshotKills'])\n",
    "plt.show()"
   ]
  },
  {
   "cell_type": "markdown",
   "metadata": {},
   "source": [
    "# TRY: kmeans"
   ]
  },
  {
   "cell_type": "code",
   "execution_count": 125,
   "metadata": {},
   "outputs": [],
   "source": [
    "#kmeans1 = KMeans(n_clusters=8)"
   ]
  },
  {
   "cell_type": "code",
   "execution_count": 126,
   "metadata": {},
   "outputs": [
    {
     "data": {
      "text/plain": [
       "KMeans(algorithm='auto', copy_x=True, init='k-means++', max_iter=300,\n",
       "    n_clusters=8, n_init=10, n_jobs=1, precompute_distances='auto',\n",
       "    random_state=None, tol=0.0001, verbose=0)"
      ]
     },
     "execution_count": 126,
     "metadata": {},
     "output_type": "execute_result"
    }
   ],
   "source": [
    "#kmeans1.fit(pd_hk[['headshotKills','kills']])"
   ]
  },
  {
   "cell_type": "code",
   "execution_count": 127,
   "metadata": {},
   "outputs": [
    {
     "data": {
      "text/plain": [
       "0    2529721\n",
       "1     218433\n",
       "2      29472\n",
       "3       4628\n",
       "5       1000\n",
       "6        321\n",
       "4         81\n",
       "7         24\n",
       "dtype: int64"
      ]
     },
     "execution_count": 127,
     "metadata": {},
     "output_type": "execute_result"
    }
   ],
   "source": [
    "#pd.value_counts(kmeans1.labels_)"
   ]
  },
  {
   "cell_type": "code",
   "execution_count": 128,
   "metadata": {},
   "outputs": [
    {
     "data": {
      "text/plain": [
       "Int64Index([ 281570,  346124,  871244,  908815,  963463, 1079403, 1167959,\n",
       "            1348164, 1380385, 1483199, 1581850, 1622232, 1753322, 2256755,\n",
       "            2375749, 2647056, 2825200, 3288424, 3594399, 3926325, 4036281,\n",
       "            4351048, 4387092, 4428741],\n",
       "           dtype='int64')"
      ]
     },
     "execution_count": 128,
     "metadata": {},
     "output_type": "execute_result"
    }
   ],
   "source": [
    "#pd_hk[kmeans1.labels_==7].index"
   ]
  },
  {
   "cell_type": "code",
   "execution_count": 69,
   "metadata": {},
   "outputs": [],
   "source": [
    "c2 = (dat2['headshotKills'] == dat2['kills']) & (dat2['kills']>=10)    #枪枪爆头杀大于10人"
   ]
  },
  {
   "cell_type": "code",
   "execution_count": 123,
   "metadata": {},
   "outputs": [
    {
     "data": {
      "text/plain": [
       "Int64Index([ 281570,  346124,  871244,  908815,  963463, 1079403, 1167959,\n",
       "            1348164, 1380385, 1483199, 1581850, 1622232, 1753322, 2256755,\n",
       "            2375749, 2647056, 2825200, 3288424, 3594399, 3926325, 4036281,\n",
       "            4351048, 4387092, 4428741],\n",
       "           dtype='int64')"
      ]
     },
     "execution_count": 123,
     "metadata": {},
     "output_type": "execute_result"
    }
   ],
   "source": [
    "dat2[c2].index"
   ]
  },
  {
   "cell_type": "code",
   "execution_count": 71,
   "metadata": {},
   "outputs": [],
   "source": [
    "dat3 = dat2.drop(dat2[c2].index)"
   ]
  },
  {
   "cell_type": "code",
   "execution_count": 159,
   "metadata": {},
   "outputs": [
    {
     "data": {
      "image/png": "[encoded data removed]",
      "text/plain": [
       "<matplotlib.figure.Figure at 0x1a39e1dfd0>"
      ]
     },
     "metadata": {},
     "output_type": "display_data"
    }
   ],
   "source": [
    "f, ax= plt.subplots(figsize = (12,6))\n",
    "sns.distplot(pd_hk['longestKill'])\n",
    "plt.show()"
   ]
  },
  {
   "cell_type": "code",
   "execution_count": 72,
   "metadata": {},
   "outputs": [],
   "source": [
    "c3 = dat3['longestKill']>=1000   # 1000米外杀人"
   ]
  },
  {
   "cell_type": "code",
   "execution_count": 161,
   "metadata": {},
   "outputs": [
    {
     "data": {
      "text/plain": [
       "Int64Index([ 202281,  240005,  324313,  656553,  803632,  895411, 1172437,\n",
       "            1209416, 1642712, 2015559, 2122128, 2152425, 2592718, 2981715,\n",
       "            3081503, 3255171, 3304284, 3320960, 3552532, 4332473],\n",
       "           dtype='int64')"
      ]
     },
     "execution_count": 161,
     "metadata": {},
     "output_type": "execute_result"
    }
   ],
   "source": [
    "dat3[c3].index"
   ]
  },
  {
   "cell_type": "code",
   "execution_count": 162,
   "metadata": {},
   "outputs": [],
   "source": [
    "dat4 = dat3.drop(dat3[c3].index)"
   ]
  },
  {
   "cell_type": "code",
   "execution_count": 163,
   "metadata": {},
   "outputs": [
    {
     "data": {
      "image/png": "[encoded data removed]",
      "text/plain": [
       "<matplotlib.figure.Figure at 0x1a2eb2ea90>"
      ]
     },
     "metadata": {},
     "output_type": "display_data"
    }
   ],
   "source": [
    "f, ax= plt.subplots(figsize = (12,6))\n",
    "sns.distplot(dat4['kills'])\n",
    "plt.show()"
   ]
  },
  {
   "cell_type": "code",
   "execution_count": 164,
   "metadata": {},
   "outputs": [],
   "source": [
    "c4 = dat4['kills']>=50   #单局杀超过50人"
   ]
  },
  {
   "cell_type": "code",
   "execution_count": 165,
   "metadata": {},
   "outputs": [
    {
     "data": {
      "text/plain": [
       "Int64Index([ 334400,  672993,  770454,  797111, 1248348, 1454065, 1462706,\n",
       "            1491277, 2020831, 2601666, 2929506, 3431247, 3673965, 4273754],\n",
       "           dtype='int64')"
      ]
     },
     "execution_count": 165,
     "metadata": {},
     "output_type": "execute_result"
    }
   ],
   "source": [
    "dat4[c4].index"
   ]
  },
  {
   "cell_type": "code",
   "execution_count": 166,
   "metadata": {},
   "outputs": [],
   "source": [
    "dat5 = dat4.drop(dat4[c4].index)"
   ]
  },
  {
   "cell_type": "code",
   "execution_count": 167,
   "metadata": {},
   "outputs": [
    {
     "data": {
      "image/png": "[encoded data removed]",
      "text/plain": [
       "<matplotlib.figure.Figure at 0x1a680bd358>"
      ]
     },
     "metadata": {},
     "output_type": "display_data"
    }
   ],
   "source": [
    "f, ax= plt.subplots(figsize = (12,6))\n",
    "sns.distplot(dat5['walkDistance'])\n",
    "plt.show()"
   ]
  },
  {
   "cell_type": "code",
   "execution_count": 168,
   "metadata": {},
   "outputs": [
    {
     "data": {
      "image/png": "[encoded data removed]",
      "text/plain": [
       "<matplotlib.figure.Figure at 0x1a680c4898>"
      ]
     },
     "metadata": {},
     "output_type": "display_data"
    }
   ],
   "source": [
    "f, ax= plt.subplots(figsize = (12,6))\n",
    "sns.distplot(dat5['rideDistance'])\n",
    "plt.show()"
   ]
  },
  {
   "cell_type": "code",
   "execution_count": 169,
   "metadata": {},
   "outputs": [
    {
     "data": {
      "image/png": "[encoded data removed]",
      "text/plain": [
       "<matplotlib.figure.Figure at 0x1a12949fd0>"
      ]
     },
     "metadata": {},
     "output_type": "display_data"
    }
   ],
   "source": [
    "f, ax= plt.subplots(figsize = (12,6))\n",
    "sns.distplot(dat5['swimDistance'])\n",
    "plt.show()"
   ]
  },
  {
   "cell_type": "code",
   "execution_count": 170,
   "metadata": {},
   "outputs": [],
   "source": [
    "c5 = (dat5['rideDistance']>=20000) | (dat5['walkDistance']>=15000) | (dat5['swimDistance']>=1500)"
   ]
  },
  {
   "cell_type": "code",
   "execution_count": 171,
   "metadata": {},
   "outputs": [
    {
     "data": {
      "text/plain": [
       "Int64Index([  28588,   63015,   70507,   72763,   95276,  140097,  177973,\n",
       "             274258,  297186,  371098,\n",
       "            ...\n",
       "            4190290, 4191491, 4239725, 4248221, 4256764, 4270943, 4301013,\n",
       "            4386384, 4404738, 4440261],\n",
       "           dtype='int64', length=181)"
      ]
     },
     "execution_count": 171,
     "metadata": {},
     "output_type": "execute_result"
    }
   ],
   "source": [
    "dat5[c5].index"
   ]
  },
  {
   "cell_type": "code",
   "execution_count": 172,
   "metadata": {},
   "outputs": [],
   "source": [
    "dat6 = dat5.drop(dat5[c5].index)"
   ]
  },
  {
   "cell_type": "code",
   "execution_count": 173,
   "metadata": {},
   "outputs": [
    {
     "data": {
      "text/plain": [
       "(4445191, 29)"
      ]
     },
     "execution_count": 173,
     "metadata": {},
     "output_type": "execute_result"
    }
   ],
   "source": [
    "dat6.shape"
   ]
  },
  {
   "cell_type": "code",
   "execution_count": 176,
   "metadata": {},
   "outputs": [],
   "source": [
    "#dat6.to_csv('./PUBG/data_final.csv')"
   ]
  },
  {
   "cell_type": "markdown",
   "metadata": {},
   "source": [
    "# (3). Classification"
   ]
  },
  {
   "cell_type": "code",
   "execution_count": 181,
   "metadata": {},
   "outputs": [],
   "source": [
    "dat_final = pd.read_csv('./data_final.csv')"
   ]
  },
  {
   "cell_type": "code",
   "execution_count": 183,
   "metadata": {},
   "outputs": [
    {
     "data": {
      "text/plain": [
       "(4445191, 30)"
      ]
     },
     "execution_count": 183,
     "metadata": {},
     "output_type": "execute_result"
    }
   ],
   "source": [
    "dat_final.shape"
   ]
  },
  {
   "cell_type": "code",
   "execution_count": 185,
   "metadata": {},
   "outputs": [
    {
     "data": {
      "text/html": [
       "<div>\n",
       "<style scoped>\n",
       "    .dataframe tbody tr th:only-of-type {\n",
       "        vertical-align: middle;\n",
       "    }\n",
       "\n",
       "    .dataframe tbody tr th {\n",
       "        vertical-align: top;\n",
       "    }\n",
       "\n",
       "    .dataframe thead th {\n",
       "        text-align: right;\n",
       "    }\n",
       "</style>\n",
       "<table border=\"1\" class=\"dataframe\">\n",
       "  <thead>\n",
       "    <tr style=\"text-align: right;\">\n",
       "      <th></th>\n",
       "      <th>Unnamed: 0</th>\n",
       "      <th>Id</th>\n",
       "      <th>groupId</th>\n",
       "      <th>matchId</th>\n",
       "      <th>assists</th>\n",
       "      <th>boosts</th>\n",
       "      <th>damageDealt</th>\n",
       "      <th>DBNOs</th>\n",
       "      <th>headshotKills</th>\n",
       "      <th>heals</th>\n",
       "      <th>killPlace</th>\n",
       "      <th>killPoints</th>\n",
       "      <th>kills</th>\n",
       "      <th>killStreaks</th>\n",
       "      <th>longestKill</th>\n",
       "      <th>matchDuration</th>\n",
       "      <th>matchType</th>\n",
       "      <th>maxPlace</th>\n",
       "      <th>numGroups</th>\n",
       "      <th>rankPoints</th>\n",
       "      <th>revives</th>\n",
       "      <th>rideDistance</th>\n",
       "      <th>roadKills</th>\n",
       "      <th>swimDistance</th>\n",
       "      <th>teamKills</th>\n",
       "      <th>vehicleDestroys</th>\n",
       "      <th>walkDistance</th>\n",
       "      <th>weaponsAcquired</th>\n",
       "      <th>winPoints</th>\n",
       "      <th>winPlacePerc</th>\n",
       "    </tr>\n",
       "  </thead>\n",
       "  <tbody>\n",
       "    <tr>\n",
       "      <th>0</th>\n",
       "      <td>0</td>\n",
       "      <td>7f96b2f878858a</td>\n",
       "      <td>4d4b580de459be</td>\n",
       "      <td>a10357fd1a4a91</td>\n",
       "      <td>0</td>\n",
       "      <td>0</td>\n",
       "      <td>0.00</td>\n",
       "      <td>0</td>\n",
       "      <td>0</td>\n",
       "      <td>0</td>\n",
       "      <td>60</td>\n",
       "      <td>1241</td>\n",
       "      <td>0</td>\n",
       "      <td>0</td>\n",
       "      <td>0.00</td>\n",
       "      <td>1306</td>\n",
       "      <td>squad-fpp</td>\n",
       "      <td>28</td>\n",
       "      <td>26</td>\n",
       "      <td>-1</td>\n",
       "      <td>0</td>\n",
       "      <td>0.0000</td>\n",
       "      <td>0</td>\n",
       "      <td>0.00</td>\n",
       "      <td>0</td>\n",
       "      <td>0</td>\n",
       "      <td>244.80</td>\n",
       "      <td>1</td>\n",
       "      <td>1466</td>\n",
       "      <td>0.4444</td>\n",
       "    </tr>\n",
       "    <tr>\n",
       "      <th>1</th>\n",
       "      <td>1</td>\n",
       "      <td>eef90569b9d03c</td>\n",
       "      <td>684d5656442f9e</td>\n",
       "      <td>aeb375fc57110c</td>\n",
       "      <td>0</td>\n",
       "      <td>0</td>\n",
       "      <td>91.47</td>\n",
       "      <td>0</td>\n",
       "      <td>0</td>\n",
       "      <td>0</td>\n",
       "      <td>57</td>\n",
       "      <td>0</td>\n",
       "      <td>0</td>\n",
       "      <td>0</td>\n",
       "      <td>0.00</td>\n",
       "      <td>1777</td>\n",
       "      <td>squad-fpp</td>\n",
       "      <td>26</td>\n",
       "      <td>25</td>\n",
       "      <td>1484</td>\n",
       "      <td>0</td>\n",
       "      <td>0.0045</td>\n",
       "      <td>0</td>\n",
       "      <td>11.04</td>\n",
       "      <td>0</td>\n",
       "      <td>0</td>\n",
       "      <td>1434.00</td>\n",
       "      <td>5</td>\n",
       "      <td>0</td>\n",
       "      <td>0.6400</td>\n",
       "    </tr>\n",
       "    <tr>\n",
       "      <th>2</th>\n",
       "      <td>2</td>\n",
       "      <td>1eaf90ac73de72</td>\n",
       "      <td>6a4a42c3245a74</td>\n",
       "      <td>110163d8bb94ae</td>\n",
       "      <td>1</td>\n",
       "      <td>0</td>\n",
       "      <td>68.00</td>\n",
       "      <td>0</td>\n",
       "      <td>0</td>\n",
       "      <td>0</td>\n",
       "      <td>47</td>\n",
       "      <td>0</td>\n",
       "      <td>0</td>\n",
       "      <td>0</td>\n",
       "      <td>0.00</td>\n",
       "      <td>1318</td>\n",
       "      <td>duo</td>\n",
       "      <td>50</td>\n",
       "      <td>47</td>\n",
       "      <td>1491</td>\n",
       "      <td>0</td>\n",
       "      <td>0.0000</td>\n",
       "      <td>0</td>\n",
       "      <td>0.00</td>\n",
       "      <td>0</td>\n",
       "      <td>0</td>\n",
       "      <td>161.80</td>\n",
       "      <td>2</td>\n",
       "      <td>0</td>\n",
       "      <td>0.7755</td>\n",
       "    </tr>\n",
       "    <tr>\n",
       "      <th>3</th>\n",
       "      <td>3</td>\n",
       "      <td>4616d365dd2853</td>\n",
       "      <td>a930a9c79cd721</td>\n",
       "      <td>f1f1f4ef412d7e</td>\n",
       "      <td>0</td>\n",
       "      <td>0</td>\n",
       "      <td>32.90</td>\n",
       "      <td>0</td>\n",
       "      <td>0</td>\n",
       "      <td>0</td>\n",
       "      <td>75</td>\n",
       "      <td>0</td>\n",
       "      <td>0</td>\n",
       "      <td>0</td>\n",
       "      <td>0.00</td>\n",
       "      <td>1436</td>\n",
       "      <td>squad-fpp</td>\n",
       "      <td>31</td>\n",
       "      <td>30</td>\n",
       "      <td>1408</td>\n",
       "      <td>0</td>\n",
       "      <td>0.0000</td>\n",
       "      <td>0</td>\n",
       "      <td>0.00</td>\n",
       "      <td>0</td>\n",
       "      <td>0</td>\n",
       "      <td>202.70</td>\n",
       "      <td>3</td>\n",
       "      <td>0</td>\n",
       "      <td>0.1667</td>\n",
       "    </tr>\n",
       "    <tr>\n",
       "      <th>4</th>\n",
       "      <td>4</td>\n",
       "      <td>315c96c26c9aac</td>\n",
       "      <td>de04010b3458dd</td>\n",
       "      <td>6dc8ff871e21e6</td>\n",
       "      <td>0</td>\n",
       "      <td>0</td>\n",
       "      <td>100.00</td>\n",
       "      <td>0</td>\n",
       "      <td>0</td>\n",
       "      <td>0</td>\n",
       "      <td>45</td>\n",
       "      <td>0</td>\n",
       "      <td>1</td>\n",
       "      <td>1</td>\n",
       "      <td>58.53</td>\n",
       "      <td>1424</td>\n",
       "      <td>solo-fpp</td>\n",
       "      <td>97</td>\n",
       "      <td>95</td>\n",
       "      <td>1560</td>\n",
       "      <td>0</td>\n",
       "      <td>0.0000</td>\n",
       "      <td>0</td>\n",
       "      <td>0.00</td>\n",
       "      <td>0</td>\n",
       "      <td>0</td>\n",
       "      <td>49.75</td>\n",
       "      <td>2</td>\n",
       "      <td>0</td>\n",
       "      <td>0.1875</td>\n",
       "    </tr>\n",
       "  </tbody>\n",
       "</table>\n",
       "</div>"
      ],
      "text/plain": [
       "   Unnamed: 0              Id         groupId         matchId  assists  \\\n",
       "0           0  7f96b2f878858a  4d4b580de459be  a10357fd1a4a91        0   \n",
       "1           1  eef90569b9d03c  684d5656442f9e  aeb375fc57110c        0   \n",
       "2           2  1eaf90ac73de72  6a4a42c3245a74  110163d8bb94ae        1   \n",
       "3           3  4616d365dd2853  a930a9c79cd721  f1f1f4ef412d7e        0   \n",
       "4           4  315c96c26c9aac  de04010b3458dd  6dc8ff871e21e6        0   \n",
       "\n",
       "   boosts  damageDealt  DBNOs  headshotKills  heals  killPlace  killPoints  \\\n",
       "0       0         0.00      0              0      0         60        1241   \n",
       "1       0        91.47      0              0      0         57           0   \n",
       "2       0        68.00      0              0      0         47           0   \n",
       "3       0        32.90      0              0      0         75           0   \n",
       "4       0       100.00      0              0      0         45           0   \n",
       "\n",
       "   kills  killStreaks  longestKill  matchDuration  matchType  maxPlace  \\\n",
       "0      0            0         0.00           1306  squad-fpp        28   \n",
       "1      0            0         0.00           1777  squad-fpp        26   \n",
       "2      0            0         0.00           1318        duo        50   \n",
       "3      0            0         0.00           1436  squad-fpp        31   \n",
       "4      1            1        58.53           1424   solo-fpp        97   \n",
       "\n",
       "   numGroups  rankPoints  revives  rideDistance  roadKills  swimDistance  \\\n",
       "0         26          -1        0        0.0000          0          0.00   \n",
       "1         25        1484        0        0.0045          0         11.04   \n",
       "2         47        1491        0        0.0000          0          0.00   \n",
       "3         30        1408        0        0.0000          0          0.00   \n",
       "4         95        1560        0        0.0000          0          0.00   \n",
       "\n",
       "   teamKills  vehicleDestroys  walkDistance  weaponsAcquired  winPoints  \\\n",
       "0          0                0        244.80                1       1466   \n",
       "1          0                0       1434.00                5          0   \n",
       "2          0                0        161.80                2          0   \n",
       "3          0                0        202.70                3          0   \n",
       "4          0                0         49.75                2          0   \n",
       "\n",
       "   winPlacePerc  \n",
       "0        0.4444  \n",
       "1        0.6400  \n",
       "2        0.7755  \n",
       "3        0.1667  \n",
       "4        0.1875  "
      ]
     },
     "execution_count": 185,
     "metadata": {},
     "output_type": "execute_result"
    }
   ],
   "source": [
    "dat_final.head()"
   ]
  },
  {
   "cell_type": "code",
   "execution_count": 187,
   "metadata": {},
   "outputs": [],
   "source": [
    "dat_final.drop(dat_final.columns[0],axis=1,inplace=True)"
   ]
  },
  {
   "cell_type": "code",
   "execution_count": 188,
   "metadata": {},
   "outputs": [
    {
     "data": {
      "text/plain": [
       "(4445191, 29)"
      ]
     },
     "execution_count": 188,
     "metadata": {},
     "output_type": "execute_result"
    }
   ],
   "source": [
    "dat_final.shape"
   ]
  },
  {
   "cell_type": "code",
   "execution_count": 197,
   "metadata": {},
   "outputs": [
    {
     "data": {
      "text/plain": [
       "array(['squad-fpp', 'duo', 'solo-fpp', 'squad', 'duo-fpp', 'solo',\n",
       "       'normal-squad-fpp', 'crashfpp', 'flaretpp', 'normal-solo-fpp',\n",
       "       'flarefpp', 'normal-duo-fpp', 'normal-duo', 'normal-squad',\n",
       "       'crashtpp', 'normal-solo'], dtype=object)"
      ]
     },
     "execution_count": 197,
     "metadata": {},
     "output_type": "execute_result"
    }
   ],
   "source": [
    "pd.unique(dat_final['matchType'])"
   ]
  },
  {
   "cell_type": "code",
   "execution_count": 199,
   "metadata": {},
   "outputs": [
    {
     "data": {
      "text/plain": [
       "array(['normal-solo', 'normal-solo-fpp', 'solo-fpp', 'solo'], dtype='<U15')"
      ]
     },
     "execution_count": 199,
     "metadata": {},
     "output_type": "execute_result"
    }
   ],
   "source": [
    "solo_condition = np.array(['normal-solo', 'normal-solo-fpp', 'solo-fpp', 'solo'])"
   ]
  },
  {
   "cell_type": "code",
   "execution_count": 212,
   "metadata": {},
   "outputs": [],
   "source": [
    "solodata = dat_final.iloc[[i for i in range(dat_final.shape[0]) if dat_final.matchType[i] in solo_condition]]"
   ]
  },
  {
   "cell_type": "code",
   "execution_count": 213,
   "metadata": {},
   "outputs": [
    {
     "data": {
      "text/plain": [
       "(720206, 29)"
      ]
     },
     "execution_count": 213,
     "metadata": {},
     "output_type": "execute_result"
    }
   ],
   "source": [
    "solodata.shape"
   ]
  },
  {
   "cell_type": "code",
   "execution_count": 214,
   "metadata": {},
   "outputs": [
    {
     "data": {
      "text/plain": [
       "Index(['Id', 'groupId', 'matchId', 'assists', 'boosts', 'damageDealt', 'DBNOs',\n",
       "       'headshotKills', 'heals', 'killPlace', 'killPoints', 'kills',\n",
       "       'killStreaks', 'longestKill', 'matchDuration', 'matchType', 'maxPlace',\n",
       "       'numGroups', 'rankPoints', 'revives', 'rideDistance', 'roadKills',\n",
       "       'swimDistance', 'teamKills', 'vehicleDestroys', 'walkDistance',\n",
       "       'weaponsAcquired', 'winPoints', 'winPlacePerc'],\n",
       "      dtype='object')"
      ]
     },
     "execution_count": 214,
     "metadata": {},
     "output_type": "execute_result"
    }
   ],
   "source": [
    "solodata.columns"
   ]
  },
  {
   "cell_type": "code",
   "execution_count": 217,
   "metadata": {},
   "outputs": [
    {
     "data": {
      "text/plain": [
       "array([  1,   2,   4,   5,   6,   7,   8,   9,  10,  11,  12,  13,  14,\n",
       "        15,  16,  17,  18,  19,  20,  21,  22,  23,  25,  26,  27,  28,\n",
       "        29,  31,  32,  33,  34,  35,  36,  37,  38,  39,  40,  42,  44,\n",
       "        46,  49,  50,  51,  52,  53,  54,  55,  56,  57,  58,  59,  60,\n",
       "        61,  62,  63,  64,  65,  66,  67,  68,  69,  70,  71,  72,  73,\n",
       "        74,  75,  76,  77,  78,  79,  80,  81,  82,  83,  84,  85,  86,\n",
       "        87,  88,  89,  90,  91,  92,  93,  94,  95,  96,  97,  98,  99,\n",
       "       100])"
      ]
     },
     "execution_count": 217,
     "metadata": {},
     "output_type": "execute_result"
    }
   ],
   "source": [
    "np.unique(solodata['numGroups'])"
   ]
  },
  {
   "cell_type": "code",
   "execution_count": 218,
   "metadata": {},
   "outputs": [
    {
     "data": {
      "text/plain": [
       "0    711963\n",
       "1      8236\n",
       "2         4\n",
       "5         1\n",
       "4         1\n",
       "3         1\n",
       "Name: teamKills, dtype: int64"
      ]
     },
     "execution_count": 218,
     "metadata": {},
     "output_type": "execute_result"
    }
   ],
   "source": [
    "pd.value_counts(solodata['teamKills'])"
   ]
  },
  {
   "cell_type": "code",
   "execution_count": 247,
   "metadata": {},
   "outputs": [
    {
     "data": {
      "text/plain": [
       "0    720206\n",
       "Name: revives, dtype: int64"
      ]
     },
     "execution_count": 247,
     "metadata": {},
     "output_type": "execute_result"
    }
   ],
   "source": [
    "pd.value_counts(solodata['revives'])"
   ]
  },
  {
   "cell_type": "code",
   "execution_count": 248,
   "metadata": {},
   "outputs": [
    {
     "data": {
      "text/plain": [
       "8"
      ]
     },
     "execution_count": 248,
     "metadata": {},
     "output_type": "execute_result"
    }
   ],
   "source": [
    "rm_feature = ['Id', 'groupId', 'matchId', 'DBNOs', 'matchType', 'numGroups', 'teamKills', 'revives']\n",
    "len(rm_feature)\n",
    "# 删了 'Id', 'groupId', 'matchId', 'DBNOs'(solo)'', 'matchType', 'numGroups', 'teamKills'."
   ]
  },
  {
   "cell_type": "code",
   "execution_count": 249,
   "metadata": {},
   "outputs": [
    {
     "data": {
      "text/html": [
       "<div>\n",
       "<style scoped>\n",
       "    .dataframe tbody tr th:only-of-type {\n",
       "        vertical-align: middle;\n",
       "    }\n",
       "\n",
       "    .dataframe tbody tr th {\n",
       "        vertical-align: top;\n",
       "    }\n",
       "\n",
       "    .dataframe thead th {\n",
       "        text-align: right;\n",
       "    }\n",
       "</style>\n",
       "<table border=\"1\" class=\"dataframe\">\n",
       "  <thead>\n",
       "    <tr style=\"text-align: right;\">\n",
       "      <th></th>\n",
       "      <th>assists</th>\n",
       "      <th>boosts</th>\n",
       "      <th>damageDealt</th>\n",
       "      <th>headshotKills</th>\n",
       "      <th>heals</th>\n",
       "      <th>killPlace</th>\n",
       "      <th>killPoints</th>\n",
       "      <th>kills</th>\n",
       "      <th>killStreaks</th>\n",
       "      <th>longestKill</th>\n",
       "      <th>matchDuration</th>\n",
       "      <th>maxPlace</th>\n",
       "      <th>rankPoints</th>\n",
       "      <th>rideDistance</th>\n",
       "      <th>roadKills</th>\n",
       "      <th>swimDistance</th>\n",
       "      <th>vehicleDestroys</th>\n",
       "      <th>walkDistance</th>\n",
       "      <th>weaponsAcquired</th>\n",
       "      <th>winPoints</th>\n",
       "      <th>winPlacePerc</th>\n",
       "    </tr>\n",
       "  </thead>\n",
       "  <tbody>\n",
       "    <tr>\n",
       "      <th>4</th>\n",
       "      <td>0</td>\n",
       "      <td>0</td>\n",
       "      <td>100.000</td>\n",
       "      <td>0</td>\n",
       "      <td>0</td>\n",
       "      <td>45</td>\n",
       "      <td>0</td>\n",
       "      <td>1</td>\n",
       "      <td>1</td>\n",
       "      <td>58.53</td>\n",
       "      <td>1424</td>\n",
       "      <td>97</td>\n",
       "      <td>1560</td>\n",
       "      <td>0.0</td>\n",
       "      <td>0</td>\n",
       "      <td>0.00</td>\n",
       "      <td>0</td>\n",
       "      <td>49.75</td>\n",
       "      <td>2</td>\n",
       "      <td>0</td>\n",
       "      <td>0.1875</td>\n",
       "    </tr>\n",
       "    <tr>\n",
       "      <th>7</th>\n",
       "      <td>0</td>\n",
       "      <td>0</td>\n",
       "      <td>8.538</td>\n",
       "      <td>0</td>\n",
       "      <td>0</td>\n",
       "      <td>48</td>\n",
       "      <td>1000</td>\n",
       "      <td>0</td>\n",
       "      <td>0</td>\n",
       "      <td>0.00</td>\n",
       "      <td>1967</td>\n",
       "      <td>96</td>\n",
       "      <td>-1</td>\n",
       "      <td>2004.0</td>\n",
       "      <td>0</td>\n",
       "      <td>0.00</td>\n",
       "      <td>0</td>\n",
       "      <td>1089.00</td>\n",
       "      <td>6</td>\n",
       "      <td>1500</td>\n",
       "      <td>0.7368</td>\n",
       "    </tr>\n",
       "    <tr>\n",
       "      <th>13</th>\n",
       "      <td>0</td>\n",
       "      <td>1</td>\n",
       "      <td>324.200</td>\n",
       "      <td>1</td>\n",
       "      <td>5</td>\n",
       "      <td>5</td>\n",
       "      <td>986</td>\n",
       "      <td>4</td>\n",
       "      <td>1</td>\n",
       "      <td>49.83</td>\n",
       "      <td>1886</td>\n",
       "      <td>97</td>\n",
       "      <td>-1</td>\n",
       "      <td>1228.0</td>\n",
       "      <td>0</td>\n",
       "      <td>76.84</td>\n",
       "      <td>0</td>\n",
       "      <td>2050.00</td>\n",
       "      <td>6</td>\n",
       "      <td>1462</td>\n",
       "      <td>0.8750</td>\n",
       "    </tr>\n",
       "    <tr>\n",
       "      <th>17</th>\n",
       "      <td>0</td>\n",
       "      <td>3</td>\n",
       "      <td>254.300</td>\n",
       "      <td>0</td>\n",
       "      <td>12</td>\n",
       "      <td>13</td>\n",
       "      <td>0</td>\n",
       "      <td>2</td>\n",
       "      <td>1</td>\n",
       "      <td>36.00</td>\n",
       "      <td>1371</td>\n",
       "      <td>96</td>\n",
       "      <td>1536</td>\n",
       "      <td>2367.0</td>\n",
       "      <td>0</td>\n",
       "      <td>15.29</td>\n",
       "      <td>0</td>\n",
       "      <td>1787.00</td>\n",
       "      <td>3</td>\n",
       "      <td>0</td>\n",
       "      <td>0.8211</td>\n",
       "    </tr>\n",
       "    <tr>\n",
       "      <th>35</th>\n",
       "      <td>0</td>\n",
       "      <td>0</td>\n",
       "      <td>136.900</td>\n",
       "      <td>0</td>\n",
       "      <td>0</td>\n",
       "      <td>37</td>\n",
       "      <td>0</td>\n",
       "      <td>1</td>\n",
       "      <td>1</td>\n",
       "      <td>22.83</td>\n",
       "      <td>1425</td>\n",
       "      <td>96</td>\n",
       "      <td>1500</td>\n",
       "      <td>0.0</td>\n",
       "      <td>0</td>\n",
       "      <td>0.00</td>\n",
       "      <td>0</td>\n",
       "      <td>270.70</td>\n",
       "      <td>1</td>\n",
       "      <td>0</td>\n",
       "      <td>0.3474</td>\n",
       "    </tr>\n",
       "  </tbody>\n",
       "</table>\n",
       "</div>"
      ],
      "text/plain": [
       "    assists  boosts  damageDealt  headshotKills  heals  killPlace  killPoints  \\\n",
       "4         0       0      100.000              0      0         45           0   \n",
       "7         0       0        8.538              0      0         48        1000   \n",
       "13        0       1      324.200              1      5          5         986   \n",
       "17        0       3      254.300              0     12         13           0   \n",
       "35        0       0      136.900              0      0         37           0   \n",
       "\n",
       "    kills  killStreaks  longestKill  matchDuration  maxPlace  rankPoints  \\\n",
       "4       1            1        58.53           1424        97        1560   \n",
       "7       0            0         0.00           1967        96          -1   \n",
       "13      4            1        49.83           1886        97          -1   \n",
       "17      2            1        36.00           1371        96        1536   \n",
       "35      1            1        22.83           1425        96        1500   \n",
       "\n",
       "    rideDistance  roadKills  swimDistance  vehicleDestroys  walkDistance  \\\n",
       "4            0.0          0          0.00                0         49.75   \n",
       "7         2004.0          0          0.00                0       1089.00   \n",
       "13        1228.0          0         76.84                0       2050.00   \n",
       "17        2367.0          0         15.29                0       1787.00   \n",
       "35           0.0          0          0.00                0        270.70   \n",
       "\n",
       "    weaponsAcquired  winPoints  winPlacePerc  \n",
       "4                 2          0        0.1875  \n",
       "7                 6       1500        0.7368  \n",
       "13                6       1462        0.8750  \n",
       "17                3          0        0.8211  \n",
       "35                1          0        0.3474  "
      ]
     },
     "execution_count": 249,
     "metadata": {},
     "output_type": "execute_result"
    }
   ],
   "source": [
    "solodata_final = solodata.drop(rm_feature, axis=1)\n",
    "solodata_final.head()"
   ]
  },
  {
   "cell_type": "code",
   "execution_count": 250,
   "metadata": {},
   "outputs": [
    {
     "data": {
      "text/plain": [
       "(720206, 21)"
      ]
     },
     "execution_count": 250,
     "metadata": {},
     "output_type": "execute_result"
    }
   ],
   "source": [
    "solodata_final.shape"
   ]
  },
  {
   "cell_type": "code",
   "execution_count": 253,
   "metadata": {},
   "outputs": [],
   "source": [
    "#solodata_final.to_csv('./solo_data_final.csv')"
   ]
  },
  {
   "cell_type": "markdown",
   "metadata": {},
   "source": [
    "# 2. input the solo_data"
   ]
  },
  {
   "cell_type": "code",
   "execution_count": 2,
   "metadata": {},
   "outputs": [],
   "source": [
    "solo = pd.read_csv('./data/train/solo_data_final.csv')"
   ]
  },
  {
   "cell_type": "code",
   "execution_count": 3,
   "metadata": {},
   "outputs": [
    {
     "data": {
      "text/html": [
       "<div>\n",
       "<style scoped>\n",
       "    .dataframe tbody tr th:only-of-type {\n",
       "        vertical-align: middle;\n",
       "    }\n",
       "\n",
       "    .dataframe tbody tr th {\n",
       "        vertical-align: top;\n",
       "    }\n",
       "\n",
       "    .dataframe thead th {\n",
       "        text-align: right;\n",
       "    }\n",
       "</style>\n",
       "<table border=\"1\" class=\"dataframe\">\n",
       "  <thead>\n",
       "    <tr style=\"text-align: right;\">\n",
       "      <th></th>\n",
       "      <th>Unnamed: 0</th>\n",
       "      <th>assists</th>\n",
       "      <th>boosts</th>\n",
       "      <th>damageDealt</th>\n",
       "      <th>headshotKills</th>\n",
       "      <th>heals</th>\n",
       "      <th>killPlace</th>\n",
       "      <th>killPoints</th>\n",
       "      <th>kills</th>\n",
       "      <th>killStreaks</th>\n",
       "      <th>longestKill</th>\n",
       "      <th>matchDuration</th>\n",
       "      <th>maxPlace</th>\n",
       "      <th>rankPoints</th>\n",
       "      <th>rideDistance</th>\n",
       "      <th>roadKills</th>\n",
       "      <th>swimDistance</th>\n",
       "      <th>vehicleDestroys</th>\n",
       "      <th>walkDistance</th>\n",
       "      <th>weaponsAcquired</th>\n",
       "      <th>winPoints</th>\n",
       "      <th>winPlacePerc</th>\n",
       "    </tr>\n",
       "  </thead>\n",
       "  <tbody>\n",
       "    <tr>\n",
       "      <th>0</th>\n",
       "      <td>4</td>\n",
       "      <td>0</td>\n",
       "      <td>0</td>\n",
       "      <td>100.000</td>\n",
       "      <td>0</td>\n",
       "      <td>0</td>\n",
       "      <td>45</td>\n",
       "      <td>0</td>\n",
       "      <td>1</td>\n",
       "      <td>1</td>\n",
       "      <td>58.53</td>\n",
       "      <td>1424</td>\n",
       "      <td>97</td>\n",
       "      <td>1560</td>\n",
       "      <td>0.0</td>\n",
       "      <td>0</td>\n",
       "      <td>0.00</td>\n",
       "      <td>0</td>\n",
       "      <td>49.75</td>\n",
       "      <td>2</td>\n",
       "      <td>0</td>\n",
       "      <td>0.1875</td>\n",
       "    </tr>\n",
       "    <tr>\n",
       "      <th>1</th>\n",
       "      <td>7</td>\n",
       "      <td>0</td>\n",
       "      <td>0</td>\n",
       "      <td>8.538</td>\n",
       "      <td>0</td>\n",
       "      <td>0</td>\n",
       "      <td>48</td>\n",
       "      <td>1000</td>\n",
       "      <td>0</td>\n",
       "      <td>0</td>\n",
       "      <td>0.00</td>\n",
       "      <td>1967</td>\n",
       "      <td>96</td>\n",
       "      <td>-1</td>\n",
       "      <td>2004.0</td>\n",
       "      <td>0</td>\n",
       "      <td>0.00</td>\n",
       "      <td>0</td>\n",
       "      <td>1089.00</td>\n",
       "      <td>6</td>\n",
       "      <td>1500</td>\n",
       "      <td>0.7368</td>\n",
       "    </tr>\n",
       "    <tr>\n",
       "      <th>2</th>\n",
       "      <td>13</td>\n",
       "      <td>0</td>\n",
       "      <td>1</td>\n",
       "      <td>324.200</td>\n",
       "      <td>1</td>\n",
       "      <td>5</td>\n",
       "      <td>5</td>\n",
       "      <td>986</td>\n",
       "      <td>4</td>\n",
       "      <td>1</td>\n",
       "      <td>49.83</td>\n",
       "      <td>1886</td>\n",
       "      <td>97</td>\n",
       "      <td>-1</td>\n",
       "      <td>1228.0</td>\n",
       "      <td>0</td>\n",
       "      <td>76.84</td>\n",
       "      <td>0</td>\n",
       "      <td>2050.00</td>\n",
       "      <td>6</td>\n",
       "      <td>1462</td>\n",
       "      <td>0.8750</td>\n",
       "    </tr>\n",
       "    <tr>\n",
       "      <th>3</th>\n",
       "      <td>17</td>\n",
       "      <td>0</td>\n",
       "      <td>3</td>\n",
       "      <td>254.300</td>\n",
       "      <td>0</td>\n",
       "      <td>12</td>\n",
       "      <td>13</td>\n",
       "      <td>0</td>\n",
       "      <td>2</td>\n",
       "      <td>1</td>\n",
       "      <td>36.00</td>\n",
       "      <td>1371</td>\n",
       "      <td>96</td>\n",
       "      <td>1536</td>\n",
       "      <td>2367.0</td>\n",
       "      <td>0</td>\n",
       "      <td>15.29</td>\n",
       "      <td>0</td>\n",
       "      <td>1787.00</td>\n",
       "      <td>3</td>\n",
       "      <td>0</td>\n",
       "      <td>0.8211</td>\n",
       "    </tr>\n",
       "    <tr>\n",
       "      <th>4</th>\n",
       "      <td>35</td>\n",
       "      <td>0</td>\n",
       "      <td>0</td>\n",
       "      <td>136.900</td>\n",
       "      <td>0</td>\n",
       "      <td>0</td>\n",
       "      <td>37</td>\n",
       "      <td>0</td>\n",
       "      <td>1</td>\n",
       "      <td>1</td>\n",
       "      <td>22.83</td>\n",
       "      <td>1425</td>\n",
       "      <td>96</td>\n",
       "      <td>1500</td>\n",
       "      <td>0.0</td>\n",
       "      <td>0</td>\n",
       "      <td>0.00</td>\n",
       "      <td>0</td>\n",
       "      <td>270.70</td>\n",
       "      <td>1</td>\n",
       "      <td>0</td>\n",
       "      <td>0.3474</td>\n",
       "    </tr>\n",
       "  </tbody>\n",
       "</table>\n",
       "</div>"
      ],
      "text/plain": [
       "   Unnamed: 0  assists  boosts  damageDealt  headshotKills  heals  killPlace  \\\n",
       "0           4        0       0      100.000              0      0         45   \n",
       "1           7        0       0        8.538              0      0         48   \n",
       "2          13        0       1      324.200              1      5          5   \n",
       "3          17        0       3      254.300              0     12         13   \n",
       "4          35        0       0      136.900              0      0         37   \n",
       "\n",
       "   killPoints  kills  killStreaks  longestKill  matchDuration  maxPlace  \\\n",
       "0           0      1            1        58.53           1424        97   \n",
       "1        1000      0            0         0.00           1967        96   \n",
       "2         986      4            1        49.83           1886        97   \n",
       "3           0      2            1        36.00           1371        96   \n",
       "4           0      1            1        22.83           1425        96   \n",
       "\n",
       "   rankPoints  rideDistance  roadKills  swimDistance  vehicleDestroys  \\\n",
       "0        1560           0.0          0          0.00                0   \n",
       "1          -1        2004.0          0          0.00                0   \n",
       "2          -1        1228.0          0         76.84                0   \n",
       "3        1536        2367.0          0         15.29                0   \n",
       "4        1500           0.0          0          0.00                0   \n",
       "\n",
       "   walkDistance  weaponsAcquired  winPoints  winPlacePerc  \n",
       "0         49.75                2          0        0.1875  \n",
       "1       1089.00                6       1500        0.7368  \n",
       "2       2050.00                6       1462        0.8750  \n",
       "3       1787.00                3          0        0.8211  \n",
       "4        270.70                1          0        0.3474  "
      ]
     },
     "execution_count": 3,
     "metadata": {},
     "output_type": "execute_result"
    }
   ],
   "source": [
    "solo.head()"
   ]
  },
  {
   "cell_type": "code",
   "execution_count": 4,
   "metadata": {},
   "outputs": [
    {
     "data": {
      "text/plain": [
       "(720206, 22)"
      ]
     },
     "execution_count": 4,
     "metadata": {},
     "output_type": "execute_result"
    }
   ],
   "source": [
    "solo.shape"
   ]
  },
  {
   "cell_type": "code",
   "execution_count": 5,
   "metadata": {},
   "outputs": [],
   "source": [
    "solo.drop(solo.columns[0],axis=1,inplace=True)"
   ]
  },
  {
   "cell_type": "code",
   "execution_count": 6,
   "metadata": {},
   "outputs": [
    {
     "data": {
      "text/plain": [
       "(720206, 21)"
      ]
     },
     "execution_count": 6,
     "metadata": {},
     "output_type": "execute_result"
    }
   ],
   "source": [
    "solo.shape   # 72W samples, 20 features."
   ]
  },
  {
   "cell_type": "code",
   "execution_count": 7,
   "metadata": {},
   "outputs": [
    {
     "data": {
      "text/html": [
       "<div>\n",
       "<style scoped>\n",
       "    .dataframe tbody tr th:only-of-type {\n",
       "        vertical-align: middle;\n",
       "    }\n",
       "\n",
       "    .dataframe tbody tr th {\n",
       "        vertical-align: top;\n",
       "    }\n",
       "\n",
       "    .dataframe thead th {\n",
       "        text-align: right;\n",
       "    }\n",
       "</style>\n",
       "<table border=\"1\" class=\"dataframe\">\n",
       "  <thead>\n",
       "    <tr style=\"text-align: right;\">\n",
       "      <th></th>\n",
       "      <th>assists</th>\n",
       "      <th>boosts</th>\n",
       "      <th>damageDealt</th>\n",
       "      <th>headshotKills</th>\n",
       "      <th>heals</th>\n",
       "      <th>killPlace</th>\n",
       "      <th>killPoints</th>\n",
       "      <th>kills</th>\n",
       "      <th>killStreaks</th>\n",
       "      <th>longestKill</th>\n",
       "      <th>matchDuration</th>\n",
       "      <th>maxPlace</th>\n",
       "      <th>rankPoints</th>\n",
       "      <th>rideDistance</th>\n",
       "      <th>roadKills</th>\n",
       "      <th>swimDistance</th>\n",
       "      <th>vehicleDestroys</th>\n",
       "      <th>walkDistance</th>\n",
       "      <th>weaponsAcquired</th>\n",
       "      <th>winPoints</th>\n",
       "      <th>winPlacePerc</th>\n",
       "    </tr>\n",
       "  </thead>\n",
       "  <tbody>\n",
       "    <tr>\n",
       "      <th>0</th>\n",
       "      <td>0</td>\n",
       "      <td>0</td>\n",
       "      <td>100.000</td>\n",
       "      <td>0</td>\n",
       "      <td>0</td>\n",
       "      <td>45</td>\n",
       "      <td>0</td>\n",
       "      <td>1</td>\n",
       "      <td>1</td>\n",
       "      <td>58.53</td>\n",
       "      <td>1424</td>\n",
       "      <td>97</td>\n",
       "      <td>1560</td>\n",
       "      <td>0.0</td>\n",
       "      <td>0</td>\n",
       "      <td>0.00</td>\n",
       "      <td>0</td>\n",
       "      <td>49.75</td>\n",
       "      <td>2</td>\n",
       "      <td>0</td>\n",
       "      <td>0.1875</td>\n",
       "    </tr>\n",
       "    <tr>\n",
       "      <th>1</th>\n",
       "      <td>0</td>\n",
       "      <td>0</td>\n",
       "      <td>8.538</td>\n",
       "      <td>0</td>\n",
       "      <td>0</td>\n",
       "      <td>48</td>\n",
       "      <td>1000</td>\n",
       "      <td>0</td>\n",
       "      <td>0</td>\n",
       "      <td>0.00</td>\n",
       "      <td>1967</td>\n",
       "      <td>96</td>\n",
       "      <td>-1</td>\n",
       "      <td>2004.0</td>\n",
       "      <td>0</td>\n",
       "      <td>0.00</td>\n",
       "      <td>0</td>\n",
       "      <td>1089.00</td>\n",
       "      <td>6</td>\n",
       "      <td>1500</td>\n",
       "      <td>0.7368</td>\n",
       "    </tr>\n",
       "    <tr>\n",
       "      <th>2</th>\n",
       "      <td>0</td>\n",
       "      <td>1</td>\n",
       "      <td>324.200</td>\n",
       "      <td>1</td>\n",
       "      <td>5</td>\n",
       "      <td>5</td>\n",
       "      <td>986</td>\n",
       "      <td>4</td>\n",
       "      <td>1</td>\n",
       "      <td>49.83</td>\n",
       "      <td>1886</td>\n",
       "      <td>97</td>\n",
       "      <td>-1</td>\n",
       "      <td>1228.0</td>\n",
       "      <td>0</td>\n",
       "      <td>76.84</td>\n",
       "      <td>0</td>\n",
       "      <td>2050.00</td>\n",
       "      <td>6</td>\n",
       "      <td>1462</td>\n",
       "      <td>0.8750</td>\n",
       "    </tr>\n",
       "    <tr>\n",
       "      <th>3</th>\n",
       "      <td>0</td>\n",
       "      <td>3</td>\n",
       "      <td>254.300</td>\n",
       "      <td>0</td>\n",
       "      <td>12</td>\n",
       "      <td>13</td>\n",
       "      <td>0</td>\n",
       "      <td>2</td>\n",
       "      <td>1</td>\n",
       "      <td>36.00</td>\n",
       "      <td>1371</td>\n",
       "      <td>96</td>\n",
       "      <td>1536</td>\n",
       "      <td>2367.0</td>\n",
       "      <td>0</td>\n",
       "      <td>15.29</td>\n",
       "      <td>0</td>\n",
       "      <td>1787.00</td>\n",
       "      <td>3</td>\n",
       "      <td>0</td>\n",
       "      <td>0.8211</td>\n",
       "    </tr>\n",
       "    <tr>\n",
       "      <th>4</th>\n",
       "      <td>0</td>\n",
       "      <td>0</td>\n",
       "      <td>136.900</td>\n",
       "      <td>0</td>\n",
       "      <td>0</td>\n",
       "      <td>37</td>\n",
       "      <td>0</td>\n",
       "      <td>1</td>\n",
       "      <td>1</td>\n",
       "      <td>22.83</td>\n",
       "      <td>1425</td>\n",
       "      <td>96</td>\n",
       "      <td>1500</td>\n",
       "      <td>0.0</td>\n",
       "      <td>0</td>\n",
       "      <td>0.00</td>\n",
       "      <td>0</td>\n",
       "      <td>270.70</td>\n",
       "      <td>1</td>\n",
       "      <td>0</td>\n",
       "      <td>0.3474</td>\n",
       "    </tr>\n",
       "  </tbody>\n",
       "</table>\n",
       "</div>"
      ],
      "text/plain": [
       "   assists  boosts  damageDealt  headshotKills  heals  killPlace  killPoints  \\\n",
       "0        0       0      100.000              0      0         45           0   \n",
       "1        0       0        8.538              0      0         48        1000   \n",
       "2        0       1      324.200              1      5          5         986   \n",
       "3        0       3      254.300              0     12         13           0   \n",
       "4        0       0      136.900              0      0         37           0   \n",
       "\n",
       "   kills  killStreaks  longestKill  matchDuration  maxPlace  rankPoints  \\\n",
       "0      1            1        58.53           1424        97        1560   \n",
       "1      0            0         0.00           1967        96          -1   \n",
       "2      4            1        49.83           1886        97          -1   \n",
       "3      2            1        36.00           1371        96        1536   \n",
       "4      1            1        22.83           1425        96        1500   \n",
       "\n",
       "   rideDistance  roadKills  swimDistance  vehicleDestroys  walkDistance  \\\n",
       "0           0.0          0          0.00                0         49.75   \n",
       "1        2004.0          0          0.00                0       1089.00   \n",
       "2        1228.0          0         76.84                0       2050.00   \n",
       "3        2367.0          0         15.29                0       1787.00   \n",
       "4           0.0          0          0.00                0        270.70   \n",
       "\n",
       "   weaponsAcquired  winPoints  winPlacePerc  \n",
       "0                2          0        0.1875  \n",
       "1                6       1500        0.7368  \n",
       "2                6       1462        0.8750  \n",
       "3                3          0        0.8211  \n",
       "4                1          0        0.3474  "
      ]
     },
     "execution_count": 7,
     "metadata": {},
     "output_type": "execute_result"
    }
   ],
   "source": [
    "solo.head()"
   ]
  },
  {
   "cell_type": "code",
   "execution_count": 8,
   "metadata": {},
   "outputs": [
    {
     "data": {
      "text/plain": [
       "Index(['assists', 'boosts', 'damageDealt', 'headshotKills', 'heals',\n",
       "       'killPlace', 'killPoints', 'kills', 'killStreaks', 'longestKill',\n",
       "       'matchDuration', 'maxPlace', 'rankPoints', 'rideDistance', 'roadKills',\n",
       "       'swimDistance', 'vehicleDestroys', 'walkDistance', 'weaponsAcquired',\n",
       "       'winPoints', 'winPlacePerc'],\n",
       "      dtype='object')"
      ]
     },
     "execution_count": 8,
     "metadata": {},
     "output_type": "execute_result"
    }
   ],
   "source": [
    "solo.columns"
   ]
  },
  {
   "cell_type": "markdown",
   "metadata": {},
   "source": [
    "# Correlation & Heat map"
   ]
  },
  {
   "cell_type": "code",
   "execution_count": 9,
   "metadata": {},
   "outputs": [
    {
     "data": {
      "text/html": [
       "<div>\n",
       "<style scoped>\n",
       "    .dataframe tbody tr th:only-of-type {\n",
       "        vertical-align: middle;\n",
       "    }\n",
       "\n",
       "    .dataframe tbody tr th {\n",
       "        vertical-align: top;\n",
       "    }\n",
       "\n",
       "    .dataframe thead th {\n",
       "        text-align: right;\n",
       "    }\n",
       "</style>\n",
       "<table border=\"1\" class=\"dataframe\">\n",
       "  <thead>\n",
       "    <tr style=\"text-align: right;\">\n",
       "      <th></th>\n",
       "      <th>assists</th>\n",
       "      <th>boosts</th>\n",
       "      <th>damageDealt</th>\n",
       "      <th>headshotKills</th>\n",
       "      <th>heals</th>\n",
       "      <th>killPlace</th>\n",
       "      <th>killPoints</th>\n",
       "      <th>kills</th>\n",
       "      <th>killStreaks</th>\n",
       "      <th>longestKill</th>\n",
       "      <th>matchDuration</th>\n",
       "      <th>maxPlace</th>\n",
       "      <th>rankPoints</th>\n",
       "      <th>rideDistance</th>\n",
       "      <th>roadKills</th>\n",
       "      <th>swimDistance</th>\n",
       "      <th>vehicleDestroys</th>\n",
       "      <th>walkDistance</th>\n",
       "      <th>weaponsAcquired</th>\n",
       "      <th>winPoints</th>\n",
       "      <th>winPlacePerc</th>\n",
       "    </tr>\n",
       "  </thead>\n",
       "  <tbody>\n",
       "    <tr>\n",
       "      <th>assists</th>\n",
       "      <td>1.000000</td>\n",
       "      <td>0.127151</td>\n",
       "      <td>0.317250</td>\n",
       "      <td>0.163639</td>\n",
       "      <td>0.092871</td>\n",
       "      <td>-0.127608</td>\n",
       "      <td>0.026765</td>\n",
       "      <td>0.257575</td>\n",
       "      <td>0.133142</td>\n",
       "      <td>0.134148</td>\n",
       "      <td>-0.025409</td>\n",
       "      <td>-0.090752</td>\n",
       "      <td>-0.020935</td>\n",
       "      <td>0.053652</td>\n",
       "      <td>0.009075</td>\n",
       "      <td>0.013175</td>\n",
       "      <td>0.024428</td>\n",
       "      <td>0.107528</td>\n",
       "      <td>0.225942</td>\n",
       "      <td>0.023644</td>\n",
       "      <td>0.121995</td>\n",
       "    </tr>\n",
       "    <tr>\n",
       "      <th>boosts</th>\n",
       "      <td>0.127151</td>\n",
       "      <td>1.000000</td>\n",
       "      <td>0.557317</td>\n",
       "      <td>0.399888</td>\n",
       "      <td>0.501001</td>\n",
       "      <td>-0.565910</td>\n",
       "      <td>0.012639</td>\n",
       "      <td>0.558899</td>\n",
       "      <td>0.409111</td>\n",
       "      <td>0.455136</td>\n",
       "      <td>0.046917</td>\n",
       "      <td>0.032663</td>\n",
       "      <td>0.020009</td>\n",
       "      <td>0.297335</td>\n",
       "      <td>0.054746</td>\n",
       "      <td>0.116358</td>\n",
       "      <td>0.075910</td>\n",
       "      <td>0.640681</td>\n",
       "      <td>0.383269</td>\n",
       "      <td>-0.001372</td>\n",
       "      <td>0.637657</td>\n",
       "    </tr>\n",
       "    <tr>\n",
       "      <th>damageDealt</th>\n",
       "      <td>0.317250</td>\n",
       "      <td>0.557317</td>\n",
       "      <td>1.000000</td>\n",
       "      <td>0.674050</td>\n",
       "      <td>0.320707</td>\n",
       "      <td>-0.698107</td>\n",
       "      <td>0.038778</td>\n",
       "      <td>0.947361</td>\n",
       "      <td>0.680776</td>\n",
       "      <td>0.615736</td>\n",
       "      <td>-0.017886</td>\n",
       "      <td>-0.057551</td>\n",
       "      <td>0.002025</td>\n",
       "      <td>0.145453</td>\n",
       "      <td>0.077769</td>\n",
       "      <td>0.043424</td>\n",
       "      <td>0.073722</td>\n",
       "      <td>0.431012</td>\n",
       "      <td>0.399176</td>\n",
       "      <td>0.010891</td>\n",
       "      <td>0.486373</td>\n",
       "    </tr>\n",
       "    <tr>\n",
       "      <th>headshotKills</th>\n",
       "      <td>0.163639</td>\n",
       "      <td>0.399888</td>\n",
       "      <td>0.674050</td>\n",
       "      <td>1.000000</td>\n",
       "      <td>0.215379</td>\n",
       "      <td>-0.471829</td>\n",
       "      <td>0.021107</td>\n",
       "      <td>0.706370</td>\n",
       "      <td>0.479361</td>\n",
       "      <td>0.518793</td>\n",
       "      <td>-0.019313</td>\n",
       "      <td>-0.015145</td>\n",
       "      <td>0.004783</td>\n",
       "      <td>0.102136</td>\n",
       "      <td>0.024137</td>\n",
       "      <td>0.036599</td>\n",
       "      <td>0.044225</td>\n",
       "      <td>0.316650</td>\n",
       "      <td>0.263689</td>\n",
       "      <td>0.003297</td>\n",
       "      <td>0.340518</td>\n",
       "    </tr>\n",
       "    <tr>\n",
       "      <th>heals</th>\n",
       "      <td>0.092871</td>\n",
       "      <td>0.501001</td>\n",
       "      <td>0.320707</td>\n",
       "      <td>0.215379</td>\n",
       "      <td>1.000000</td>\n",
       "      <td>-0.360601</td>\n",
       "      <td>0.001563</td>\n",
       "      <td>0.315803</td>\n",
       "      <td>0.258067</td>\n",
       "      <td>0.247419</td>\n",
       "      <td>0.082673</td>\n",
       "      <td>0.013531</td>\n",
       "      <td>0.015267</td>\n",
       "      <td>0.232431</td>\n",
       "      <td>0.038494</td>\n",
       "      <td>0.086096</td>\n",
       "      <td>0.052210</td>\n",
       "      <td>0.408585</td>\n",
       "      <td>0.268044</td>\n",
       "      <td>-0.004635</td>\n",
       "      <td>0.401479</td>\n",
       "    </tr>\n",
       "    <tr>\n",
       "      <th>killPlace</th>\n",
       "      <td>-0.127608</td>\n",
       "      <td>-0.565910</td>\n",
       "      <td>-0.698107</td>\n",
       "      <td>-0.471829</td>\n",
       "      <td>-0.360601</td>\n",
       "      <td>1.000000</td>\n",
       "      <td>-0.012610</td>\n",
       "      <td>-0.707705</td>\n",
       "      <td>-0.799306</td>\n",
       "      <td>-0.548750</td>\n",
       "      <td>-0.004592</td>\n",
       "      <td>0.180715</td>\n",
       "      <td>-0.021857</td>\n",
       "      <td>-0.229550</td>\n",
       "      <td>-0.068451</td>\n",
       "      <td>-0.098876</td>\n",
       "      <td>-0.058470</td>\n",
       "      <td>-0.605418</td>\n",
       "      <td>-0.535173</td>\n",
       "      <td>0.005385</td>\n",
       "      <td>-0.758328</td>\n",
       "    </tr>\n",
       "    <tr>\n",
       "      <th>killPoints</th>\n",
       "      <td>0.026765</td>\n",
       "      <td>0.012639</td>\n",
       "      <td>0.038778</td>\n",
       "      <td>0.021107</td>\n",
       "      <td>0.001563</td>\n",
       "      <td>-0.012610</td>\n",
       "      <td>1.000000</td>\n",
       "      <td>0.036751</td>\n",
       "      <td>0.036907</td>\n",
       "      <td>0.016632</td>\n",
       "      <td>-0.073591</td>\n",
       "      <td>0.075545</td>\n",
       "      <td>-0.977486</td>\n",
       "      <td>-0.004574</td>\n",
       "      <td>0.005648</td>\n",
       "      <td>-0.002737</td>\n",
       "      <td>-0.007525</td>\n",
       "      <td>0.010646</td>\n",
       "      <td>0.002651</td>\n",
       "      <td>0.984765</td>\n",
       "      <td>0.023764</td>\n",
       "    </tr>\n",
       "    <tr>\n",
       "      <th>kills</th>\n",
       "      <td>0.257575</td>\n",
       "      <td>0.558899</td>\n",
       "      <td>0.947361</td>\n",
       "      <td>0.706370</td>\n",
       "      <td>0.315803</td>\n",
       "      <td>-0.707705</td>\n",
       "      <td>0.036751</td>\n",
       "      <td>1.000000</td>\n",
       "      <td>0.720475</td>\n",
       "      <td>0.637182</td>\n",
       "      <td>-0.035041</td>\n",
       "      <td>-0.020813</td>\n",
       "      <td>0.001577</td>\n",
       "      <td>0.136597</td>\n",
       "      <td>0.082065</td>\n",
       "      <td>0.047692</td>\n",
       "      <td>0.070258</td>\n",
       "      <td>0.429297</td>\n",
       "      <td>0.393739</td>\n",
       "      <td>0.010376</td>\n",
       "      <td>0.481300</td>\n",
       "    </tr>\n",
       "    <tr>\n",
       "      <th>killStreaks</th>\n",
       "      <td>0.133142</td>\n",
       "      <td>0.409111</td>\n",
       "      <td>0.680776</td>\n",
       "      <td>0.479361</td>\n",
       "      <td>0.258067</td>\n",
       "      <td>-0.799306</td>\n",
       "      <td>0.036907</td>\n",
       "      <td>0.720475</td>\n",
       "      <td>1.000000</td>\n",
       "      <td>0.507850</td>\n",
       "      <td>-0.044453</td>\n",
       "      <td>0.042189</td>\n",
       "      <td>-0.002356</td>\n",
       "      <td>0.110263</td>\n",
       "      <td>0.103105</td>\n",
       "      <td>0.042058</td>\n",
       "      <td>0.040593</td>\n",
       "      <td>0.353541</td>\n",
       "      <td>0.321232</td>\n",
       "      <td>0.012598</td>\n",
       "      <td>0.448532</td>\n",
       "    </tr>\n",
       "    <tr>\n",
       "      <th>longestKill</th>\n",
       "      <td>0.134148</td>\n",
       "      <td>0.455136</td>\n",
       "      <td>0.615736</td>\n",
       "      <td>0.518793</td>\n",
       "      <td>0.247419</td>\n",
       "      <td>-0.548750</td>\n",
       "      <td>0.016632</td>\n",
       "      <td>0.637182</td>\n",
       "      <td>0.507850</td>\n",
       "      <td>1.000000</td>\n",
       "      <td>0.053814</td>\n",
       "      <td>0.016155</td>\n",
       "      <td>0.012151</td>\n",
       "      <td>0.189750</td>\n",
       "      <td>0.034127</td>\n",
       "      <td>0.060080</td>\n",
       "      <td>0.071729</td>\n",
       "      <td>0.442324</td>\n",
       "      <td>0.292439</td>\n",
       "      <td>-0.000506</td>\n",
       "      <td>0.438626</td>\n",
       "    </tr>\n",
       "    <tr>\n",
       "      <th>matchDuration</th>\n",
       "      <td>-0.025409</td>\n",
       "      <td>0.046917</td>\n",
       "      <td>-0.017886</td>\n",
       "      <td>-0.019313</td>\n",
       "      <td>0.082673</td>\n",
       "      <td>-0.004592</td>\n",
       "      <td>-0.073591</td>\n",
       "      <td>-0.035041</td>\n",
       "      <td>-0.044453</td>\n",
       "      <td>0.053814</td>\n",
       "      <td>1.000000</td>\n",
       "      <td>-0.024418</td>\n",
       "      <td>0.062692</td>\n",
       "      <td>0.318552</td>\n",
       "      <td>0.050948</td>\n",
       "      <td>0.011642</td>\n",
       "      <td>0.052650</td>\n",
       "      <td>0.161235</td>\n",
       "      <td>0.128182</td>\n",
       "      <td>-0.065164</td>\n",
       "      <td>-0.010129</td>\n",
       "    </tr>\n",
       "    <tr>\n",
       "      <th>maxPlace</th>\n",
       "      <td>-0.090752</td>\n",
       "      <td>0.032663</td>\n",
       "      <td>-0.057551</td>\n",
       "      <td>-0.015145</td>\n",
       "      <td>0.013531</td>\n",
       "      <td>0.180715</td>\n",
       "      <td>0.075545</td>\n",
       "      <td>-0.020813</td>\n",
       "      <td>0.042189</td>\n",
       "      <td>0.016155</td>\n",
       "      <td>-0.024418</td>\n",
       "      <td>1.000000</td>\n",
       "      <td>-0.063358</td>\n",
       "      <td>0.004706</td>\n",
       "      <td>0.000424</td>\n",
       "      <td>0.009980</td>\n",
       "      <td>0.004889</td>\n",
       "      <td>0.052950</td>\n",
       "      <td>-0.126621</td>\n",
       "      <td>0.067780</td>\n",
       "      <td>0.096106</td>\n",
       "    </tr>\n",
       "    <tr>\n",
       "      <th>rankPoints</th>\n",
       "      <td>-0.020935</td>\n",
       "      <td>0.020009</td>\n",
       "      <td>0.002025</td>\n",
       "      <td>0.004783</td>\n",
       "      <td>0.015267</td>\n",
       "      <td>-0.021857</td>\n",
       "      <td>-0.977486</td>\n",
       "      <td>0.001577</td>\n",
       "      <td>-0.002356</td>\n",
       "      <td>0.012151</td>\n",
       "      <td>0.062692</td>\n",
       "      <td>-0.063358</td>\n",
       "      <td>1.000000</td>\n",
       "      <td>0.016584</td>\n",
       "      <td>-0.002876</td>\n",
       "      <td>0.003607</td>\n",
       "      <td>0.010787</td>\n",
       "      <td>0.010690</td>\n",
       "      <td>0.009042</td>\n",
       "      <td>-0.994190</td>\n",
       "      <td>0.003414</td>\n",
       "    </tr>\n",
       "    <tr>\n",
       "      <th>rideDistance</th>\n",
       "      <td>0.053652</td>\n",
       "      <td>0.297335</td>\n",
       "      <td>0.145453</td>\n",
       "      <td>0.102136</td>\n",
       "      <td>0.232431</td>\n",
       "      <td>-0.229550</td>\n",
       "      <td>-0.004574</td>\n",
       "      <td>0.136597</td>\n",
       "      <td>0.110263</td>\n",
       "      <td>0.189750</td>\n",
       "      <td>0.318552</td>\n",
       "      <td>0.004706</td>\n",
       "      <td>0.016584</td>\n",
       "      <td>1.000000</td>\n",
       "      <td>0.147076</td>\n",
       "      <td>0.043177</td>\n",
       "      <td>0.108857</td>\n",
       "      <td>0.271902</td>\n",
       "      <td>0.245483</td>\n",
       "      <td>-0.005104</td>\n",
       "      <td>0.323231</td>\n",
       "    </tr>\n",
       "    <tr>\n",
       "      <th>roadKills</th>\n",
       "      <td>0.009075</td>\n",
       "      <td>0.054746</td>\n",
       "      <td>0.077769</td>\n",
       "      <td>0.024137</td>\n",
       "      <td>0.038494</td>\n",
       "      <td>-0.068451</td>\n",
       "      <td>0.005648</td>\n",
       "      <td>0.082065</td>\n",
       "      <td>0.103105</td>\n",
       "      <td>0.034127</td>\n",
       "      <td>0.050948</td>\n",
       "      <td>0.000424</td>\n",
       "      <td>-0.002876</td>\n",
       "      <td>0.147076</td>\n",
       "      <td>1.000000</td>\n",
       "      <td>0.006533</td>\n",
       "      <td>0.026241</td>\n",
       "      <td>0.039664</td>\n",
       "      <td>0.037529</td>\n",
       "      <td>0.004354</td>\n",
       "      <td>0.049931</td>\n",
       "    </tr>\n",
       "    <tr>\n",
       "      <th>swimDistance</th>\n",
       "      <td>0.013175</td>\n",
       "      <td>0.116358</td>\n",
       "      <td>0.043424</td>\n",
       "      <td>0.036599</td>\n",
       "      <td>0.086096</td>\n",
       "      <td>-0.098876</td>\n",
       "      <td>-0.002737</td>\n",
       "      <td>0.047692</td>\n",
       "      <td>0.042058</td>\n",
       "      <td>0.060080</td>\n",
       "      <td>0.011642</td>\n",
       "      <td>0.009980</td>\n",
       "      <td>0.003607</td>\n",
       "      <td>0.043177</td>\n",
       "      <td>0.006533</td>\n",
       "      <td>1.000000</td>\n",
       "      <td>0.007884</td>\n",
       "      <td>0.184675</td>\n",
       "      <td>0.077253</td>\n",
       "      <td>-0.000507</td>\n",
       "      <td>0.165966</td>\n",
       "    </tr>\n",
       "    <tr>\n",
       "      <th>vehicleDestroys</th>\n",
       "      <td>0.024428</td>\n",
       "      <td>0.075910</td>\n",
       "      <td>0.073722</td>\n",
       "      <td>0.044225</td>\n",
       "      <td>0.052210</td>\n",
       "      <td>-0.058470</td>\n",
       "      <td>-0.007525</td>\n",
       "      <td>0.070258</td>\n",
       "      <td>0.040593</td>\n",
       "      <td>0.071729</td>\n",
       "      <td>0.052650</td>\n",
       "      <td>0.004889</td>\n",
       "      <td>0.010787</td>\n",
       "      <td>0.108857</td>\n",
       "      <td>0.026241</td>\n",
       "      <td>0.007884</td>\n",
       "      <td>1.000000</td>\n",
       "      <td>0.061269</td>\n",
       "      <td>0.047477</td>\n",
       "      <td>-0.008925</td>\n",
       "      <td>0.060763</td>\n",
       "    </tr>\n",
       "    <tr>\n",
       "      <th>walkDistance</th>\n",
       "      <td>0.107528</td>\n",
       "      <td>0.640681</td>\n",
       "      <td>0.431012</td>\n",
       "      <td>0.316650</td>\n",
       "      <td>0.408585</td>\n",
       "      <td>-0.605418</td>\n",
       "      <td>0.010646</td>\n",
       "      <td>0.429297</td>\n",
       "      <td>0.353541</td>\n",
       "      <td>0.442324</td>\n",
       "      <td>0.161235</td>\n",
       "      <td>0.052950</td>\n",
       "      <td>0.010690</td>\n",
       "      <td>0.271902</td>\n",
       "      <td>0.039664</td>\n",
       "      <td>0.184675</td>\n",
       "      <td>0.061269</td>\n",
       "      <td>1.000000</td>\n",
       "      <td>0.511181</td>\n",
       "      <td>0.007825</td>\n",
       "      <td>0.811821</td>\n",
       "    </tr>\n",
       "    <tr>\n",
       "      <th>weaponsAcquired</th>\n",
       "      <td>0.225942</td>\n",
       "      <td>0.383269</td>\n",
       "      <td>0.399176</td>\n",
       "      <td>0.263689</td>\n",
       "      <td>0.268044</td>\n",
       "      <td>-0.535173</td>\n",
       "      <td>0.002651</td>\n",
       "      <td>0.393739</td>\n",
       "      <td>0.321232</td>\n",
       "      <td>0.292439</td>\n",
       "      <td>0.128182</td>\n",
       "      <td>-0.126621</td>\n",
       "      <td>0.009042</td>\n",
       "      <td>0.245483</td>\n",
       "      <td>0.037529</td>\n",
       "      <td>0.077253</td>\n",
       "      <td>0.047477</td>\n",
       "      <td>0.511181</td>\n",
       "      <td>1.000000</td>\n",
       "      <td>0.003578</td>\n",
       "      <td>0.605194</td>\n",
       "    </tr>\n",
       "    <tr>\n",
       "      <th>winPoints</th>\n",
       "      <td>0.023644</td>\n",
       "      <td>-0.001372</td>\n",
       "      <td>0.010891</td>\n",
       "      <td>0.003297</td>\n",
       "      <td>-0.004635</td>\n",
       "      <td>0.005385</td>\n",
       "      <td>0.984765</td>\n",
       "      <td>0.010376</td>\n",
       "      <td>0.012598</td>\n",
       "      <td>-0.000506</td>\n",
       "      <td>-0.065164</td>\n",
       "      <td>0.067780</td>\n",
       "      <td>-0.994190</td>\n",
       "      <td>-0.005104</td>\n",
       "      <td>0.004354</td>\n",
       "      <td>-0.000507</td>\n",
       "      <td>-0.008925</td>\n",
       "      <td>0.007825</td>\n",
       "      <td>0.003578</td>\n",
       "      <td>1.000000</td>\n",
       "      <td>0.019719</td>\n",
       "    </tr>\n",
       "    <tr>\n",
       "      <th>winPlacePerc</th>\n",
       "      <td>0.121995</td>\n",
       "      <td>0.637657</td>\n",
       "      <td>0.486373</td>\n",
       "      <td>0.340518</td>\n",
       "      <td>0.401479</td>\n",
       "      <td>-0.758328</td>\n",
       "      <td>0.023764</td>\n",
       "      <td>0.481300</td>\n",
       "      <td>0.448532</td>\n",
       "      <td>0.438626</td>\n",
       "      <td>-0.010129</td>\n",
       "      <td>0.096106</td>\n",
       "      <td>0.003414</td>\n",
       "      <td>0.323231</td>\n",
       "      <td>0.049931</td>\n",
       "      <td>0.165966</td>\n",
       "      <td>0.060763</td>\n",
       "      <td>0.811821</td>\n",
       "      <td>0.605194</td>\n",
       "      <td>0.019719</td>\n",
       "      <td>1.000000</td>\n",
       "    </tr>\n",
       "  </tbody>\n",
       "</table>\n",
       "</div>"
      ],
      "text/plain": [
       "                  assists    boosts  damageDealt  headshotKills     heals  \\\n",
       "assists          1.000000  0.127151     0.317250       0.163639  0.092871   \n",
       "boosts           0.127151  1.000000     0.557317       0.399888  0.501001   \n",
       "damageDealt      0.317250  0.557317     1.000000       0.674050  0.320707   \n",
       "headshotKills    0.163639  0.399888     0.674050       1.000000  0.215379   \n",
       "heals            0.092871  0.501001     0.320707       0.215379  1.000000   \n",
       "killPlace       -0.127608 -0.565910    -0.698107      -0.471829 -0.360601   \n",
       "killPoints       0.026765  0.012639     0.038778       0.021107  0.001563   \n",
       "kills            0.257575  0.558899     0.947361       0.706370  0.315803   \n",
       "killStreaks      0.133142  0.409111     0.680776       0.479361  0.258067   \n",
       "longestKill      0.134148  0.455136     0.615736       0.518793  0.247419   \n",
       "matchDuration   -0.025409  0.046917    -0.017886      -0.019313  0.082673   \n",
       "maxPlace        -0.090752  0.032663    -0.057551      -0.015145  0.013531   \n",
       "rankPoints      -0.020935  0.020009     0.002025       0.004783  0.015267   \n",
       "rideDistance     0.053652  0.297335     0.145453       0.102136  0.232431   \n",
       "roadKills        0.009075  0.054746     0.077769       0.024137  0.038494   \n",
       "swimDistance     0.013175  0.116358     0.043424       0.036599  0.086096   \n",
       "vehicleDestroys  0.024428  0.075910     0.073722       0.044225  0.052210   \n",
       "walkDistance     0.107528  0.640681     0.431012       0.316650  0.408585   \n",
       "weaponsAcquired  0.225942  0.383269     0.399176       0.263689  0.268044   \n",
       "winPoints        0.023644 -0.001372     0.010891       0.003297 -0.004635   \n",
       "winPlacePerc     0.121995  0.637657     0.486373       0.340518  0.401479   \n",
       "\n",
       "                 killPlace  killPoints     kills  killStreaks  longestKill  \\\n",
       "assists          -0.127608    0.026765  0.257575     0.133142     0.134148   \n",
       "boosts           -0.565910    0.012639  0.558899     0.409111     0.455136   \n",
       "damageDealt      -0.698107    0.038778  0.947361     0.680776     0.615736   \n",
       "headshotKills    -0.471829    0.021107  0.706370     0.479361     0.518793   \n",
       "heals            -0.360601    0.001563  0.315803     0.258067     0.247419   \n",
       "killPlace         1.000000   -0.012610 -0.707705    -0.799306    -0.548750   \n",
       "killPoints       -0.012610    1.000000  0.036751     0.036907     0.016632   \n",
       "kills            -0.707705    0.036751  1.000000     0.720475     0.637182   \n",
       "killStreaks      -0.799306    0.036907  0.720475     1.000000     0.507850   \n",
       "longestKill      -0.548750    0.016632  0.637182     0.507850     1.000000   \n",
       "matchDuration    -0.004592   -0.073591 -0.035041    -0.044453     0.053814   \n",
       "maxPlace          0.180715    0.075545 -0.020813     0.042189     0.016155   \n",
       "rankPoints       -0.021857   -0.977486  0.001577    -0.002356     0.012151   \n",
       "rideDistance     -0.229550   -0.004574  0.136597     0.110263     0.189750   \n",
       "roadKills        -0.068451    0.005648  0.082065     0.103105     0.034127   \n",
       "swimDistance     -0.098876   -0.002737  0.047692     0.042058     0.060080   \n",
       "vehicleDestroys  -0.058470   -0.007525  0.070258     0.040593     0.071729   \n",
       "walkDistance     -0.605418    0.010646  0.429297     0.353541     0.442324   \n",
       "weaponsAcquired  -0.535173    0.002651  0.393739     0.321232     0.292439   \n",
       "winPoints         0.005385    0.984765  0.010376     0.012598    -0.000506   \n",
       "winPlacePerc     -0.758328    0.023764  0.481300     0.448532     0.438626   \n",
       "\n",
       "                 matchDuration  maxPlace  rankPoints  rideDistance  roadKills  \\\n",
       "assists              -0.025409 -0.090752   -0.020935      0.053652   0.009075   \n",
       "boosts                0.046917  0.032663    0.020009      0.297335   0.054746   \n",
       "damageDealt          -0.017886 -0.057551    0.002025      0.145453   0.077769   \n",
       "headshotKills        -0.019313 -0.015145    0.004783      0.102136   0.024137   \n",
       "heals                 0.082673  0.013531    0.015267      0.232431   0.038494   \n",
       "killPlace            -0.004592  0.180715   -0.021857     -0.229550  -0.068451   \n",
       "killPoints           -0.073591  0.075545   -0.977486     -0.004574   0.005648   \n",
       "kills                -0.035041 -0.020813    0.001577      0.136597   0.082065   \n",
       "killStreaks          -0.044453  0.042189   -0.002356      0.110263   0.103105   \n",
       "longestKill           0.053814  0.016155    0.012151      0.189750   0.034127   \n",
       "matchDuration         1.000000 -0.024418    0.062692      0.318552   0.050948   \n",
       "maxPlace             -0.024418  1.000000   -0.063358      0.004706   0.000424   \n",
       "rankPoints            0.062692 -0.063358    1.000000      0.016584  -0.002876   \n",
       "rideDistance          0.318552  0.004706    0.016584      1.000000   0.147076   \n",
       "roadKills             0.050948  0.000424   -0.002876      0.147076   1.000000   \n",
       "swimDistance          0.011642  0.009980    0.003607      0.043177   0.006533   \n",
       "vehicleDestroys       0.052650  0.004889    0.010787      0.108857   0.026241   \n",
       "walkDistance          0.161235  0.052950    0.010690      0.271902   0.039664   \n",
       "weaponsAcquired       0.128182 -0.126621    0.009042      0.245483   0.037529   \n",
       "winPoints            -0.065164  0.067780   -0.994190     -0.005104   0.004354   \n",
       "winPlacePerc         -0.010129  0.096106    0.003414      0.323231   0.049931   \n",
       "\n",
       "                 swimDistance  vehicleDestroys  walkDistance  weaponsAcquired  \\\n",
       "assists              0.013175         0.024428      0.107528         0.225942   \n",
       "boosts               0.116358         0.075910      0.640681         0.383269   \n",
       "damageDealt          0.043424         0.073722      0.431012         0.399176   \n",
       "headshotKills        0.036599         0.044225      0.316650         0.263689   \n",
       "heals                0.086096         0.052210      0.408585         0.268044   \n",
       "killPlace           -0.098876        -0.058470     -0.605418        -0.535173   \n",
       "killPoints          -0.002737        -0.007525      0.010646         0.002651   \n",
       "kills                0.047692         0.070258      0.429297         0.393739   \n",
       "killStreaks          0.042058         0.040593      0.353541         0.321232   \n",
       "longestKill          0.060080         0.071729      0.442324         0.292439   \n",
       "matchDuration        0.011642         0.052650      0.161235         0.128182   \n",
       "maxPlace             0.009980         0.004889      0.052950        -0.126621   \n",
       "rankPoints           0.003607         0.010787      0.010690         0.009042   \n",
       "rideDistance         0.043177         0.108857      0.271902         0.245483   \n",
       "roadKills            0.006533         0.026241      0.039664         0.037529   \n",
       "swimDistance         1.000000         0.007884      0.184675         0.077253   \n",
       "vehicleDestroys      0.007884         1.000000      0.061269         0.047477   \n",
       "walkDistance         0.184675         0.061269      1.000000         0.511181   \n",
       "weaponsAcquired      0.077253         0.047477      0.511181         1.000000   \n",
       "winPoints           -0.000507        -0.008925      0.007825         0.003578   \n",
       "winPlacePerc         0.165966         0.060763      0.811821         0.605194   \n",
       "\n",
       "                 winPoints  winPlacePerc  \n",
       "assists           0.023644      0.121995  \n",
       "boosts           -0.001372      0.637657  \n",
       "damageDealt       0.010891      0.486373  \n",
       "headshotKills     0.003297      0.340518  \n",
       "heals            -0.004635      0.401479  \n",
       "killPlace         0.005385     -0.758328  \n",
       "killPoints        0.984765      0.023764  \n",
       "kills             0.010376      0.481300  \n",
       "killStreaks       0.012598      0.448532  \n",
       "longestKill      -0.000506      0.438626  \n",
       "matchDuration    -0.065164     -0.010129  \n",
       "maxPlace          0.067780      0.096106  \n",
       "rankPoints       -0.994190      0.003414  \n",
       "rideDistance     -0.005104      0.323231  \n",
       "roadKills         0.004354      0.049931  \n",
       "swimDistance     -0.000507      0.165966  \n",
       "vehicleDestroys  -0.008925      0.060763  \n",
       "walkDistance      0.007825      0.811821  \n",
       "weaponsAcquired   0.003578      0.605194  \n",
       "winPoints         1.000000      0.019719  \n",
       "winPlacePerc      0.019719      1.000000  "
      ]
     },
     "execution_count": 9,
     "metadata": {},
     "output_type": "execute_result"
    }
   ],
   "source": [
    "corr = solo.corr()\n",
    "corr"
   ]
  },
  {
   "cell_type": "code",
   "execution_count": 23,
   "metadata": {},
   "outputs": [
    {
     "data": {
      "image/png": "[encoded data removed]",
      "text/plain": [
       "<matplotlib.figure.Figure at 0x10c32d080>"
      ]
     },
     "metadata": {},
     "output_type": "display_data"
    }
   ],
   "source": [
    "f, ax = plt.subplots(figsize=(20, 15))\n",
    "heatmap = sns.heatmap(corr,annot=True, linewidths=0.3)"
   ]
  },
  {
   "cell_type": "markdown",
   "metadata": {},
   "source": [
    "# 3. Model Selection & Feature Selection"
   ]
  },
  {
   "cell_type": "code",
   "execution_count": 7,
   "metadata": {},
   "outputs": [],
   "source": [
    "y = np.array(solo[\"winPlacePerc\"])\n",
    "X = np.array(solo.drop(\"winPlacePerc\",axis=1))\n",
    "X_train,X_test,y_train,y_test = train_test_split(X, y,\n",
    "                                               test_size=0.3,\n",
    "                                               random_state=123)"
   ]
  },
  {
   "cell_type": "markdown",
   "metadata": {},
   "source": [
    "# (1). KNN"
   ]
  },
  {
   "cell_type": "code",
   "execution_count": 94,
   "metadata": {},
   "outputs": [
    {
     "data": {
      "text/plain": [
       "KNeighborsRegressor(algorithm='auto', leaf_size=30, metric='minkowski',\n",
       "          metric_params=None, n_jobs=1, n_neighbors=5, p=2,\n",
       "          weights='uniform')"
      ]
     },
     "execution_count": 94,
     "metadata": {},
     "output_type": "execute_result"
    }
   ],
   "source": [
    "KNeighborsRegressor()"
   ]
  },
  {
   "cell_type": "code",
   "execution_count": null,
   "metadata": {},
   "outputs": [],
   "source": [
    "pipe = make_pipeline(StandardScaler(), KNeighborsRegressor())\n",
    "param_knn = {'kneighborsregressor__n_neighbors': range(6,13,2)}\n",
    "gs_knn = GridSearchCV(pipe, param_knn,cv=5)\n",
    "gs_knn.fit(X_train,y_train)\n",
    "print('Best Accuracy: %.2f%%' % (gs_knn.best_score_*100))\n",
    "print(gs_knn.best_params_)"
   ]
  },
  {
   "cell_type": "code",
   "execution_count": null,
   "metadata": {},
   "outputs": [],
   "source": [
    "pipe = make_pipeline(StandardScaler(), KNeighborsRegressor(n_neighbors = 12))\n",
    "pipe.fit(X_train , y_train)\n",
    "print(\"The accuracy on validation set is : %0.2f%%\"  % (pipe.score(X_test , y_test)))    # R^2\n",
    "print(\"The mse on validation set is : %0.4f\"  % mean_squared_error(y_test , pipe.predict(X_test)))  # MSE"
   ]
  },
  {
   "cell_type": "markdown",
   "metadata": {},
   "source": [
    "# (2). RF"
   ]
  },
  {
   "cell_type": "code",
   "execution_count": 15,
   "metadata": {},
   "outputs": [
    {
     "data": {
      "text/plain": [
       "RandomForestRegressor(bootstrap=True, criterion='mse', max_depth=None,\n",
       "           max_features='auto', max_leaf_nodes=None,\n",
       "           min_impurity_decrease=0.0, min_impurity_split=None,\n",
       "           min_samples_leaf=1, min_samples_split=2,\n",
       "           min_weight_fraction_leaf=0.0, n_estimators=10, n_jobs=1,\n",
       "           oob_score=False, random_state=None, verbose=0, warm_start=False)"
      ]
     },
     "execution_count": 15,
     "metadata": {},
     "output_type": "execute_result"
    }
   ],
   "source": [
    "RandomForestRegressor()"
   ]
  },
  {
   "cell_type": "code",
   "execution_count": 9,
   "metadata": {},
   "outputs": [
    {
     "name": "stdout",
     "output_type": "stream",
     "text": [
      "Best Accuracy: 94.19%\n",
      "{'min_samples_split': 10, 'n_estimators': 39}\n"
     ]
    }
   ],
   "source": [
    "forest = RandomForestRegressor(max_depth=10, random_state = 123)\n",
    "param_forest = { \"n_estimators\" : range(30 , 40 , 3),\n",
    "                \"min_samples_split\" : range(8 , 11 , 2)}\n",
    "gs_forest = GridSearchCV(forest,param_forest,cv=5)\n",
    "gs_forest.fit(X_train,y_train)\n",
    "print('Best Accuracy: %.2f%%' % (gs_forest.best_score_*100))\n",
    "print(gs_forest.best_params_)"
   ]
  },
  {
   "cell_type": "code",
   "execution_count": 20,
   "metadata": {},
   "outputs": [
    {
     "data": {
      "text/plain": [
       "{'min_samples_split': 10, 'n_estimators': 39}"
      ]
     },
     "execution_count": 20,
     "metadata": {},
     "output_type": "execute_result"
    }
   ],
   "source": [
    "forest = RandomForestRegressor(max_depth=15, random_state = 123, n_estimators=48)\n",
    "param_forest = {\"min_samples_split\" : range(2, 9 , 2)}\n",
    "gs_forest = GridSearchCV(forest,param_forest,cv = 3)\n",
    "gs_forest.fit(X_train,y_train)\n",
    "print('Best Accuracy: %.2f%%' % (gs_forest.best_score_*100))\n",
    "print(gs_forest.best_params_)"
   ]
  },
  {
   "cell_type": "code",
   "execution_count": null,
   "metadata": {},
   "outputs": [],
   "source": [
    "forest = RandomForestRegressor(max_depth=15, random_state = 123, n_estimators=48)\n",
    "param_forest = { \"min_samples_split\" : range(8,13,2)}\n",
    "gs_forest = GridSearchCV(forest,param_forest,cv = 3)\n",
    "gs_forest.fit(X_train,y_train)\n",
    "print('Best Accuracy: %.2f%%' % (gs_forest.best_score_*100))\n",
    "print(gs_forest.best_params_)"
   ]
  },
  {
   "cell_type": "code",
   "execution_count": 37,
   "metadata": {},
   "outputs": [
    {
     "data": {
      "text/plain": [
       "RandomForestRegressor(bootstrap=True, criterion='mse', max_depth=15,\n",
       "           max_features='auto', max_leaf_nodes=None,\n",
       "           min_impurity_decrease=0.0, min_impurity_split=None,\n",
       "           min_samples_leaf=1, min_samples_split=10,\n",
       "           min_weight_fraction_leaf=0.0, n_estimators=48, n_jobs=1,\n",
       "           oob_score=False, random_state=None, verbose=0, warm_start=False)"
      ]
     },
     "execution_count": 37,
     "metadata": {},
     "output_type": "execute_result"
    }
   ],
   "source": [
    "forest = RandomForestRegressor(max_depth=15,  min_samples_split = 10 , n_estimators = 48)\n",
    "forest.fit(X_train , y_train)"
   ]
  },
  {
   "cell_type": "code",
   "execution_count": 38,
   "metadata": {},
   "outputs": [
    {
     "name": "stdout",
     "output_type": "stream",
     "text": [
      "The score on validation set is : 0.9535\n",
      "The mse on validation set is : 0.004139\n"
     ]
    }
   ],
   "source": [
    "print(\"The score on validation set is : %0.4f\"  % forest.score(X_test , y_test) )\n",
    "print(\"The mse on validation set is : %0.6f\"  % mean_squared_error(y_test , forest.predict(X_test)))"
   ]
  },
  {
   "cell_type": "code",
   "execution_count": 60,
   "metadata": {},
   "outputs": [],
   "source": [
    "imp_vals, _ = feature_importance_permutation(\n",
    "    predict_method=forest.predict, \n",
    "    X=X_test,\n",
    "    y=y_test,\n",
    "    metric='r2',\n",
    "    num_rounds=1,\n",
    "    seed=1)"
   ]
  },
  {
   "cell_type": "code",
   "execution_count": 66,
   "metadata": {},
   "outputs": [
    {
     "data": {
      "text/plain": [
       "array([ 8.74846713e-05,  4.05452231e-03,  1.98975445e-03,  5.09996536e-05,\n",
       "        3.29269943e-04,  5.60242041e-01,  1.58966248e-04,  3.86481854e-02,\n",
       "        1.70448690e-02,  5.56299849e-04,  2.02687259e-02,  3.36673223e-02,\n",
       "        3.04504799e-04,  2.11143783e-03, -9.39193214e-08,  8.71057134e-05,\n",
       "        4.50906355e-07,  3.18412547e-01,  1.02468301e-03,  9.60923839e-04])"
      ]
     },
     "execution_count": 66,
     "metadata": {},
     "output_type": "execute_result"
    }
   ],
   "source": [
    "imp_vals = imp_vals / np.sum(imp_vals)\n",
    "imp_vals"
   ]
  },
  {
   "cell_type": "code",
   "execution_count": 67,
   "metadata": {},
   "outputs": [
    {
     "data": {
      "text/plain": [
       "array([ 5, 17,  7, 11, 10,  8,  1, 13,  2, 18, 19,  9,  4, 12,  6,  0, 15,\n",
       "        3, 16, 14])"
      ]
     },
     "execution_count": 67,
     "metadata": {},
     "output_type": "execute_result"
    }
   ],
   "source": [
    "indices = np.argsort(imp_vals)[::-1]\n",
    "indices"
   ]
  },
  {
   "cell_type": "code",
   "execution_count": 68,
   "metadata": {},
   "outputs": [
    {
     "data": {
      "text/plain": [
       "Index(['killPlace', 'walkDistance', 'kills', 'maxPlace', 'matchDuration',\n",
       "       'killStreaks', 'boosts', 'rideDistance', 'damageDealt',\n",
       "       'weaponsAcquired', 'winPoints', 'longestKill', 'heals', 'rankPoints',\n",
       "       'killPoints', 'assists', 'swimDistance', 'headshotKills',\n",
       "       'vehicleDestroys', 'roadKills'],\n",
       "      dtype='object')"
      ]
     },
     "execution_count": 68,
     "metadata": {},
     "output_type": "execute_result"
    }
   ],
   "source": [
    "solo.columns[indices]"
   ]
  },
  {
   "cell_type": "code",
   "execution_count": 69,
   "metadata": {},
   "outputs": [
    {
     "data": {
      "image/png": "[encoded data removed]",
      "text/plain": [
       "<matplotlib.figure.Figure at 0x1a550dc588>"
      ]
     },
     "metadata": {},
     "output_type": "display_data"
    }
   ],
   "source": [
    "f, ax= plt.subplots(figsize = (12,6))\n",
    "plt.title(\"Random Forest feature importance via permutation importance\")\n",
    "plt.bar(range(X.shape[1]), imp_vals[indices])\n",
    "plt.xticks(range(X.shape[1]),solo.columns[indices], rotation = 'vertical')\n",
    "plt.xlim([-1, X.shape[1]])\n",
    "plt.ylim([0, 1])\n",
    "plt.show()"
   ]
  },
  {
   "cell_type": "code",
   "execution_count": 91,
   "metadata": {},
   "outputs": [
    {
     "data": {
      "text/html": [
       "<div>\n",
       "<style scoped>\n",
       "    .dataframe tbody tr th:only-of-type {\n",
       "        vertical-align: middle;\n",
       "    }\n",
       "\n",
       "    .dataframe tbody tr th {\n",
       "        vertical-align: top;\n",
       "    }\n",
       "\n",
       "    .dataframe thead th {\n",
       "        text-align: right;\n",
       "    }\n",
       "</style>\n",
       "<table border=\"1\" class=\"dataframe\">\n",
       "  <thead>\n",
       "    <tr style=\"text-align: right;\">\n",
       "      <th></th>\n",
       "      <th>col</th>\n",
       "      <th>importance</th>\n",
       "      <th>rank</th>\n",
       "    </tr>\n",
       "  </thead>\n",
       "  <tbody>\n",
       "    <tr>\n",
       "      <th>killPlace</th>\n",
       "      <td>5</td>\n",
       "      <td>56.02%</td>\n",
       "      <td>1</td>\n",
       "    </tr>\n",
       "    <tr>\n",
       "      <th>walkDistance</th>\n",
       "      <td>17</td>\n",
       "      <td>31.84%</td>\n",
       "      <td>2</td>\n",
       "    </tr>\n",
       "    <tr>\n",
       "      <th>kills</th>\n",
       "      <td>7</td>\n",
       "      <td>3.86%</td>\n",
       "      <td>3</td>\n",
       "    </tr>\n",
       "    <tr>\n",
       "      <th>maxPlace</th>\n",
       "      <td>11</td>\n",
       "      <td>3.37%</td>\n",
       "      <td>4</td>\n",
       "    </tr>\n",
       "    <tr>\n",
       "      <th>matchDuration</th>\n",
       "      <td>10</td>\n",
       "      <td>2.03%</td>\n",
       "      <td>5</td>\n",
       "    </tr>\n",
       "    <tr>\n",
       "      <th>killStreaks</th>\n",
       "      <td>8</td>\n",
       "      <td>1.70%</td>\n",
       "      <td>6</td>\n",
       "    </tr>\n",
       "    <tr>\n",
       "      <th>boosts</th>\n",
       "      <td>1</td>\n",
       "      <td>0.41%</td>\n",
       "      <td>7</td>\n",
       "    </tr>\n",
       "    <tr>\n",
       "      <th>rideDistance</th>\n",
       "      <td>13</td>\n",
       "      <td>0.21%</td>\n",
       "      <td>8</td>\n",
       "    </tr>\n",
       "    <tr>\n",
       "      <th>damageDealt</th>\n",
       "      <td>2</td>\n",
       "      <td>0.20%</td>\n",
       "      <td>9</td>\n",
       "    </tr>\n",
       "    <tr>\n",
       "      <th>weaponsAcquired</th>\n",
       "      <td>18</td>\n",
       "      <td>0.10%</td>\n",
       "      <td>10</td>\n",
       "    </tr>\n",
       "    <tr>\n",
       "      <th>winPoints</th>\n",
       "      <td>19</td>\n",
       "      <td>0.10%</td>\n",
       "      <td>11</td>\n",
       "    </tr>\n",
       "    <tr>\n",
       "      <th>longestKill</th>\n",
       "      <td>9</td>\n",
       "      <td>0.06%</td>\n",
       "      <td>12</td>\n",
       "    </tr>\n",
       "    <tr>\n",
       "      <th>heals</th>\n",
       "      <td>4</td>\n",
       "      <td>0.03%</td>\n",
       "      <td>13</td>\n",
       "    </tr>\n",
       "    <tr>\n",
       "      <th>rankPoints</th>\n",
       "      <td>12</td>\n",
       "      <td>0.03%</td>\n",
       "      <td>14</td>\n",
       "    </tr>\n",
       "    <tr>\n",
       "      <th>killPoints</th>\n",
       "      <td>6</td>\n",
       "      <td>0.02%</td>\n",
       "      <td>15</td>\n",
       "    </tr>\n",
       "    <tr>\n",
       "      <th>assists</th>\n",
       "      <td>0</td>\n",
       "      <td>0.01%</td>\n",
       "      <td>16</td>\n",
       "    </tr>\n",
       "    <tr>\n",
       "      <th>swimDistance</th>\n",
       "      <td>15</td>\n",
       "      <td>0.01%</td>\n",
       "      <td>17</td>\n",
       "    </tr>\n",
       "    <tr>\n",
       "      <th>headshotKills</th>\n",
       "      <td>3</td>\n",
       "      <td>0.01%</td>\n",
       "      <td>18</td>\n",
       "    </tr>\n",
       "    <tr>\n",
       "      <th>vehicleDestroys</th>\n",
       "      <td>16</td>\n",
       "      <td>0.00%</td>\n",
       "      <td>19</td>\n",
       "    </tr>\n",
       "    <tr>\n",
       "      <th>roadKills</th>\n",
       "      <td>14</td>\n",
       "      <td>-0.00%</td>\n",
       "      <td>20</td>\n",
       "    </tr>\n",
       "  </tbody>\n",
       "</table>\n",
       "</div>"
      ],
      "text/plain": [
       "                 col importance  rank\n",
       "killPlace          5     56.02%     1\n",
       "walkDistance      17     31.84%     2\n",
       "kills              7      3.86%     3\n",
       "maxPlace          11      3.37%     4\n",
       "matchDuration     10      2.03%     5\n",
       "killStreaks        8      1.70%     6\n",
       "boosts             1      0.41%     7\n",
       "rideDistance      13      0.21%     8\n",
       "damageDealt        2      0.20%     9\n",
       "weaponsAcquired   18      0.10%    10\n",
       "winPoints         19      0.10%    11\n",
       "longestKill        9      0.06%    12\n",
       "heals              4      0.03%    13\n",
       "rankPoints        12      0.03%    14\n",
       "killPoints         6      0.02%    15\n",
       "assists            0      0.01%    16\n",
       "swimDistance      15      0.01%    17\n",
       "headshotKills      3      0.01%    18\n",
       "vehicleDestroys   16      0.00%    19\n",
       "roadKills         14     -0.00%    20"
      ]
     },
     "execution_count": 91,
     "metadata": {},
     "output_type": "execute_result"
    }
   ],
   "source": [
    "forest_df = pd.DataFrame(columns=['col','importance','rank'], index=solo.columns[indices])\n",
    "forest_df['rank'] = range(1,21)\n",
    "forest_df['col'] = indices\n",
    "forest_df['importance'] = list(map(lambda x: format(x, '.2%'), imp_vals[indices]))\n",
    "forest_df"
   ]
  },
  {
   "cell_type": "markdown",
   "metadata": {},
   "source": [
    "# (3). GBDT"
   ]
  },
  {
   "cell_type": "code",
   "execution_count": 21,
   "metadata": {},
   "outputs": [],
   "source": [
    "from sklearn.ensemble import GradientBoostingRegressor"
   ]
  },
  {
   "cell_type": "code",
   "execution_count": 26,
   "metadata": {},
   "outputs": [
    {
     "data": {
      "text/plain": [
       "GradientBoostingRegressor(alpha=0.9, criterion='friedman_mse', init=None,\n",
       "             learning_rate=0.1, loss='ls', max_depth=3, max_features=None,\n",
       "             max_leaf_nodes=None, min_impurity_decrease=0.0,\n",
       "             min_impurity_split=None, min_samples_leaf=1,\n",
       "             min_samples_split=2, min_weight_fraction_leaf=0.0,\n",
       "             n_estimators=100, presort='auto', random_state=None,\n",
       "             subsample=1.0, verbose=0, warm_start=False)"
      ]
     },
     "execution_count": 26,
     "metadata": {},
     "output_type": "execute_result"
    }
   ],
   "source": [
    "GradientBoostingRegressor()"
   ]
  },
  {
   "cell_type": "code",
   "execution_count": 31,
   "metadata": {},
   "outputs": [
    {
     "name": "stdout",
     "output_type": "stream",
     "text": [
      "Best Accuracy: 95.17%\n",
      "{'max_depth': 5}\n"
     ]
    }
   ],
   "source": [
    "gbtree = GradientBoostingRegressor()\n",
    "param_gbtree = { \"max_depth\" : range(3,6)}\n",
    "gs_gbtree = GridSearchCV(gbtree, param_gbtree, cv=5)\n",
    "gs_gbtree.fit(X_train,y_train)\n",
    "print('Best Accuracy: %.2f%%' % (gs_gbtree.best_score_*100))\n",
    "print(gs_gbtree.best_params_)"
   ]
  },
  {
   "cell_type": "code",
   "execution_count": 37,
   "metadata": {},
   "outputs": [
    {
     "name": "stdout",
     "output_type": "stream",
     "text": [
      "Best Accuracy: 95.59%\n",
      "{'n_estimators': 250}\n"
     ]
    }
   ],
   "source": [
    "gbtree = GradientBoostingRegressor(max_depth=5, min_samples_split = 600)\n",
    "param_gbtree = { \"n_estimators\" : range(100,201,50) }\n",
    "gs_gbtree = GridSearchCV(gbtree, param_gbtree, cv=3)\n",
    "gs_gbtree.fit(X_train,y_train)\n",
    "print('Best Accuracy: %.2f%%' % (gs_gbtree.best_score_*100))\n",
    "print(gs_gbtree.best_params_)"
   ]
  },
  {
   "cell_type": "code",
   "execution_count": 24,
   "metadata": {},
   "outputs": [
    {
     "data": {
      "text/plain": [
       "GradientBoostingRegressor(alpha=0.9, criterion='friedman_mse', init=None,\n",
       "             learning_rate=0.1, loss='ls', max_depth=5, max_features=None,\n",
       "             max_leaf_nodes=None, min_impurity_decrease=0.0,\n",
       "             min_impurity_split=None, min_samples_leaf=1,\n",
       "             min_samples_split=600, min_weight_fraction_leaf=0.0,\n",
       "             n_estimators=250, n_iter_no_change=None, presort='auto',\n",
       "             random_state=None, subsample=1.0, tol=0.0001,\n",
       "             validation_fraction=0.1, verbose=0, warm_start=False)"
      ]
     },
     "execution_count": 24,
     "metadata": {},
     "output_type": "execute_result"
    }
   ],
   "source": [
    "gbtree = GradientBoostingRegressor(max_depth=5, min_samples_split = 600, n_estimators=250)\n",
    "gbtree.fit(X_train , y_train)"
   ]
  },
  {
   "cell_type": "code",
   "execution_count": 44,
   "metadata": {},
   "outputs": [
    {
     "name": "stdout",
     "output_type": "stream",
     "text": [
      "The score on validation set is : 0.9560\n",
      "The mse on validation set is : 0.003914\n"
     ]
    }
   ],
   "source": [
    "print(\"The score on validation set is : %0.4f\"  % gbtree.score(X_test , y_test) )\n",
    "print(\"The mse on validation set is : %0.6f\"  % mean_squared_error(y_test , gbtree.predict(X_test)))"
   ]
  },
  {
   "cell_type": "code",
   "execution_count": 26,
   "metadata": {},
   "outputs": [],
   "source": [
    "imp_vals, _ = feature_importance_permutation(\n",
    "    predict_method=gbtree.predict, \n",
    "    X=X_test,\n",
    "    y=y_test,\n",
    "    metric='r2',\n",
    "    num_rounds=1,\n",
    "    seed=1)\n",
    "imp_vals = imp_vals / np.sum(imp_vals)\n",
    "indices = np.argsort(imp_vals)[::-1]"
   ]
  },
  {
   "cell_type": "code",
   "execution_count": 27,
   "metadata": {},
   "outputs": [
    {
     "data": {
      "image/png": "[encoded data removed]",
      "text/plain": [
       "<matplotlib.figure.Figure at 0x124b0c400>"
      ]
     },
     "metadata": {},
     "output_type": "display_data"
    }
   ],
   "source": [
    "f, ax= plt.subplots(figsize = (12,6))\n",
    "plt.title(\"GBDT feature importance via permutation importance\")\n",
    "plt.bar(range(X.shape[1]), imp_vals[indices])\n",
    "plt.xticks(range(X.shape[1]),solo.columns[indices], rotation = 'vertical')\n",
    "plt.xlim([-1, X.shape[1]])\n",
    "plt.ylim([0, 1])\n",
    "plt.show()"
   ]
  },
  {
   "cell_type": "code",
   "execution_count": 28,
   "metadata": {},
   "outputs": [
    {
     "data": {
      "text/html": [
       "<div>\n",
       "<style scoped>\n",
       "    .dataframe tbody tr th:only-of-type {\n",
       "        vertical-align: middle;\n",
       "    }\n",
       "\n",
       "    .dataframe tbody tr th {\n",
       "        vertical-align: top;\n",
       "    }\n",
       "\n",
       "    .dataframe thead th {\n",
       "        text-align: right;\n",
       "    }\n",
       "</style>\n",
       "<table border=\"1\" class=\"dataframe\">\n",
       "  <thead>\n",
       "    <tr style=\"text-align: right;\">\n",
       "      <th></th>\n",
       "      <th>col</th>\n",
       "      <th>importance</th>\n",
       "      <th>rank</th>\n",
       "    </tr>\n",
       "  </thead>\n",
       "  <tbody>\n",
       "    <tr>\n",
       "      <th>killPlace</th>\n",
       "      <td>5</td>\n",
       "      <td>63.37%</td>\n",
       "      <td>1</td>\n",
       "    </tr>\n",
       "    <tr>\n",
       "      <th>walkDistance</th>\n",
       "      <td>17</td>\n",
       "      <td>20.67%</td>\n",
       "      <td>2</td>\n",
       "    </tr>\n",
       "    <tr>\n",
       "      <th>kills</th>\n",
       "      <td>7</td>\n",
       "      <td>6.00%</td>\n",
       "      <td>3</td>\n",
       "    </tr>\n",
       "    <tr>\n",
       "      <th>maxPlace</th>\n",
       "      <td>11</td>\n",
       "      <td>4.93%</td>\n",
       "      <td>4</td>\n",
       "    </tr>\n",
       "    <tr>\n",
       "      <th>killStreaks</th>\n",
       "      <td>8</td>\n",
       "      <td>2.21%</td>\n",
       "      <td>5</td>\n",
       "    </tr>\n",
       "    <tr>\n",
       "      <th>matchDuration</th>\n",
       "      <td>10</td>\n",
       "      <td>1.64%</td>\n",
       "      <td>6</td>\n",
       "    </tr>\n",
       "    <tr>\n",
       "      <th>boosts</th>\n",
       "      <td>1</td>\n",
       "      <td>0.47%</td>\n",
       "      <td>7</td>\n",
       "    </tr>\n",
       "    <tr>\n",
       "      <th>rideDistance</th>\n",
       "      <td>13</td>\n",
       "      <td>0.21%</td>\n",
       "      <td>8</td>\n",
       "    </tr>\n",
       "    <tr>\n",
       "      <th>weaponsAcquired</th>\n",
       "      <td>18</td>\n",
       "      <td>0.15%</td>\n",
       "      <td>9</td>\n",
       "    </tr>\n",
       "    <tr>\n",
       "      <th>damageDealt</th>\n",
       "      <td>2</td>\n",
       "      <td>0.07%</td>\n",
       "      <td>10</td>\n",
       "    </tr>\n",
       "    <tr>\n",
       "      <th>longestKill</th>\n",
       "      <td>9</td>\n",
       "      <td>0.06%</td>\n",
       "      <td>11</td>\n",
       "    </tr>\n",
       "    <tr>\n",
       "      <th>rankPoints</th>\n",
       "      <td>12</td>\n",
       "      <td>0.06%</td>\n",
       "      <td>12</td>\n",
       "    </tr>\n",
       "    <tr>\n",
       "      <th>heals</th>\n",
       "      <td>4</td>\n",
       "      <td>0.05%</td>\n",
       "      <td>13</td>\n",
       "    </tr>\n",
       "    <tr>\n",
       "      <th>winPoints</th>\n",
       "      <td>19</td>\n",
       "      <td>0.05%</td>\n",
       "      <td>14</td>\n",
       "    </tr>\n",
       "    <tr>\n",
       "      <th>swimDistance</th>\n",
       "      <td>15</td>\n",
       "      <td>0.02%</td>\n",
       "      <td>15</td>\n",
       "    </tr>\n",
       "    <tr>\n",
       "      <th>assists</th>\n",
       "      <td>0</td>\n",
       "      <td>0.02%</td>\n",
       "      <td>16</td>\n",
       "    </tr>\n",
       "    <tr>\n",
       "      <th>killPoints</th>\n",
       "      <td>6</td>\n",
       "      <td>0.02%</td>\n",
       "      <td>17</td>\n",
       "    </tr>\n",
       "    <tr>\n",
       "      <th>roadKills</th>\n",
       "      <td>14</td>\n",
       "      <td>0.00%</td>\n",
       "      <td>18</td>\n",
       "    </tr>\n",
       "    <tr>\n",
       "      <th>headshotKills</th>\n",
       "      <td>3</td>\n",
       "      <td>0.00%</td>\n",
       "      <td>19</td>\n",
       "    </tr>\n",
       "    <tr>\n",
       "      <th>vehicleDestroys</th>\n",
       "      <td>16</td>\n",
       "      <td>0.00%</td>\n",
       "      <td>20</td>\n",
       "    </tr>\n",
       "  </tbody>\n",
       "</table>\n",
       "</div>"
      ],
      "text/plain": [
       "                 col importance  rank\n",
       "killPlace          5     63.37%     1\n",
       "walkDistance      17     20.67%     2\n",
       "kills              7      6.00%     3\n",
       "maxPlace          11      4.93%     4\n",
       "killStreaks        8      2.21%     5\n",
       "matchDuration     10      1.64%     6\n",
       "boosts             1      0.47%     7\n",
       "rideDistance      13      0.21%     8\n",
       "weaponsAcquired   18      0.15%     9\n",
       "damageDealt        2      0.07%    10\n",
       "longestKill        9      0.06%    11\n",
       "rankPoints        12      0.06%    12\n",
       "heals              4      0.05%    13\n",
       "winPoints         19      0.05%    14\n",
       "swimDistance      15      0.02%    15\n",
       "assists            0      0.02%    16\n",
       "killPoints         6      0.02%    17\n",
       "roadKills         14      0.00%    18\n",
       "headshotKills      3      0.00%    19\n",
       "vehicleDestroys   16      0.00%    20"
      ]
     },
     "execution_count": 28,
     "metadata": {},
     "output_type": "execute_result"
    }
   ],
   "source": [
    "gbtree_df = pd.DataFrame(columns=['col','importance','rank'], index=solo.columns[indices])\n",
    "gbtree_df['rank'] = range(1,21)\n",
    "gbtree_df['col'] = indices\n",
    "gbtree_df['importance'] = list(map(lambda x: format(x, '.2%'), imp_vals[indices]))\n",
    "gbtree_df"
   ]
  },
  {
   "cell_type": "markdown",
   "metadata": {},
   "source": [
    "# (4). XGboost"
   ]
  },
  {
   "cell_type": "code",
   "execution_count": 30,
   "metadata": {},
   "outputs": [],
   "source": [
    "import xgboost as xgb\n",
    "from xgboost.sklearn import XGBRegressor"
   ]
  },
  {
   "cell_type": "code",
   "execution_count": 10,
   "metadata": {},
   "outputs": [
    {
     "data": {
      "text/plain": [
       "XGBRegressor(base_score=0.5, booster='gbtree', colsample_bylevel=1,\n",
       "       colsample_bytree=1, gamma=0, learning_rate=0.1, max_delta_step=0,\n",
       "       max_depth=3, min_child_weight=1, missing=None, n_estimators=100,\n",
       "       n_jobs=1, nthread=None, objective='reg:linear', random_state=0,\n",
       "       reg_alpha=0, reg_lambda=1, scale_pos_weight=1, seed=None,\n",
       "       silent=True, subsample=1)"
      ]
     },
     "execution_count": 10,
     "metadata": {},
     "output_type": "execute_result"
    }
   ],
   "source": [
    "XGBRegressor()"
   ]
  },
  {
   "cell_type": "code",
   "execution_count": 32,
   "metadata": {},
   "outputs": [
    {
     "name": "stdout",
     "output_type": "stream",
     "text": [
      "Best Accuracy: 95.68%\n",
      "{'learning_rate': 0.20000000000000004, 'max_depth': 5, 'n_estimators': 200}\n"
     ]
    }
   ],
   "source": [
    "xgb = XGBRegressor()\n",
    "param_xgb = { \"learning_rate\" : np.arange(0.1,0.21,0.05), \n",
    "                      'n_estimators' : range(100,201,50),\n",
    "                       'max_depth' : [3,4,5]}\n",
    "gs_xgb = GridSearchCV(xgb, param_xgb, cv=3)\n",
    "gs_xgb.fit(X_train,y_train)\n",
    "print('Best Accuracy: %.2f%%' % (gs_xgb.best_score_*100))\n",
    "print(gs_xgb.best_params_)"
   ]
  },
  {
   "cell_type": "code",
   "execution_count": 73,
   "metadata": {},
   "outputs": [
    {
     "data": {
      "text/plain": [
       "XGBRegressor(base_score=0.5, booster='gbtree', colsample_bylevel=1,\n",
       "       colsample_bytree=1, gamma=0, learning_rate=0.2, max_delta_step=0,\n",
       "       max_depth=5, min_child_weight=1, missing=None, n_estimators=200,\n",
       "       n_jobs=1, nthread=None, objective='reg:linear', random_state=0,\n",
       "       reg_alpha=0, reg_lambda=1, scale_pos_weight=1, seed=None,\n",
       "       silent=True, subsample=1)"
      ]
     },
     "execution_count": 73,
     "metadata": {},
     "output_type": "execute_result"
    }
   ],
   "source": [
    "xgb = XGBRegressor(learning_rate=0.2, max_depth= 5, n_estimators= 200)\n",
    "xgb.fit(X_train , y_train)"
   ]
  },
  {
   "cell_type": "code",
   "execution_count": 74,
   "metadata": {},
   "outputs": [
    {
     "name": "stdout",
     "output_type": "stream",
     "text": [
      "The score on validation set is : 0.9570\n",
      "The mse on validation set is : 0.003825\n"
     ]
    }
   ],
   "source": [
    "print(\"The score on validation set is : %0.4f\"  % xgb.score(X_test , y_test) )\n",
    "print(\"The mse on validation set is : %0.6f\"  % mean_squared_error(y_test , xgb.predict(X_test)))"
   ]
  },
  {
   "cell_type": "code",
   "execution_count": 75,
   "metadata": {},
   "outputs": [],
   "source": [
    "imp_vals, _ = feature_importance_permutation(\n",
    "    predict_method=xgb.predict, \n",
    "    X=X_test,\n",
    "    y=y_test,\n",
    "    metric='r2',\n",
    "    num_rounds=1,\n",
    "    seed=1)\n",
    "imp_vals = imp_vals / np.sum(imp_vals)\n",
    "indices = np.argsort(imp_vals)[::-1]"
   ]
  },
  {
   "cell_type": "code",
   "execution_count": 76,
   "metadata": {},
   "outputs": [
    {
     "data": {
      "text/plain": [
       "array([ 5,  7, 17, 11, 10,  1, 13, 18,  2,  9, 19, 12,  4,  6,  8, 15,  0,\n",
       "       14,  3, 16])"
      ]
     },
     "execution_count": 76,
     "metadata": {},
     "output_type": "execute_result"
    }
   ],
   "source": [
    "indices"
   ]
  },
  {
   "cell_type": "code",
   "execution_count": 33,
   "metadata": {},
   "outputs": [
    {
     "data": {
      "image/png": "[encoded data removed]",
      "text/plain": [
       "<matplotlib.figure.Figure at 0x124f64518>"
      ]
     },
     "metadata": {},
     "output_type": "display_data"
    }
   ],
   "source": [
    "f, ax= plt.subplots(figsize = (12,6))\n",
    "plt.title(\"Xgboost feature importance via permutation importance\")\n",
    "plt.bar(range(X.shape[1]), imp_vals[indices])\n",
    "plt.xticks(range(X.shape[1]),solo.columns[indices], rotation = 'vertical')\n",
    "plt.xlim([-1, X.shape[1]])\n",
    "plt.ylim([0, 1])\n",
    "plt.show()"
   ]
  },
  {
   "cell_type": "code",
   "execution_count": 34,
   "metadata": {},
   "outputs": [
    {
     "data": {
      "text/html": [
       "<div>\n",
       "<style scoped>\n",
       "    .dataframe tbody tr th:only-of-type {\n",
       "        vertical-align: middle;\n",
       "    }\n",
       "\n",
       "    .dataframe tbody tr th {\n",
       "        vertical-align: top;\n",
       "    }\n",
       "\n",
       "    .dataframe thead th {\n",
       "        text-align: right;\n",
       "    }\n",
       "</style>\n",
       "<table border=\"1\" class=\"dataframe\">\n",
       "  <thead>\n",
       "    <tr style=\"text-align: right;\">\n",
       "      <th></th>\n",
       "      <th>col</th>\n",
       "      <th>importance</th>\n",
       "      <th>rank</th>\n",
       "    </tr>\n",
       "  </thead>\n",
       "  <tbody>\n",
       "    <tr>\n",
       "      <th>killPlace</th>\n",
       "      <td>5</td>\n",
       "      <td>65.13%</td>\n",
       "      <td>1</td>\n",
       "    </tr>\n",
       "    <tr>\n",
       "      <th>kills</th>\n",
       "      <td>7</td>\n",
       "      <td>14.62%</td>\n",
       "      <td>2</td>\n",
       "    </tr>\n",
       "    <tr>\n",
       "      <th>walkDistance</th>\n",
       "      <td>17</td>\n",
       "      <td>13.02%</td>\n",
       "      <td>3</td>\n",
       "    </tr>\n",
       "    <tr>\n",
       "      <th>maxPlace</th>\n",
       "      <td>11</td>\n",
       "      <td>4.73%</td>\n",
       "      <td>4</td>\n",
       "    </tr>\n",
       "    <tr>\n",
       "      <th>matchDuration</th>\n",
       "      <td>10</td>\n",
       "      <td>1.30%</td>\n",
       "      <td>5</td>\n",
       "    </tr>\n",
       "    <tr>\n",
       "      <th>boosts</th>\n",
       "      <td>1</td>\n",
       "      <td>0.48%</td>\n",
       "      <td>6</td>\n",
       "    </tr>\n",
       "    <tr>\n",
       "      <th>rideDistance</th>\n",
       "      <td>13</td>\n",
       "      <td>0.17%</td>\n",
       "      <td>7</td>\n",
       "    </tr>\n",
       "    <tr>\n",
       "      <th>weaponsAcquired</th>\n",
       "      <td>18</td>\n",
       "      <td>0.14%</td>\n",
       "      <td>8</td>\n",
       "    </tr>\n",
       "    <tr>\n",
       "      <th>damageDealt</th>\n",
       "      <td>2</td>\n",
       "      <td>0.12%</td>\n",
       "      <td>9</td>\n",
       "    </tr>\n",
       "    <tr>\n",
       "      <th>longestKill</th>\n",
       "      <td>9</td>\n",
       "      <td>0.07%</td>\n",
       "      <td>10</td>\n",
       "    </tr>\n",
       "    <tr>\n",
       "      <th>winPoints</th>\n",
       "      <td>19</td>\n",
       "      <td>0.06%</td>\n",
       "      <td>11</td>\n",
       "    </tr>\n",
       "    <tr>\n",
       "      <th>rankPoints</th>\n",
       "      <td>12</td>\n",
       "      <td>0.05%</td>\n",
       "      <td>12</td>\n",
       "    </tr>\n",
       "    <tr>\n",
       "      <th>heals</th>\n",
       "      <td>4</td>\n",
       "      <td>0.04%</td>\n",
       "      <td>13</td>\n",
       "    </tr>\n",
       "    <tr>\n",
       "      <th>killPoints</th>\n",
       "      <td>6</td>\n",
       "      <td>0.02%</td>\n",
       "      <td>14</td>\n",
       "    </tr>\n",
       "    <tr>\n",
       "      <th>killStreaks</th>\n",
       "      <td>8</td>\n",
       "      <td>0.02%</td>\n",
       "      <td>15</td>\n",
       "    </tr>\n",
       "    <tr>\n",
       "      <th>swimDistance</th>\n",
       "      <td>15</td>\n",
       "      <td>0.02%</td>\n",
       "      <td>16</td>\n",
       "    </tr>\n",
       "    <tr>\n",
       "      <th>assists</th>\n",
       "      <td>0</td>\n",
       "      <td>0.02%</td>\n",
       "      <td>17</td>\n",
       "    </tr>\n",
       "    <tr>\n",
       "      <th>roadKills</th>\n",
       "      <td>14</td>\n",
       "      <td>0.00%</td>\n",
       "      <td>18</td>\n",
       "    </tr>\n",
       "    <tr>\n",
       "      <th>headshotKills</th>\n",
       "      <td>3</td>\n",
       "      <td>0.00%</td>\n",
       "      <td>19</td>\n",
       "    </tr>\n",
       "    <tr>\n",
       "      <th>vehicleDestroys</th>\n",
       "      <td>16</td>\n",
       "      <td>0.00%</td>\n",
       "      <td>20</td>\n",
       "    </tr>\n",
       "  </tbody>\n",
       "</table>\n",
       "</div>"
      ],
      "text/plain": [
       "                 col importance  rank\n",
       "killPlace          5     65.13%     1\n",
       "kills              7     14.62%     2\n",
       "walkDistance      17     13.02%     3\n",
       "maxPlace          11      4.73%     4\n",
       "matchDuration     10      1.30%     5\n",
       "boosts             1      0.48%     6\n",
       "rideDistance      13      0.17%     7\n",
       "weaponsAcquired   18      0.14%     8\n",
       "damageDealt        2      0.12%     9\n",
       "longestKill        9      0.07%    10\n",
       "winPoints         19      0.06%    11\n",
       "rankPoints        12      0.05%    12\n",
       "heals              4      0.04%    13\n",
       "killPoints         6      0.02%    14\n",
       "killStreaks        8      0.02%    15\n",
       "swimDistance      15      0.02%    16\n",
       "assists            0      0.02%    17\n",
       "roadKills         14      0.00%    18\n",
       "headshotKills      3      0.00%    19\n",
       "vehicleDestroys   16      0.00%    20"
      ]
     },
     "execution_count": 34,
     "metadata": {},
     "output_type": "execute_result"
    }
   ],
   "source": [
    "xgb_df = pd.DataFrame(columns=['col','importance','rank'], index=solo.columns[indices])\n",
    "xgb_df['rank'] = range(1,21)\n",
    "xgb_df['col'] = indices\n",
    "xgb_df['importance'] = list(map(lambda x: format(x, '.2%'), imp_vals[indices]))\n",
    "xgb_df"
   ]
  },
  {
   "cell_type": "markdown",
   "metadata": {},
   "source": [
    "# (5). lightGBM"
   ]
  },
  {
   "cell_type": "code",
   "execution_count": 11,
   "metadata": {},
   "outputs": [],
   "source": [
    "import lightgbm as lgb"
   ]
  },
  {
   "cell_type": "code",
   "execution_count": 63,
   "metadata": {},
   "outputs": [
    {
     "data": {
      "text/plain": [
       "LGBMRegressor(boosting_type='gbdt', class_weight=None, colsample_bytree=1.0,\n",
       "       importance_type='split', learning_rate=0.1, max_depth=-1,\n",
       "       min_child_samples=20, min_child_weight=0.001, min_split_gain=0.0,\n",
       "       n_estimators=100, n_jobs=-1, num_leaves=31, objective=None,\n",
       "       random_state=None, reg_alpha=0.0, reg_lambda=0.0, silent=True,\n",
       "       subsample=1.0, subsample_for_bin=200000, subsample_freq=0)"
      ]
     },
     "execution_count": 63,
     "metadata": {},
     "output_type": "execute_result"
    }
   ],
   "source": [
    "lgb.LGBMRegressor()"
   ]
  },
  {
   "cell_type": "code",
   "execution_count": 59,
   "metadata": {},
   "outputs": [],
   "source": [
    "model_lgb = lgb.LGBMRegressor(objective='regression',metric='rmse', bagging_fraction = 0.8,feature_fraction = 0.8,learning_rate = 0.13)\n",
    "param_lgb={ 'max_depth': range(7,12,2),\n",
    "                   'num_leaves':range(90, 151, 30)}\n",
    "gs_lgb = GridSearchCV(model_lgb, param_lgb,cv=3)"
   ]
  },
  {
   "cell_type": "code",
   "execution_count": 61,
   "metadata": {},
   "outputs": [
    {
     "data": {
      "text/plain": [
       "GridSearchCV(cv=3, error_score='raise-deprecating',\n",
       "       estimator=LGBMRegressor(bagging_fraction=0.8, boosting_type='gbdt', class_weight=None,\n",
       "       colsample_bytree=1.0, feature_fraction=0.8, importance_type='split',\n",
       "       learning_rate=0.13, max_depth=-1, metric='rmse',\n",
       "       min_child_samples=20, min_child_weight=0.001, min_split_gain=0.0,\n",
       "       n...=0.0, reg_lambda=0.0, silent=True,\n",
       "       subsample=1.0, subsample_for_bin=200000, subsample_freq=0),\n",
       "       fit_params=None, iid='warn', n_jobs=None,\n",
       "       param_grid={'max_depth': range(7, 12, 2), 'num_leaves': range(90, 151, 30)},\n",
       "       pre_dispatch='2*n_jobs', refit=True, return_train_score='warn',\n",
       "       scoring=None, verbose=0)"
      ]
     },
     "execution_count": 61,
     "metadata": {},
     "output_type": "execute_result"
    }
   ],
   "source": [
    "gs_lgb.fit(X_train, y_train)"
   ]
  },
  {
   "cell_type": "code",
   "execution_count": 62,
   "metadata": {},
   "outputs": [
    {
     "name": "stdout",
     "output_type": "stream",
     "text": [
      "Best Accuracy: 95.77%\n",
      "{'max_depth': 11, 'num_leaves': 150}\n"
     ]
    }
   ],
   "source": [
    "print('Best Accuracy: %.2f%%' % (gs_lgb.best_score_*100))\n",
    "print(gs_lgb.best_params_)"
   ]
  },
  {
   "cell_type": "code",
   "execution_count": 64,
   "metadata": {},
   "outputs": [],
   "source": [
    "model_lgb = lgb.LGBMRegressor(objective='regression',metric='rmse', bagging_fraction = 0.8,feature_fraction = 0.8,learning_rate = 0.13,\n",
    "                             max_depth = 11, num_leaves = 150)\n",
    "param_lgb={ 'reg_alpha': np.arange(0,0.4,0.1),\n",
    "                   'reg_lambda':np.arange(0,0.4,0.1)}\n",
    "gs_lgb = GridSearchCV(model_lgb, param_lgb,cv=3)"
   ]
  },
  {
   "cell_type": "code",
   "execution_count": 65,
   "metadata": {},
   "outputs": [
    {
     "data": {
      "text/plain": [
       "GridSearchCV(cv=3, error_score='raise-deprecating',\n",
       "       estimator=LGBMRegressor(bagging_fraction=0.8, boosting_type='gbdt', class_weight=None,\n",
       "       colsample_bytree=1.0, feature_fraction=0.8, importance_type='split',\n",
       "       learning_rate=0.13, max_depth=11, metric='rmse',\n",
       "       min_child_samples=20, min_child_weight=0.001, min_split_gain=0.0,\n",
       "       n...=0.0, reg_lambda=0.0, silent=True,\n",
       "       subsample=1.0, subsample_for_bin=200000, subsample_freq=0),\n",
       "       fit_params=None, iid='warn', n_jobs=None,\n",
       "       param_grid={'reg_alpha': array([0. , 0.1, 0.2, 0.3]), 'reg_lambda': array([0. , 0.1, 0.2, 0.3])},\n",
       "       pre_dispatch='2*n_jobs', refit=True, return_train_score='warn',\n",
       "       scoring=None, verbose=0)"
      ]
     },
     "execution_count": 65,
     "metadata": {},
     "output_type": "execute_result"
    }
   ],
   "source": [
    "gs_lgb.fit(X_train, y_train)"
   ]
  },
  {
   "cell_type": "code",
   "execution_count": 66,
   "metadata": {},
   "outputs": [
    {
     "name": "stdout",
     "output_type": "stream",
     "text": [
      "Best Accuracy: 95.78%\n",
      "{'reg_alpha': 0.30000000000000004, 'reg_lambda': 0.30000000000000004}\n"
     ]
    }
   ],
   "source": [
    "print('Best Accuracy: %.2f%%' % (gs_lgb.best_score_*100))\n",
    "print(gs_lgb.best_params_)"
   ]
  },
  {
   "cell_type": "code",
   "execution_count": 67,
   "metadata": {},
   "outputs": [
    {
     "data": {
      "text/plain": [
       "LGBMRegressor(bagging_fraction=0.8, boosting_type='gbdt', class_weight=None,\n",
       "       colsample_bytree=1.0, feature_fraction=0.8, importance_type='split',\n",
       "       learning_rate=0.13, max_depth=11, metric='rmse',\n",
       "       min_child_samples=20, min_child_weight=0.001, min_split_gain=0.0,\n",
       "       n_estimators=100, n_jobs=-1, num_leaves=150, objective='regression',\n",
       "       random_state=None, reg_alpha=0.3, reg_lambda=0.3, silent=True,\n",
       "       subsample=1.0, subsample_for_bin=200000, subsample_freq=0)"
      ]
     },
     "execution_count": 67,
     "metadata": {},
     "output_type": "execute_result"
    }
   ],
   "source": [
    "lgb = lgb.LGBMRegressor(objective='regression',metric='rmse', bagging_fraction = 0.8,feature_fraction = 0.8,learning_rate = 0.13,\n",
    "                             max_depth = 11, num_leaves = 150, reg_alpha = 0.3, reg_lambda = 0.3)\n",
    "lgb.fit(X_train , y_train)"
   ]
  },
  {
   "cell_type": "code",
   "execution_count": 68,
   "metadata": {},
   "outputs": [
    {
     "name": "stdout",
     "output_type": "stream",
     "text": [
      "The score on validation set is : 0.9583\n",
      "The mse on validation set is : 0.003713\n"
     ]
    }
   ],
   "source": [
    "print(\"The score on validation set is : %0.4f\"  % lgb.score(X_test , y_test) )\n",
    "print(\"The mse on validation set is : %0.6f\"  % mean_squared_error(y_test , lgb.predict(X_test)))"
   ]
  },
  {
   "cell_type": "code",
   "execution_count": 77,
   "metadata": {},
   "outputs": [],
   "source": [
    "imp_vals, _ = feature_importance_permutation(\n",
    "    predict_method=lgb.predict, \n",
    "    X=X_test,\n",
    "    y=y_test,\n",
    "    metric='r2',\n",
    "    num_rounds=1,\n",
    "    seed=1)\n",
    "imp_vals = imp_vals / np.sum(imp_vals)\n",
    "indices = np.argsort(imp_vals)[::-1]"
   ]
  },
  {
   "cell_type": "code",
   "execution_count": 78,
   "metadata": {},
   "outputs": [
    {
     "data": {
      "text/plain": [
       "array([ 5, 17,  7, 11, 10,  8,  1, 13,  2, 18, 12,  9, 19,  4,  6,  0, 15,\n",
       "        3, 14, 16])"
      ]
     },
     "execution_count": 78,
     "metadata": {},
     "output_type": "execute_result"
    }
   ],
   "source": [
    "indices"
   ]
  },
  {
   "cell_type": "code",
   "execution_count": 71,
   "metadata": {},
   "outputs": [
    {
     "data": {
      "image/png": "[encoded data removed]",
      "text/plain": [
       "<matplotlib.figure.Figure at 0x1255b8b38>"
      ]
     },
     "metadata": {},
     "output_type": "display_data"
    }
   ],
   "source": [
    "f, ax= plt.subplots(figsize = (12,6))\n",
    "plt.title(\"lightGBM feature importance via permutation importance\")\n",
    "plt.bar(range(X.shape[1]), imp_vals[indices])\n",
    "plt.xticks(range(X.shape[1]),solo.columns[indices], rotation = 'vertical')\n",
    "plt.xlim([-1, X.shape[1]])\n",
    "plt.ylim([0, 1])\n",
    "plt.show()"
   ]
  },
  {
   "cell_type": "code",
   "execution_count": 72,
   "metadata": {},
   "outputs": [
    {
     "data": {
      "text/html": [
       "<div>\n",
       "<style scoped>\n",
       "    .dataframe tbody tr th:only-of-type {\n",
       "        vertical-align: middle;\n",
       "    }\n",
       "\n",
       "    .dataframe tbody tr th {\n",
       "        vertical-align: top;\n",
       "    }\n",
       "\n",
       "    .dataframe thead th {\n",
       "        text-align: right;\n",
       "    }\n",
       "</style>\n",
       "<table border=\"1\" class=\"dataframe\">\n",
       "  <thead>\n",
       "    <tr style=\"text-align: right;\">\n",
       "      <th></th>\n",
       "      <th>col</th>\n",
       "      <th>importance</th>\n",
       "      <th>rank</th>\n",
       "    </tr>\n",
       "  </thead>\n",
       "  <tbody>\n",
       "    <tr>\n",
       "      <th>killPlace</th>\n",
       "      <td>5</td>\n",
       "      <td>64.08%</td>\n",
       "      <td>1</td>\n",
       "    </tr>\n",
       "    <tr>\n",
       "      <th>walkDistance</th>\n",
       "      <td>17</td>\n",
       "      <td>20.29%</td>\n",
       "      <td>2</td>\n",
       "    </tr>\n",
       "    <tr>\n",
       "      <th>kills</th>\n",
       "      <td>7</td>\n",
       "      <td>7.19%</td>\n",
       "      <td>3</td>\n",
       "    </tr>\n",
       "    <tr>\n",
       "      <th>maxPlace</th>\n",
       "      <td>11</td>\n",
       "      <td>4.63%</td>\n",
       "      <td>4</td>\n",
       "    </tr>\n",
       "    <tr>\n",
       "      <th>matchDuration</th>\n",
       "      <td>10</td>\n",
       "      <td>1.79%</td>\n",
       "      <td>5</td>\n",
       "    </tr>\n",
       "    <tr>\n",
       "      <th>killStreaks</th>\n",
       "      <td>8</td>\n",
       "      <td>0.74%</td>\n",
       "      <td>6</td>\n",
       "    </tr>\n",
       "    <tr>\n",
       "      <th>boosts</th>\n",
       "      <td>1</td>\n",
       "      <td>0.43%</td>\n",
       "      <td>7</td>\n",
       "    </tr>\n",
       "    <tr>\n",
       "      <th>rideDistance</th>\n",
       "      <td>13</td>\n",
       "      <td>0.20%</td>\n",
       "      <td>8</td>\n",
       "    </tr>\n",
       "    <tr>\n",
       "      <th>damageDealt</th>\n",
       "      <td>2</td>\n",
       "      <td>0.15%</td>\n",
       "      <td>9</td>\n",
       "    </tr>\n",
       "    <tr>\n",
       "      <th>weaponsAcquired</th>\n",
       "      <td>18</td>\n",
       "      <td>0.14%</td>\n",
       "      <td>10</td>\n",
       "    </tr>\n",
       "    <tr>\n",
       "      <th>rankPoints</th>\n",
       "      <td>12</td>\n",
       "      <td>0.08%</td>\n",
       "      <td>11</td>\n",
       "    </tr>\n",
       "    <tr>\n",
       "      <th>longestKill</th>\n",
       "      <td>9</td>\n",
       "      <td>0.08%</td>\n",
       "      <td>12</td>\n",
       "    </tr>\n",
       "    <tr>\n",
       "      <th>winPoints</th>\n",
       "      <td>19</td>\n",
       "      <td>0.06%</td>\n",
       "      <td>13</td>\n",
       "    </tr>\n",
       "    <tr>\n",
       "      <th>heals</th>\n",
       "      <td>4</td>\n",
       "      <td>0.05%</td>\n",
       "      <td>14</td>\n",
       "    </tr>\n",
       "    <tr>\n",
       "      <th>killPoints</th>\n",
       "      <td>6</td>\n",
       "      <td>0.04%</td>\n",
       "      <td>15</td>\n",
       "    </tr>\n",
       "    <tr>\n",
       "      <th>assists</th>\n",
       "      <td>0</td>\n",
       "      <td>0.02%</td>\n",
       "      <td>16</td>\n",
       "    </tr>\n",
       "    <tr>\n",
       "      <th>swimDistance</th>\n",
       "      <td>15</td>\n",
       "      <td>0.02%</td>\n",
       "      <td>17</td>\n",
       "    </tr>\n",
       "    <tr>\n",
       "      <th>headshotKills</th>\n",
       "      <td>3</td>\n",
       "      <td>0.00%</td>\n",
       "      <td>18</td>\n",
       "    </tr>\n",
       "    <tr>\n",
       "      <th>roadKills</th>\n",
       "      <td>14</td>\n",
       "      <td>0.00%</td>\n",
       "      <td>19</td>\n",
       "    </tr>\n",
       "    <tr>\n",
       "      <th>vehicleDestroys</th>\n",
       "      <td>16</td>\n",
       "      <td>0.00%</td>\n",
       "      <td>20</td>\n",
       "    </tr>\n",
       "  </tbody>\n",
       "</table>\n",
       "</div>"
      ],
      "text/plain": [
       "                 col importance  rank\n",
       "killPlace          5     64.08%     1\n",
       "walkDistance      17     20.29%     2\n",
       "kills              7      7.19%     3\n",
       "maxPlace          11      4.63%     4\n",
       "matchDuration     10      1.79%     5\n",
       "killStreaks        8      0.74%     6\n",
       "boosts             1      0.43%     7\n",
       "rideDistance      13      0.20%     8\n",
       "damageDealt        2      0.15%     9\n",
       "weaponsAcquired   18      0.14%    10\n",
       "rankPoints        12      0.08%    11\n",
       "longestKill        9      0.08%    12\n",
       "winPoints         19      0.06%    13\n",
       "heals              4      0.05%    14\n",
       "killPoints         6      0.04%    15\n",
       "assists            0      0.02%    16\n",
       "swimDistance      15      0.02%    17\n",
       "headshotKills      3      0.00%    18\n",
       "roadKills         14      0.00%    19\n",
       "vehicleDestroys   16      0.00%    20"
      ]
     },
     "execution_count": 72,
     "metadata": {},
     "output_type": "execute_result"
    }
   ],
   "source": [
    "lgb_df = pd.DataFrame(columns=['col','importance','rank'], index=solo.columns[indices])\n",
    "lgb_df['rank'] = range(1,21)\n",
    "lgb_df['col'] = indices\n",
    "lgb_df['importance'] = list(map(lambda x: format(x, '.2%'), imp_vals[indices]))\n",
    "lgb_df"
   ]
  },
  {
   "cell_type": "markdown",
   "metadata": {},
   "source": [
    "# TRY: Remove 'killPlace'"
   ]
  },
  {
   "cell_type": "code",
   "execution_count": 79,
   "metadata": {},
   "outputs": [
    {
     "data": {
      "text/plain": [
       "Index(['assists', 'boosts', 'damageDealt', 'headshotKills', 'heals',\n",
       "       'killPlace', 'killPoints', 'kills', 'killStreaks', 'longestKill',\n",
       "       'matchDuration', 'maxPlace', 'rankPoints', 'rideDistance', 'roadKills',\n",
       "       'swimDistance', 'vehicleDestroys', 'walkDistance', 'weaponsAcquired',\n",
       "       'winPoints', 'winPlacePerc'],\n",
       "      dtype='object')"
      ]
     },
     "execution_count": 79,
     "metadata": {},
     "output_type": "execute_result"
    }
   ],
   "source": [
    "solo.columns"
   ]
  },
  {
   "cell_type": "code",
   "execution_count": 40,
   "metadata": {},
   "outputs": [
    {
     "data": {
      "text/plain": [
       "(720206, 21)"
      ]
     },
     "execution_count": 40,
     "metadata": {},
     "output_type": "execute_result"
    }
   ],
   "source": [
    "solo.shape"
   ]
  },
  {
   "cell_type": "code",
   "execution_count": 85,
   "metadata": {},
   "outputs": [],
   "source": [
    "solo_change = solo.drop(['killPlace'],axis=1)"
   ]
  },
  {
   "cell_type": "code",
   "execution_count": 86,
   "metadata": {},
   "outputs": [
    {
     "data": {
      "text/plain": [
       "(720206, 20)"
      ]
     },
     "execution_count": 86,
     "metadata": {},
     "output_type": "execute_result"
    }
   ],
   "source": [
    "solo_change.shape"
   ]
  },
  {
   "cell_type": "code",
   "execution_count": 95,
   "metadata": {},
   "outputs": [
    {
     "data": {
      "text/plain": [
       "Index(['assists', 'boosts', 'damageDealt', 'headshotKills', 'heals',\n",
       "       'killPoints', 'kills', 'killStreaks', 'longestKill', 'matchDuration',\n",
       "       'maxPlace', 'rankPoints', 'rideDistance', 'roadKills', 'swimDistance',\n",
       "       'vehicleDestroys', 'walkDistance', 'weaponsAcquired', 'winPoints',\n",
       "       'winPlacePerc'],\n",
       "      dtype='object')"
      ]
     },
     "execution_count": 95,
     "metadata": {},
     "output_type": "execute_result"
    }
   ],
   "source": [
    "solo_change.columns"
   ]
  },
  {
   "cell_type": "code",
   "execution_count": 87,
   "metadata": {},
   "outputs": [],
   "source": [
    "y = np.array(solo_change[\"winPlacePerc\"])\n",
    "X = np.array(solo_change.drop(\"winPlacePerc\",axis=1))\n",
    "X_train,X_test,y_train,y_test = train_test_split(X, y,\n",
    "                                               test_size=0.3,\n",
    "                                               random_state=123)"
   ]
  },
  {
   "cell_type": "code",
   "execution_count": 88,
   "metadata": {},
   "outputs": [
    {
     "data": {
      "text/plain": [
       "LGBMRegressor(boosting_type='gbdt', class_weight=None, colsample_bytree=1.0,\n",
       "       importance_type='split', learning_rate=0.1, max_depth=-1,\n",
       "       min_child_samples=20, min_child_weight=0.001, min_split_gain=0.0,\n",
       "       n_estimators=100, n_jobs=-1, num_leaves=31, objective=None,\n",
       "       random_state=None, reg_alpha=0.0, reg_lambda=0.0, silent=True,\n",
       "       subsample=1.0, subsample_for_bin=200000, subsample_freq=0)"
      ]
     },
     "execution_count": 88,
     "metadata": {},
     "output_type": "execute_result"
    }
   ],
   "source": [
    "lgb.LGBMRegressor()"
   ]
  },
  {
   "cell_type": "code",
   "execution_count": 56,
   "metadata": {},
   "outputs": [],
   "source": [
    "model_lgb = lgb.LGBMRegressor(objective='regression',metric='rmse', bagging_fraction = 0.8,feature_fraction = 0.8)\n",
    "param_lgb={ 'max_depth': range(7,12,2),\n",
    "                   'num_leaves':range(90, 151, 30),\n",
    "                    'learning_rate': np.arange(0.01,0.2,0.03)}\n",
    "gs_lgb = GridSearchCV(model_lgb, param_lgb,cv=3)"
   ]
  },
  {
   "cell_type": "code",
   "execution_count": 57,
   "metadata": {},
   "outputs": [
    {
     "data": {
      "text/plain": [
       "GridSearchCV(cv=3, error_score='raise-deprecating',\n",
       "       estimator=LGBMRegressor(bagging_fraction=0.8, boosting_type='gbdt', class_weight=None,\n",
       "       colsample_bytree=1.0, feature_fraction=0.8, importance_type='split',\n",
       "       learning_rate=0.1, max_depth=-1, metric='rmse',\n",
       "       min_child_samples=20, min_child_weight=0.001, min_split_gain=0.0,\n",
       "       n_...=0.0, reg_lambda=0.0, silent=True,\n",
       "       subsample=1.0, subsample_for_bin=200000, subsample_freq=0),\n",
       "       fit_params=None, iid='warn', n_jobs=None,\n",
       "       param_grid={'max_depth': range(7, 12, 2), 'num_leaves': range(90, 151, 30), 'learning_rate': array([0.01, 0.04, 0.07, 0.1 , 0.13, 0.16, 0.19])},\n",
       "       pre_dispatch='2*n_jobs', refit=True, return_train_score='warn',\n",
       "       scoring=None, verbose=0)"
      ]
     },
     "execution_count": 57,
     "metadata": {},
     "output_type": "execute_result"
    }
   ],
   "source": [
    "gs_lgb.fit(X_train, y_train)"
   ]
  },
  {
   "cell_type": "code",
   "execution_count": 58,
   "metadata": {},
   "outputs": [
    {
     "name": "stdout",
     "output_type": "stream",
     "text": [
      "Best Accuracy: 90.39%\n",
      "{'learning_rate': 0.13, 'max_depth': 9, 'num_leaves': 150}\n"
     ]
    }
   ],
   "source": [
    "print('Best Accuracy: %.2f%%' % (gs_lgb.best_score_*100))\n",
    "print(gs_lgb.best_params_)"
   ]
  },
  {
   "cell_type": "code",
   "execution_count": 89,
   "metadata": {},
   "outputs": [
    {
     "data": {
      "text/plain": [
       "LGBMRegressor(bagging_fraction=0.8, boosting_type='gbdt', class_weight=None,\n",
       "       colsample_bytree=1.0, feature_fraction=0.8, importance_type='split',\n",
       "       learning_rate=0.13, max_depth=9, metric='rmse',\n",
       "       min_child_samples=20, min_child_weight=0.001, min_split_gain=0.0,\n",
       "       n_estimators=100, n_jobs=-1, num_leaves=150, objective='regression',\n",
       "       random_state=None, reg_alpha=0.0, reg_lambda=0.0, silent=True,\n",
       "       subsample=1.0, subsample_for_bin=200000, subsample_freq=0)"
      ]
     },
     "execution_count": 89,
     "metadata": {},
     "output_type": "execute_result"
    }
   ],
   "source": [
    "lgb_try = lgb.LGBMRegressor(objective='regression',metric='rmse', bagging_fraction = 0.8,feature_fraction = 0.8,learning_rate = 0.13,\n",
    "                                                max_depth = 9, num_leaves = 150)\n",
    "lgb_try.fit(X_train , y_train)"
   ]
  },
  {
   "cell_type": "code",
   "execution_count": 90,
   "metadata": {},
   "outputs": [
    {
     "name": "stdout",
     "output_type": "stream",
     "text": [
      "The score on validation set is : 0.9034\n",
      "The mse on validation set is : 0.008603\n"
     ]
    }
   ],
   "source": [
    "print(\"The score on validation set is : %0.4f\"  % lgb_try.score(X_test , y_test) )\n",
    "print(\"The mse on validation set is : %0.6f\"  % mean_squared_error(y_test , lgb_try.predict(X_test)))"
   ]
  },
  {
   "cell_type": "code",
   "execution_count": 102,
   "metadata": {},
   "outputs": [
    {
     "data": {
      "text/plain": [
       "Index(['assists', 'boosts', 'damageDealt', 'headshotKills', 'heals',\n",
       "       'killPoints', 'kills', 'killStreaks', 'longestKill', 'matchDuration',\n",
       "       'maxPlace', 'rankPoints', 'rideDistance', 'roadKills', 'swimDistance',\n",
       "       'vehicleDestroys', 'walkDistance', 'weaponsAcquired', 'winPoints',\n",
       "       'winPlacePerc'],\n",
       "      dtype='object')"
      ]
     },
     "execution_count": 102,
     "metadata": {},
     "output_type": "execute_result"
    }
   ],
   "source": [
    "solo_change.columns"
   ]
  },
  {
   "cell_type": "code",
   "execution_count": 99,
   "metadata": {},
   "outputs": [
    {
     "data": {
      "text/plain": [
       "<matplotlib.figure.Figure at 0x12b5aa6a0>"
      ]
     },
     "metadata": {},
     "output_type": "display_data"
    },
    {
     "data": {
      "image/png": "[encoded data removed]",
      "text/plain": [
       "<matplotlib.figure.Figure at 0x1246f9860>"
      ]
     },
     "metadata": {},
     "output_type": "display_data"
    }
   ],
   "source": [
    "plt.figure(figsize=(12,6))\n",
    "lgb.plot_importance(lgb_try)\n",
    "plt.show()"
   ]
  },
  {
   "cell_type": "code",
   "execution_count": 96,
   "metadata": {},
   "outputs": [],
   "source": [
    "imp_vals, _ = feature_importance_permutation(\n",
    "    predict_method=lgb_try.predict, \n",
    "    X=X_test,\n",
    "    y=y_test,\n",
    "    metric='r2',\n",
    "    num_rounds=5,\n",
    "    seed=1)\n",
    "imp_vals = imp_vals / np.sum(imp_vals)\n",
    "indices = np.argsort(imp_vals)[::-1]"
   ]
  },
  {
   "cell_type": "code",
   "execution_count": 103,
   "metadata": {},
   "outputs": [
    {
     "data": {
      "text/plain": [
       "array([16,  9, 12,  1, 17,  4,  2, 10, 14, 18,  8,  5,  6, 11,  0,  7,  3,\n",
       "       13, 15])"
      ]
     },
     "execution_count": 103,
     "metadata": {},
     "output_type": "execute_result"
    }
   ],
   "source": [
    "indices"
   ]
  },
  {
   "cell_type": "code",
   "execution_count": 104,
   "metadata": {},
   "outputs": [
    {
     "data": {
      "image/png": "[encoded data removed]",
      "text/plain": [
       "<matplotlib.figure.Figure at 0x12b74dcc0>"
      ]
     },
     "metadata": {},
     "output_type": "display_data"
    }
   ],
   "source": [
    "f, ax= plt.subplots(figsize = (12,6))\n",
    "plt.title(\"lightGBM_TRY feature importance via permutation importance\")\n",
    "plt.bar(range(X.shape[1]), imp_vals[indices])\n",
    "plt.xticks(range(X.shape[1]),solo_change.columns[indices], rotation = 'vertical')\n",
    "plt.xlim([-1, X.shape[1]])\n",
    "plt.ylim([0, 1])\n",
    "plt.show()"
   ]
  },
  {
   "cell_type": "code",
   "execution_count": 106,
   "metadata": {},
   "outputs": [
    {
     "data": {
      "text/html": [
       "<div>\n",
       "<style scoped>\n",
       "    .dataframe tbody tr th:only-of-type {\n",
       "        vertical-align: middle;\n",
       "    }\n",
       "\n",
       "    .dataframe tbody tr th {\n",
       "        vertical-align: top;\n",
       "    }\n",
       "\n",
       "    .dataframe thead th {\n",
       "        text-align: right;\n",
       "    }\n",
       "</style>\n",
       "<table border=\"1\" class=\"dataframe\">\n",
       "  <thead>\n",
       "    <tr style=\"text-align: right;\">\n",
       "      <th></th>\n",
       "      <th>col</th>\n",
       "      <th>importance</th>\n",
       "      <th>rank</th>\n",
       "    </tr>\n",
       "  </thead>\n",
       "  <tbody>\n",
       "    <tr>\n",
       "      <th>walkDistance</th>\n",
       "      <td>16</td>\n",
       "      <td>82.38%</td>\n",
       "      <td>1</td>\n",
       "    </tr>\n",
       "    <tr>\n",
       "      <th>matchDuration</th>\n",
       "      <td>9</td>\n",
       "      <td>5.26%</td>\n",
       "      <td>2</td>\n",
       "    </tr>\n",
       "    <tr>\n",
       "      <th>rideDistance</th>\n",
       "      <td>12</td>\n",
       "      <td>2.90%</td>\n",
       "      <td>3</td>\n",
       "    </tr>\n",
       "    <tr>\n",
       "      <th>boosts</th>\n",
       "      <td>1</td>\n",
       "      <td>2.53%</td>\n",
       "      <td>4</td>\n",
       "    </tr>\n",
       "    <tr>\n",
       "      <th>weaponsAcquired</th>\n",
       "      <td>17</td>\n",
       "      <td>2.30%</td>\n",
       "      <td>5</td>\n",
       "    </tr>\n",
       "    <tr>\n",
       "      <th>heals</th>\n",
       "      <td>4</td>\n",
       "      <td>1.01%</td>\n",
       "      <td>6</td>\n",
       "    </tr>\n",
       "    <tr>\n",
       "      <th>damageDealt</th>\n",
       "      <td>2</td>\n",
       "      <td>0.82%</td>\n",
       "      <td>7</td>\n",
       "    </tr>\n",
       "    <tr>\n",
       "      <th>maxPlace</th>\n",
       "      <td>10</td>\n",
       "      <td>0.63%</td>\n",
       "      <td>8</td>\n",
       "    </tr>\n",
       "    <tr>\n",
       "      <th>swimDistance</th>\n",
       "      <td>14</td>\n",
       "      <td>0.63%</td>\n",
       "      <td>9</td>\n",
       "    </tr>\n",
       "    <tr>\n",
       "      <th>winPoints</th>\n",
       "      <td>18</td>\n",
       "      <td>0.50%</td>\n",
       "      <td>10</td>\n",
       "    </tr>\n",
       "    <tr>\n",
       "      <th>longestKill</th>\n",
       "      <td>8</td>\n",
       "      <td>0.32%</td>\n",
       "      <td>11</td>\n",
       "    </tr>\n",
       "    <tr>\n",
       "      <th>killPoints</th>\n",
       "      <td>5</td>\n",
       "      <td>0.31%</td>\n",
       "      <td>12</td>\n",
       "    </tr>\n",
       "    <tr>\n",
       "      <th>kills</th>\n",
       "      <td>6</td>\n",
       "      <td>0.25%</td>\n",
       "      <td>13</td>\n",
       "    </tr>\n",
       "    <tr>\n",
       "      <th>rankPoints</th>\n",
       "      <td>11</td>\n",
       "      <td>0.11%</td>\n",
       "      <td>14</td>\n",
       "    </tr>\n",
       "    <tr>\n",
       "      <th>assists</th>\n",
       "      <td>0</td>\n",
       "      <td>0.03%</td>\n",
       "      <td>15</td>\n",
       "    </tr>\n",
       "    <tr>\n",
       "      <th>killStreaks</th>\n",
       "      <td>7</td>\n",
       "      <td>0.03%</td>\n",
       "      <td>16</td>\n",
       "    </tr>\n",
       "    <tr>\n",
       "      <th>headshotKills</th>\n",
       "      <td>3</td>\n",
       "      <td>0.00%</td>\n",
       "      <td>17</td>\n",
       "    </tr>\n",
       "    <tr>\n",
       "      <th>roadKills</th>\n",
       "      <td>13</td>\n",
       "      <td>0.00%</td>\n",
       "      <td>18</td>\n",
       "    </tr>\n",
       "    <tr>\n",
       "      <th>vehicleDestroys</th>\n",
       "      <td>15</td>\n",
       "      <td>0.00%</td>\n",
       "      <td>19</td>\n",
       "    </tr>\n",
       "  </tbody>\n",
       "</table>\n",
       "</div>"
      ],
      "text/plain": [
       "                 col importance  rank\n",
       "walkDistance      16     82.38%     1\n",
       "matchDuration      9      5.26%     2\n",
       "rideDistance      12      2.90%     3\n",
       "boosts             1      2.53%     4\n",
       "weaponsAcquired   17      2.30%     5\n",
       "heals              4      1.01%     6\n",
       "damageDealt        2      0.82%     7\n",
       "maxPlace          10      0.63%     8\n",
       "swimDistance      14      0.63%     9\n",
       "winPoints         18      0.50%    10\n",
       "longestKill        8      0.32%    11\n",
       "killPoints         5      0.31%    12\n",
       "kills              6      0.25%    13\n",
       "rankPoints        11      0.11%    14\n",
       "assists            0      0.03%    15\n",
       "killStreaks        7      0.03%    16\n",
       "headshotKills      3      0.00%    17\n",
       "roadKills         13      0.00%    18\n",
       "vehicleDestroys   15      0.00%    19"
      ]
     },
     "execution_count": 106,
     "metadata": {},
     "output_type": "execute_result"
    }
   ],
   "source": [
    "lgb_try_df = pd.DataFrame(columns=['col','importance','rank'], index=solo_change.columns[indices])\n",
    "lgb_try_df['rank'] = range(1,20)\n",
    "lgb_try_df['col'] = indices\n",
    "lgb_try_df['importance'] = list(map(lambda x: format(x, '.2%'), imp_vals[indices]))\n",
    "lgb_try_df"
   ]
  },
  {
   "cell_type": "markdown",
   "metadata": {},
   "source": [
    "# 4. Conclusion"
   ]
  },
  {
   "cell_type": "code",
   "execution_count": 69,
   "metadata": {},
   "outputs": [
    {
     "data": {
      "text/html": [
       "<div>\n",
       "<style scoped>\n",
       "    .dataframe tbody tr th:only-of-type {\n",
       "        vertical-align: middle;\n",
       "    }\n",
       "\n",
       "    .dataframe tbody tr th {\n",
       "        vertical-align: top;\n",
       "    }\n",
       "\n",
       "    .dataframe thead th {\n",
       "        text-align: right;\n",
       "    }\n",
       "</style>\n",
       "<table border=\"1\" class=\"dataframe\">\n",
       "  <thead>\n",
       "    <tr style=\"text-align: right;\">\n",
       "      <th></th>\n",
       "      <th>R^2</th>\n",
       "      <th>MSE</th>\n",
       "    </tr>\n",
       "  </thead>\n",
       "  <tbody>\n",
       "    <tr>\n",
       "      <th>KNN</th>\n",
       "      <td>0.9249</td>\n",
       "      <td>0.0067</td>\n",
       "    </tr>\n",
       "    <tr>\n",
       "      <th>RF</th>\n",
       "      <td>0.9535</td>\n",
       "      <td>0.0041</td>\n",
       "    </tr>\n",
       "    <tr>\n",
       "      <th>GBDT</th>\n",
       "      <td>0.956</td>\n",
       "      <td>0.0039</td>\n",
       "    </tr>\n",
       "    <tr>\n",
       "      <th>Xgboost</th>\n",
       "      <td>0.957</td>\n",
       "      <td>0.0038</td>\n",
       "    </tr>\n",
       "    <tr>\n",
       "      <th>LightGBM</th>\n",
       "      <td>0.9583</td>\n",
       "      <td>0.0037</td>\n",
       "    </tr>\n",
       "  </tbody>\n",
       "</table>\n",
       "</div>"
      ],
      "text/plain": [
       "             R^2     MSE\n",
       "KNN       0.9249  0.0067\n",
       "RF        0.9535  0.0041\n",
       "GBDT       0.956  0.0039\n",
       "Xgboost    0.957  0.0038\n",
       "LightGBM  0.9583  0.0037"
      ]
     },
     "execution_count": 69,
     "metadata": {},
     "output_type": "execute_result"
    }
   ],
   "source": [
    "model_eval = pd.DataFrame(columns=['R^2','MSE'], index=['KNN','RF','GBDT','Xgboost','LightGBM'])\n",
    "model_eval.iloc[0] = [0.9249,0.0067]\n",
    "model_eval.iloc[1] = [0.9535,0.0041]\n",
    "model_eval.iloc[2] = [0.9560,0.0039]\n",
    "model_eval.iloc[3] = [0.9570,0.0038]\n",
    "model_eval.iloc[4] = [0.9583,0.0037]\n",
    "model_eval"
   ]
  },
  {
   "cell_type": "code",
   "execution_count": 11,
   "metadata": {},
   "outputs": [],
   "source": [
    "import lightgbm as lgb"
   ]
  },
  {
   "cell_type": "code",
   "execution_count": 12,
   "metadata": {},
   "outputs": [
    {
     "data": {
      "text/plain": [
       "LGBMRegressor(bagging_fraction=0.8, boosting_type='gbdt', class_weight=None,\n",
       "       colsample_bytree=1.0, feature_fraction=0.8, importance_type='split',\n",
       "       learning_rate=0.13, max_depth=11, metric='rmse',\n",
       "       min_child_samples=20, min_child_weight=0.001, min_split_gain=0.0,\n",
       "       n_estimators=100, n_jobs=-1, num_leaves=150, objective='regression',\n",
       "       random_state=None, reg_alpha=0.3, reg_lambda=0.3, silent=True,\n",
       "       subsample=1.0, subsample_for_bin=200000, subsample_freq=0)"
      ]
     },
     "execution_count": 12,
     "metadata": {},
     "output_type": "execute_result"
    }
   ],
   "source": [
    "best_model = lgb.LGBMRegressor(objective='regression',metric='rmse', bagging_fraction = 0.8,feature_fraction = 0.8,learning_rate = 0.13,\n",
    "                                                max_depth = 11, num_leaves = 150, reg_alpha = 0.3, reg_lambda = 0.3)\n",
    "best_model.fit(X_train , y_train)"
   ]
  },
  {
   "cell_type": "markdown",
   "metadata": {},
   "source": [
    "# 5. Import solo test data & predict"
   ]
  },
  {
   "cell_type": "code",
   "execution_count": 14,
   "metadata": {},
   "outputs": [],
   "source": [
    "test_solo = pd.read_csv('./test_solo.csv')"
   ]
  },
  {
   "cell_type": "code",
   "execution_count": 15,
   "metadata": {},
   "outputs": [
    {
     "data": {
      "text/html": [
       "<div>\n",
       "<style scoped>\n",
       "    .dataframe tbody tr th:only-of-type {\n",
       "        vertical-align: middle;\n",
       "    }\n",
       "\n",
       "    .dataframe tbody tr th {\n",
       "        vertical-align: top;\n",
       "    }\n",
       "\n",
       "    .dataframe thead th {\n",
       "        text-align: right;\n",
       "    }\n",
       "</style>\n",
       "<table border=\"1\" class=\"dataframe\">\n",
       "  <thead>\n",
       "    <tr style=\"text-align: right;\">\n",
       "      <th></th>\n",
       "      <th>Id</th>\n",
       "      <th>assists</th>\n",
       "      <th>boosts</th>\n",
       "      <th>damageDealt</th>\n",
       "      <th>headshotKills</th>\n",
       "      <th>heals</th>\n",
       "      <th>killPlace</th>\n",
       "      <th>killPoints</th>\n",
       "      <th>kills</th>\n",
       "      <th>killStreaks</th>\n",
       "      <th>longestKill</th>\n",
       "      <th>matchDuration</th>\n",
       "      <th>maxPlace</th>\n",
       "      <th>rankPoints</th>\n",
       "      <th>rideDistance</th>\n",
       "      <th>roadKills</th>\n",
       "      <th>swimDistance</th>\n",
       "      <th>vehicleDestroys</th>\n",
       "      <th>walkDistance</th>\n",
       "      <th>weaponsAcquired</th>\n",
       "      <th>winPoints</th>\n",
       "    </tr>\n",
       "  </thead>\n",
       "  <tbody>\n",
       "    <tr>\n",
       "      <th>0</th>\n",
       "      <td>37ae98f31ca542</td>\n",
       "      <td>0</td>\n",
       "      <td>0</td>\n",
       "      <td>0.0</td>\n",
       "      <td>0</td>\n",
       "      <td>0</td>\n",
       "      <td>53</td>\n",
       "      <td>1075</td>\n",
       "      <td>0</td>\n",
       "      <td>0</td>\n",
       "      <td>0.000</td>\n",
       "      <td>1380</td>\n",
       "      <td>97</td>\n",
       "      <td>-1</td>\n",
       "      <td>0.0</td>\n",
       "      <td>0</td>\n",
       "      <td>4.894</td>\n",
       "      <td>0</td>\n",
       "      <td>0.00</td>\n",
       "      <td>0</td>\n",
       "      <td>1490</td>\n",
       "    </tr>\n",
       "    <tr>\n",
       "      <th>1</th>\n",
       "      <td>6425cf14b2d488</td>\n",
       "      <td>0</td>\n",
       "      <td>0</td>\n",
       "      <td>259.2</td>\n",
       "      <td>0</td>\n",
       "      <td>0</td>\n",
       "      <td>20</td>\n",
       "      <td>0</td>\n",
       "      <td>2</td>\n",
       "      <td>1</td>\n",
       "      <td>4.479</td>\n",
       "      <td>1880</td>\n",
       "      <td>97</td>\n",
       "      <td>1480</td>\n",
       "      <td>0.0</td>\n",
       "      <td>0</td>\n",
       "      <td>0.000</td>\n",
       "      <td>0</td>\n",
       "      <td>436.80</td>\n",
       "      <td>2</td>\n",
       "      <td>0</td>\n",
       "    </tr>\n",
       "    <tr>\n",
       "      <th>2</th>\n",
       "      <td>494d3d9fad73b2</td>\n",
       "      <td>0</td>\n",
       "      <td>0</td>\n",
       "      <td>0.0</td>\n",
       "      <td>0</td>\n",
       "      <td>0</td>\n",
       "      <td>87</td>\n",
       "      <td>0</td>\n",
       "      <td>0</td>\n",
       "      <td>0</td>\n",
       "      <td>0.000</td>\n",
       "      <td>1854</td>\n",
       "      <td>98</td>\n",
       "      <td>1499</td>\n",
       "      <td>0.0</td>\n",
       "      <td>0</td>\n",
       "      <td>0.000</td>\n",
       "      <td>0</td>\n",
       "      <td>82.11</td>\n",
       "      <td>2</td>\n",
       "      <td>0</td>\n",
       "    </tr>\n",
       "    <tr>\n",
       "      <th>3</th>\n",
       "      <td>e59dd1435a2ecf</td>\n",
       "      <td>0</td>\n",
       "      <td>0</td>\n",
       "      <td>100.0</td>\n",
       "      <td>0</td>\n",
       "      <td>1</td>\n",
       "      <td>32</td>\n",
       "      <td>0</td>\n",
       "      <td>1</td>\n",
       "      <td>1</td>\n",
       "      <td>25.230</td>\n",
       "      <td>1413</td>\n",
       "      <td>96</td>\n",
       "      <td>1488</td>\n",
       "      <td>0.0</td>\n",
       "      <td>0</td>\n",
       "      <td>0.000</td>\n",
       "      <td>0</td>\n",
       "      <td>571.70</td>\n",
       "      <td>5</td>\n",
       "      <td>0</td>\n",
       "    </tr>\n",
       "    <tr>\n",
       "      <th>4</th>\n",
       "      <td>3e4413d4780f7c</td>\n",
       "      <td>0</td>\n",
       "      <td>0</td>\n",
       "      <td>100.0</td>\n",
       "      <td>0</td>\n",
       "      <td>0</td>\n",
       "      <td>41</td>\n",
       "      <td>0</td>\n",
       "      <td>1</td>\n",
       "      <td>1</td>\n",
       "      <td>36.260</td>\n",
       "      <td>1389</td>\n",
       "      <td>95</td>\n",
       "      <td>1567</td>\n",
       "      <td>0.0</td>\n",
       "      <td>0</td>\n",
       "      <td>0.000</td>\n",
       "      <td>0</td>\n",
       "      <td>28.49</td>\n",
       "      <td>1</td>\n",
       "      <td>0</td>\n",
       "    </tr>\n",
       "  </tbody>\n",
       "</table>\n",
       "</div>"
      ],
      "text/plain": [
       "               Id  assists  boosts  damageDealt  headshotKills  heals  \\\n",
       "0  37ae98f31ca542        0       0          0.0              0      0   \n",
       "1  6425cf14b2d488        0       0        259.2              0      0   \n",
       "2  494d3d9fad73b2        0       0          0.0              0      0   \n",
       "3  e59dd1435a2ecf        0       0        100.0              0      1   \n",
       "4  3e4413d4780f7c        0       0        100.0              0      0   \n",
       "\n",
       "   killPlace  killPoints  kills  killStreaks  longestKill  matchDuration  \\\n",
       "0         53        1075      0            0        0.000           1380   \n",
       "1         20           0      2            1        4.479           1880   \n",
       "2         87           0      0            0        0.000           1854   \n",
       "3         32           0      1            1       25.230           1413   \n",
       "4         41           0      1            1       36.260           1389   \n",
       "\n",
       "   maxPlace  rankPoints  rideDistance  roadKills  swimDistance  \\\n",
       "0        97          -1           0.0          0         4.894   \n",
       "1        97        1480           0.0          0         0.000   \n",
       "2        98        1499           0.0          0         0.000   \n",
       "3        96        1488           0.0          0         0.000   \n",
       "4        95        1567           0.0          0         0.000   \n",
       "\n",
       "   vehicleDestroys  walkDistance  weaponsAcquired  winPoints  \n",
       "0                0          0.00                0       1490  \n",
       "1                0        436.80                2          0  \n",
       "2                0         82.11                2          0  \n",
       "3                0        571.70                5          0  \n",
       "4                0         28.49                1          0  "
      ]
     },
     "execution_count": 15,
     "metadata": {},
     "output_type": "execute_result"
    }
   ],
   "source": [
    "test_solo.head()"
   ]
  },
  {
   "cell_type": "code",
   "execution_count": 16,
   "metadata": {},
   "outputs": [
    {
     "data": {
      "text/plain": [
       "(313924, 21)"
      ]
     },
     "execution_count": 16,
     "metadata": {},
     "output_type": "execute_result"
    }
   ],
   "source": [
    "test_solo.shape"
   ]
  },
  {
   "cell_type": "code",
   "execution_count": 17,
   "metadata": {},
   "outputs": [],
   "source": [
    "test_solo_y = best_model.predict(test_solo.drop(['Id'],axis=1))"
   ]
  },
  {
   "cell_type": "code",
   "execution_count": 18,
   "metadata": {},
   "outputs": [
    {
     "data": {
      "text/plain": [
       "901"
      ]
     },
     "execution_count": 18,
     "metadata": {},
     "output_type": "execute_result"
    }
   ],
   "source": [
    "len(test_solo_y[test_solo_y < 0])"
   ]
  },
  {
   "cell_type": "code",
   "execution_count": 19,
   "metadata": {},
   "outputs": [],
   "source": [
    "test_solo_y[test_solo_y < 0] = 0"
   ]
  },
  {
   "cell_type": "code",
   "execution_count": 20,
   "metadata": {},
   "outputs": [
    {
     "data": {
      "text/plain": [
       "196"
      ]
     },
     "execution_count": 20,
     "metadata": {},
     "output_type": "execute_result"
    }
   ],
   "source": [
    "len(test_solo_y[test_solo_y > 1])"
   ]
  },
  {
   "cell_type": "code",
   "execution_count": 21,
   "metadata": {},
   "outputs": [],
   "source": [
    "test_solo_y[test_solo_y > 1] = 1"
   ]
  },
  {
   "cell_type": "code",
   "execution_count": 22,
   "metadata": {},
   "outputs": [
    {
     "data": {
      "text/plain": [
       "0"
      ]
     },
     "execution_count": 22,
     "metadata": {},
     "output_type": "execute_result"
    }
   ],
   "source": [
    "len(test_solo_y[test_solo_y > 1])"
   ]
  },
  {
   "cell_type": "code",
   "execution_count": 23,
   "metadata": {},
   "outputs": [
    {
     "data": {
      "text/plain": [
       "0"
      ]
     },
     "execution_count": 23,
     "metadata": {},
     "output_type": "execute_result"
    }
   ],
   "source": [
    "len(test_solo_y[test_solo_y < 0])"
   ]
  },
  {
   "cell_type": "code",
   "execution_count": 24,
   "metadata": {},
   "outputs": [
    {
     "data": {
      "text/plain": [
       "array([0.68214632, 0.3505412 , 0.11160152, 0.56770122, 0.14748944])"
      ]
     },
     "execution_count": 24,
     "metadata": {},
     "output_type": "execute_result"
    }
   ],
   "source": [
    "test_solo_y[:5]"
   ]
  },
  {
   "cell_type": "code",
   "execution_count": 25,
   "metadata": {},
   "outputs": [],
   "source": [
    "y_solo = pd.DataFrame(columns=['Id','winPlacePerc'])"
   ]
  },
  {
   "cell_type": "code",
   "execution_count": 26,
   "metadata": {},
   "outputs": [],
   "source": [
    "y_solo['Id'] = test_solo['Id']"
   ]
  },
  {
   "cell_type": "code",
   "execution_count": 27,
   "metadata": {},
   "outputs": [],
   "source": [
    "y_solo['winPlacePerc'] = test_solo_y"
   ]
  },
  {
   "cell_type": "code",
   "execution_count": 30,
   "metadata": {},
   "outputs": [
    {
     "data": {
      "text/html": [
       "<div>\n",
       "<style scoped>\n",
       "    .dataframe tbody tr th:only-of-type {\n",
       "        vertical-align: middle;\n",
       "    }\n",
       "\n",
       "    .dataframe tbody tr th {\n",
       "        vertical-align: top;\n",
       "    }\n",
       "\n",
       "    .dataframe thead th {\n",
       "        text-align: right;\n",
       "    }\n",
       "</style>\n",
       "<table border=\"1\" class=\"dataframe\">\n",
       "  <thead>\n",
       "    <tr style=\"text-align: right;\">\n",
       "      <th></th>\n",
       "      <th>Id</th>\n",
       "      <th>winPlacePerc</th>\n",
       "    </tr>\n",
       "  </thead>\n",
       "  <tbody>\n",
       "    <tr>\n",
       "      <th>0</th>\n",
       "      <td>37ae98f31ca542</td>\n",
       "      <td>0.682146</td>\n",
       "    </tr>\n",
       "    <tr>\n",
       "      <th>1</th>\n",
       "      <td>6425cf14b2d488</td>\n",
       "      <td>0.350541</td>\n",
       "    </tr>\n",
       "    <tr>\n",
       "      <th>2</th>\n",
       "      <td>494d3d9fad73b2</td>\n",
       "      <td>0.111602</td>\n",
       "    </tr>\n",
       "    <tr>\n",
       "      <th>3</th>\n",
       "      <td>e59dd1435a2ecf</td>\n",
       "      <td>0.567701</td>\n",
       "    </tr>\n",
       "    <tr>\n",
       "      <th>4</th>\n",
       "      <td>3e4413d4780f7c</td>\n",
       "      <td>0.147489</td>\n",
       "    </tr>\n",
       "  </tbody>\n",
       "</table>\n",
       "</div>"
      ],
      "text/plain": [
       "               Id  winPlacePerc\n",
       "0  37ae98f31ca542      0.682146\n",
       "1  6425cf14b2d488      0.350541\n",
       "2  494d3d9fad73b2      0.111602\n",
       "3  e59dd1435a2ecf      0.567701\n",
       "4  3e4413d4780f7c      0.147489"
      ]
     },
     "execution_count": 30,
     "metadata": {},
     "output_type": "execute_result"
    }
   ],
   "source": [
    "y_solo.head()"
   ]
  },
  {
   "cell_type": "code",
   "execution_count": 31,
   "metadata": {},
   "outputs": [],
   "source": [
    "#y_solo.to_csv('./predict_for_y/y_solo.csv',index=False)"
   ]
  }
 ],
 "metadata": {
  "kernelspec": {
   "display_name": "Python 3",
   "language": "python",
   "name": "python3"
  },
  "language_info": {
   "codemirror_mode": {
    "name": "ipython",
    "version": 3
   },
   "file_extension": ".py",
   "mimetype": "text/x-python",
   "name": "python",
   "nbconvert_exporter": "python",
   "pygments_lexer": "ipython3",
   "version": "3.6.7"
  }
 },
 "nbformat": 4,
 "nbformat_minor": 2
}
